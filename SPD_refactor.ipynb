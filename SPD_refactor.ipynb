{
  "cells": [
    {
      "cell_type": "markdown",
      "id": "cb33f86f-c501-4819-87f8-a68149fac2c2",
      "metadata": {
        "id": "cb33f86f-c501-4819-87f8-a68149fac2c2"
      },
      "source": [
        "# SPD Refactor"
      ]
    },
    {
      "cell_type": "markdown",
      "source": [
        "## Setup"
      ],
      "metadata": {
        "id": "3doa6wl-zm6y"
      },
      "id": "3doa6wl-zm6y"
    },
    {
      "cell_type": "code",
      "execution_count": 27,
      "id": "ba9ac016-9a9d-475c-ac1d-d17c424c2046",
      "metadata": {
        "colab": {
          "base_uri": "https://localhost:8080/"
        },
        "id": "ba9ac016-9a9d-475c-ac1d-d17c424c2046",
        "outputId": "93188492-9069-4cca-a699-006db3eb8d73"
      },
      "outputs": [
        {
          "output_type": "stream",
          "name": "stderr",
          "text": [
            "\u001b[34m\u001b[1mwandb\u001b[0m: \u001b[33mWARNING\u001b[0m Calling wandb.login() after wandb.init() has no effect.\n"
          ]
        },
        {
          "output_type": "execute_result",
          "data": {
            "text/plain": [
              "True"
            ]
          },
          "metadata": {},
          "execution_count": 27
        }
      ],
      "source": [
        "import torch\n",
        "from torch import Tensor\n",
        "import torch.nn as nn\n",
        "import torch.nn.functional as F\n",
        "from torch.utils.data import Dataset, DataLoader\n",
        "import numpy as np\n",
        "import einops\n",
        "import typing\n",
        "from tqdm import tqdm\n",
        "import wandb\n",
        "import matplotlib.pyplot as plt\n",
        "wandb.login()"
      ]
    },
    {
      "cell_type": "code",
      "execution_count": 90,
      "id": "762ffe7b-b5db-4b0e-b3d3-a73627f0ff27",
      "metadata": {
        "id": "762ffe7b-b5db-4b0e-b3d3-a73627f0ff27"
      },
      "outputs": [],
      "source": [
        "DEVICE = \"cuda\"\n",
        "CONFIG = {\n",
        "    \"num_layers\": 1,\n",
        "    \"pre_embed_size\": 100,\n",
        "    \"in_size\": 1000,\n",
        "    \"hidden_size\": 50,\n",
        "    \"subcomponents_per_layer\": 120,\n",
        "    \"beta_1\": 1.0,\n",
        "    \"beta_2\": 1.0,\n",
        "    \"beta_3\": 0.1,\n",
        "    \"causal_imp_min\": 1.0,\n",
        "    \"num_mask_samples\": 20,\n",
        "    \"importance_mlp_size\": 5,\n",
        "}\n",
        "TRAIN_CONFIG = {\n",
        "    \"lr\": 8e-3,\n",
        "    \"lr_step_size\": 8,\n",
        "    \"lr_gamma\": 0.5,\n",
        "}\n",
        "BATCH_SIZE=128\n",
        "NUM_EPOCHS=25"
      ]
    },
    {
      "cell_type": "markdown",
      "source": [
        "## Defining and testing toy model to decompose"
      ],
      "metadata": {
        "id": "4MhYvYq1zpuN"
      },
      "id": "4MhYvYq1zpuN"
    },
    {
      "cell_type": "code",
      "execution_count": 79,
      "id": "bd5934db-ae74-49aa-8bf1-2fe24f386d78",
      "metadata": {
        "colab": {
          "base_uri": "https://localhost:8080/"
        },
        "id": "bd5934db-ae74-49aa-8bf1-2fe24f386d78",
        "outputId": "00f34841-8e54-4430-f041-0d3b19b36a23"
      },
      "outputs": [
        {
          "output_type": "stream",
          "name": "stdout",
          "text": [
            "cuda\n"
          ]
        },
        {
          "output_type": "stream",
          "name": "stderr",
          "text": [
            "Epoch 1/25: 100%|██████████| 1024/1024 [00:02<00:00, 447.54it/s]\n"
          ]
        },
        {
          "output_type": "stream",
          "name": "stdout",
          "text": [
            "Epoch 1: avg MSE loss = 0.143103\n"
          ]
        },
        {
          "output_type": "stream",
          "name": "stderr",
          "text": [
            "Epoch 2/25: 100%|██████████| 1024/1024 [00:02<00:00, 452.35it/s]\n"
          ]
        },
        {
          "output_type": "stream",
          "name": "stdout",
          "text": [
            "Epoch 2: avg MSE loss = 0.030537\n"
          ]
        },
        {
          "output_type": "stream",
          "name": "stderr",
          "text": [
            "Epoch 3/25: 100%|██████████| 1024/1024 [00:02<00:00, 442.74it/s]\n"
          ]
        },
        {
          "output_type": "stream",
          "name": "stdout",
          "text": [
            "Epoch 3: avg MSE loss = 0.038566\n"
          ]
        },
        {
          "output_type": "stream",
          "name": "stderr",
          "text": [
            "Epoch 4/25: 100%|██████████| 1024/1024 [00:02<00:00, 433.62it/s]\n"
          ]
        },
        {
          "output_type": "stream",
          "name": "stdout",
          "text": [
            "Epoch 4: avg MSE loss = 0.061016\n"
          ]
        },
        {
          "output_type": "stream",
          "name": "stderr",
          "text": [
            "Epoch 5/25: 100%|██████████| 1024/1024 [00:02<00:00, 444.56it/s]\n"
          ]
        },
        {
          "output_type": "stream",
          "name": "stdout",
          "text": [
            "Epoch 5: avg MSE loss = 10.702161\n"
          ]
        },
        {
          "output_type": "stream",
          "name": "stderr",
          "text": [
            "Epoch 6/25: 100%|██████████| 1024/1024 [00:02<00:00, 472.79it/s]\n"
          ]
        },
        {
          "output_type": "stream",
          "name": "stdout",
          "text": [
            "Epoch 6: avg MSE loss = 0.064332\n"
          ]
        },
        {
          "output_type": "stream",
          "name": "stderr",
          "text": [
            "Epoch 7/25: 100%|██████████| 1024/1024 [00:02<00:00, 473.59it/s]\n"
          ]
        },
        {
          "output_type": "stream",
          "name": "stdout",
          "text": [
            "Epoch 7: avg MSE loss = 0.059393\n"
          ]
        },
        {
          "output_type": "stream",
          "name": "stderr",
          "text": [
            "Epoch 8/25: 100%|██████████| 1024/1024 [00:02<00:00, 469.06it/s]\n"
          ]
        },
        {
          "output_type": "stream",
          "name": "stdout",
          "text": [
            "Epoch 8: avg MSE loss = 0.045095\n"
          ]
        },
        {
          "output_type": "stream",
          "name": "stderr",
          "text": [
            "Epoch 9/25: 100%|██████████| 1024/1024 [00:02<00:00, 472.98it/s]\n"
          ]
        },
        {
          "output_type": "stream",
          "name": "stdout",
          "text": [
            "Epoch 9: avg MSE loss = 0.033756\n"
          ]
        },
        {
          "output_type": "stream",
          "name": "stderr",
          "text": [
            "Epoch 10/25: 100%|██████████| 1024/1024 [00:02<00:00, 459.69it/s]\n"
          ]
        },
        {
          "output_type": "stream",
          "name": "stdout",
          "text": [
            "Epoch 10: avg MSE loss = 0.026268\n"
          ]
        },
        {
          "output_type": "stream",
          "name": "stderr",
          "text": [
            "Epoch 11/25: 100%|██████████| 1024/1024 [00:02<00:00, 458.74it/s]\n"
          ]
        },
        {
          "output_type": "stream",
          "name": "stdout",
          "text": [
            "Epoch 11: avg MSE loss = 0.026390\n"
          ]
        },
        {
          "output_type": "stream",
          "name": "stderr",
          "text": [
            "Epoch 12/25: 100%|██████████| 1024/1024 [00:02<00:00, 455.71it/s]\n"
          ]
        },
        {
          "output_type": "stream",
          "name": "stdout",
          "text": [
            "Epoch 12: avg MSE loss = 0.027778\n"
          ]
        },
        {
          "output_type": "stream",
          "name": "stderr",
          "text": [
            "Epoch 13/25: 100%|██████████| 1024/1024 [00:02<00:00, 453.89it/s]\n"
          ]
        },
        {
          "output_type": "stream",
          "name": "stdout",
          "text": [
            "Epoch 13: avg MSE loss = 0.033076\n"
          ]
        },
        {
          "output_type": "stream",
          "name": "stderr",
          "text": [
            "Epoch 14/25: 100%|██████████| 1024/1024 [00:02<00:00, 465.35it/s]\n"
          ]
        },
        {
          "output_type": "stream",
          "name": "stdout",
          "text": [
            "Epoch 14: avg MSE loss = 0.048414\n"
          ]
        },
        {
          "output_type": "stream",
          "name": "stderr",
          "text": [
            "Epoch 15/25: 100%|██████████| 1024/1024 [00:02<00:00, 464.74it/s]\n"
          ]
        },
        {
          "output_type": "stream",
          "name": "stdout",
          "text": [
            "Epoch 15: avg MSE loss = 15.205803\n"
          ]
        },
        {
          "output_type": "stream",
          "name": "stderr",
          "text": [
            "Epoch 16/25: 100%|██████████| 1024/1024 [00:02<00:00, 456.03it/s]\n"
          ]
        },
        {
          "output_type": "stream",
          "name": "stdout",
          "text": [
            "Epoch 16: avg MSE loss = 0.062544\n"
          ]
        },
        {
          "output_type": "stream",
          "name": "stderr",
          "text": [
            "Epoch 17/25: 100%|██████████| 1024/1024 [00:02<00:00, 470.25it/s]\n"
          ]
        },
        {
          "output_type": "stream",
          "name": "stdout",
          "text": [
            "Epoch 17: avg MSE loss = 0.056221\n"
          ]
        },
        {
          "output_type": "stream",
          "name": "stderr",
          "text": [
            "Epoch 18/25: 100%|██████████| 1024/1024 [00:02<00:00, 468.61it/s]\n"
          ]
        },
        {
          "output_type": "stream",
          "name": "stdout",
          "text": [
            "Epoch 18: avg MSE loss = 0.041173\n"
          ]
        },
        {
          "output_type": "stream",
          "name": "stderr",
          "text": [
            "Epoch 19/25: 100%|██████████| 1024/1024 [00:02<00:00, 470.18it/s]\n"
          ]
        },
        {
          "output_type": "stream",
          "name": "stdout",
          "text": [
            "Epoch 19: avg MSE loss = 0.031023\n"
          ]
        },
        {
          "output_type": "stream",
          "name": "stderr",
          "text": [
            "Epoch 20/25: 100%|██████████| 1024/1024 [00:02<00:00, 467.62it/s]\n"
          ]
        },
        {
          "output_type": "stream",
          "name": "stdout",
          "text": [
            "Epoch 20: avg MSE loss = 0.024819\n"
          ]
        },
        {
          "output_type": "stream",
          "name": "stderr",
          "text": [
            "Epoch 21/25: 100%|██████████| 1024/1024 [00:02<00:00, 452.37it/s]\n"
          ]
        },
        {
          "output_type": "stream",
          "name": "stdout",
          "text": [
            "Epoch 21: avg MSE loss = 0.044299\n"
          ]
        },
        {
          "output_type": "stream",
          "name": "stderr",
          "text": [
            "Epoch 22/25: 100%|██████████| 1024/1024 [00:02<00:00, 453.66it/s]\n"
          ]
        },
        {
          "output_type": "stream",
          "name": "stdout",
          "text": [
            "Epoch 22: avg MSE loss = 0.030726\n"
          ]
        },
        {
          "output_type": "stream",
          "name": "stderr",
          "text": [
            "Epoch 23/25: 100%|██████████| 1024/1024 [00:02<00:00, 461.91it/s]\n"
          ]
        },
        {
          "output_type": "stream",
          "name": "stdout",
          "text": [
            "Epoch 23: avg MSE loss = 0.029039\n"
          ]
        },
        {
          "output_type": "stream",
          "name": "stderr",
          "text": [
            "Epoch 24/25: 100%|██████████| 1024/1024 [00:02<00:00, 465.72it/s]\n"
          ]
        },
        {
          "output_type": "stream",
          "name": "stdout",
          "text": [
            "Epoch 24: avg MSE loss = 0.037365\n"
          ]
        },
        {
          "output_type": "stream",
          "name": "stderr",
          "text": [
            "Epoch 25/25: 100%|██████████| 1024/1024 [00:02<00:00, 463.61it/s]"
          ]
        },
        {
          "output_type": "stream",
          "name": "stdout",
          "text": [
            "Epoch 25: avg MSE loss = 0.056732\n"
          ]
        },
        {
          "output_type": "stream",
          "name": "stderr",
          "text": [
            "\n"
          ]
        }
      ],
      "source": [
        "class ToyResidMLP(nn.Module):\n",
        "    def __init__(self, config, device=\"cpu\"):\n",
        "        super().__init__()\n",
        "        # Initialize Weights for the\n",
        "        self.num_layers, self.pre_embed_size, self.in_size, self.hidden_size = config[\"num_layers\"], config[\"pre_embed_size\"], config[\"in_size\"], config[\"hidden_size\"]\n",
        "        self.device = device\n",
        "        #self.W_embed = nn.Parameter(torch.empty((self.pre_embed_size, self.in_size)))\n",
        "        #self.W_unembed = nn.Parameter(torch.empty((self.in_size, self.pre_embed_size)))\n",
        "        self.W_embed = torch.randn((self.pre_embed_size, self.in_size), device=device)\n",
        "        self.W_embed = self.W_embed / self.W_embed.norm(dim=1, keepdim=True)\n",
        "        self.W_unembed = self.W_embed.T\n",
        "\n",
        "        self.W_in = nn.ParameterList([torch.empty((self.in_size, self.hidden_size), device=device) for i in range(self.num_layers)])\n",
        "        self.W_out = nn.ParameterList([torch.empty((self.hidden_size, self.in_size), device=device) for i in range(self.num_layers)])\n",
        "        self.b = nn.ParameterList([torch.zeros((self.hidden_size,), device=device) for i in range(self.num_layers)])\n",
        "\n",
        "        for param in [self.W_embed, self.W_unembed] + list(self.W_in) + list(self.W_out):\n",
        "            nn.init.xavier_normal_(param)\n",
        "\n",
        "    def forward(self, x):\n",
        "\n",
        "        assert x.shape[1] == self.pre_embed_size, f\"Input shape {x.shape[0]} does not match model's accepted size {self.pre_embed_size}\"\n",
        "        # embed\n",
        "        x_resid = torch.einsum(\"np,pi->ni\", x.clone(), self.W_embed)\n",
        "        N, D = x_resid.shape\n",
        "\n",
        "        for l in range(self.num_layers):\n",
        "            hidden = F.relu(torch.einsum(\"nd,dh -> nh\", x_resid, self.W_in[l]) + self.b[l])\n",
        "            layer_out = torch.einsum(\"nh,hd -> nd\", hidden, self.W_out[l])\n",
        "            x_resid = x_resid + layer_out\n",
        "        # am I supposed to have a embed and out?\n",
        "        x_out = torch.einsum(\"ni,ip->np\", x_resid, self.W_unembed)\n",
        "        return x_out\n",
        "\n",
        "\n",
        "# I vibecoded this originally, and regretted it.\n",
        "class SparseAutoencoderDataset(Dataset):\n",
        "    def __init__(self, in_dim=100, n_samples=10000, sparsity=0.9, device=\"cpu\"):\n",
        "        super().__init__()\n",
        "        self.in_dim = in_dim\n",
        "        self.n_samples = n_samples\n",
        "        self.device = device\n",
        "\n",
        "        # Pre-generate all samples\n",
        "        self.inputs = []\n",
        "        self.targets = []\n",
        "\n",
        "        for _ in range(n_samples):\n",
        "            x = np.random.uniform(-1, 1, size=(in_dim))\n",
        "            mask = np.random.rand(in_dim) > sparsity  # 1-sparsity fraction will be nonzero\n",
        "            x = x * mask\n",
        "            x = torch.tensor(x, dtype=torch.float32, device=device)\n",
        "\n",
        "            target = x + F.relu(x)\n",
        "\n",
        "            self.inputs.append(x)\n",
        "            self.targets.append(target)\n",
        "\n",
        "    def __len__(self):\n",
        "        return self.n_samples\n",
        "\n",
        "    def __getitem__(self, idx):\n",
        "        return self.inputs[idx], self.targets[idx]\n",
        "\n",
        "def train_toy_resid_mlp(\n",
        "    model,\n",
        "    dataloader,\n",
        "    lr=1e-3,\n",
        "    num_epochs=10,\n",
        "    device=\"cuda\",\n",
        "    print_every=1\n",
        "):\n",
        "    model.train()\n",
        "    model.to(device)\n",
        "    optimizer = torch.optim.AdamW(model.parameters(), lr=lr)\n",
        "    loss_fn = nn.MSELoss()\n",
        "    for epoch in range(num_epochs):\n",
        "        total_loss = 0.0\n",
        "        for x, y in tqdm(dataloader, desc=f\"Epoch {epoch+1}/{num_epochs}\"):\n",
        "            x = x.to(device)\n",
        "            y = y.to(device)\n",
        "            optimizer.zero_grad()\n",
        "            y_pred = model(x)\n",
        "            loss = loss_fn(y_pred, y)\n",
        "            loss.backward()\n",
        "            optimizer.step()\n",
        "            total_loss += loss.item() * x.size(0)\n",
        "        avg_loss = total_loss / len(dataloader.dataset)\n",
        "        if (epoch+1) % print_every == 0:\n",
        "            print(f\"Epoch {epoch+1}: avg MSE loss = {avg_loss:.6f}\")\n",
        "\n",
        "\n",
        "## LLM-Generated Usage Example\n",
        "if __name__ == \"__main__\":\n",
        "    device=DEVICE\n",
        "    config=CONFIG\n",
        "\n",
        "    dataset = SparseAutoencoderDataset(\n",
        "        in_dim=100,\n",
        "        n_samples=131072,\n",
        "        sparsity=0.7,\n",
        "        device=device,\n",
        "    )\n",
        "\n",
        "    print(device)\n",
        "    dataloader = DataLoader(dataset, batch_size=128, shuffle=True)\n",
        "    # Model\n",
        "    toy_model = ToyResidMLP(config, device=device)\n",
        "    # Train\n",
        "    train_toy_resid_mlp(toy_model, dataloader, lr=8e-2, num_epochs=25, device=device)"
      ]
    },
    {
      "cell_type": "code",
      "source": [
        "def visualize_model_outputs(toy_model, dataloader, device=\"cuda\", idx=0):\n",
        "    \"\"\"\n",
        "    Visualize the outputs of the SPD model and its target model on a single evaluation example.\n",
        "\n",
        "    Args:\n",
        "        model: SPDModelMLP instance (should have .target_model attribute)\n",
        "        dataloader: DataLoader yielding (inputs, targets)\n",
        "        device: Device to run the model on\n",
        "        idx: Index of the example in the batch to visualize\n",
        "    \"\"\"\n",
        "    # Get a batch from the dataloader\n",
        "    batch = next(iter(dataloader))\n",
        "    x, y = batch[0].to(device), batch[1].to(device)\n",
        "\n",
        "    # Run both models on the batch\n",
        "    with torch.no_grad():\n",
        "        toy_out = toy_model(x)\n",
        "\n",
        "    # Select the example to visualize\n",
        "    target_out_example = toy_out[idx].detach().cpu().numpy()\n",
        "    input_example = x[idx].detach().cpu().numpy()\n",
        "    target_example = y[idx].detach().cpu().numpy()\n",
        "\n",
        "    # Plot all outputs for comparison\n",
        "    fig, axes = plt.subplots(2, 2, figsize=(12, 8))\n",
        "\n",
        "    # Input\n",
        "    axes[0, 0].plot(input_example, marker='o')\n",
        "    axes[0, 0].set_title(\"Input Example\")\n",
        "    axes[0, 0].set_xlabel(\"Feature\")\n",
        "    axes[0, 0].set_ylabel(\"Value\")\n",
        "\n",
        "    # Target\n",
        "    axes[0, 1].plot(target_example, marker='o', color='gray')\n",
        "    axes[0, 1].set_title(\"Target Example\")\n",
        "    axes[0, 1].set_xlabel(\"Feature\")\n",
        "    axes[0, 1].set_ylabel(\"Value\")\n",
        "\n",
        "    # Target Model Output\n",
        "    axes[1, 1].plot(target_out_example, marker='o', color='blue')\n",
        "    axes[1, 1].set_title(\"Target Model Output\")\n",
        "    axes[1, 1].set_xlabel(\"Feature\")\n",
        "    axes[1, 1].set_ylabel(\"Value\")\n",
        "\n",
        "    # Target Model Output\n",
        "    axes[1, 0].plot(input_example, marker='o')\n",
        "    axes[1, 0].plot(target_example, marker='o', color='gray')\n",
        "    axes[1, 0].plot(target_out_example, marker='o', color='blue')\n",
        "    axes[1, 0].set_title(\"Overlay\")\n",
        "\n",
        "    plt.tight_layout()\n",
        "    plt.show()\n",
        "\n",
        "# Pick a sample with negative values\n",
        "sample_input, sample_target = dataset[5]\n",
        "with torch.no_grad():\n",
        "    output = toy_model(sample_input.unsqueeze(0)).squeeze()\n",
        "\n",
        "# Check a few values\n",
        "print(f\"Input: {sample_input[:5]}\")\n",
        "print(f\"Target (ReLU): {sample_target[:5]}\")\n",
        "print(f\"Model output: {output[:5]}\")\n",
        "# Example usage:\n",
        "visualize_model_outputs(toy_model, dataloader, device=DEVICE, idx=10)\n"
      ],
      "metadata": {
        "colab": {
          "base_uri": "https://localhost:8080/",
          "height": 859
        },
        "id": "Rm9bN_yM3Be_",
        "outputId": "a41e007b-9415-452c-95d2-1beed5fb78cc"
      },
      "id": "Rm9bN_yM3Be_",
      "execution_count": 82,
      "outputs": [
        {
          "output_type": "stream",
          "name": "stdout",
          "text": [
            "Input: tensor([-0.0000, -0.7916,  0.1678,  0.0000, -0.0000], device='cuda:0')\n",
            "Target (ReLU): tensor([ 0.0000, -0.7916,  0.3357,  0.0000,  0.0000], device='cuda:0')\n",
            "Model output: tensor([-0.1071, -1.5859,  0.1033, -0.1089, -0.0635], device='cuda:0')\n"
          ]
        },
        {
          "output_type": "display_data",
          "data": {
            "text/plain": [
              "<Figure size 1200x800 with 4 Axes>"
            ],
            "image/png": "[encoded data removed]"
          },
          "metadata": {}
        }
      ]
    },
    {
      "cell_type": "markdown",
      "source": [
        "## Training and evaluating SPD model"
      ],
      "metadata": {
        "id": "014F4uKyzIjS"
      },
      "id": "014F4uKyzIjS"
    },
    {
      "cell_type": "code",
      "execution_count": 83,
      "id": "29df3ae6-4c76-4b98-9f27-1960aecd8c70",
      "metadata": {
        "id": "29df3ae6-4c76-4b98-9f27-1960aecd8c70"
      },
      "outputs": [],
      "source": [
        "class Subcomponent(nn.Module):\n",
        "    # Subcomponents approximate a in_dim x out_dim matrix with c components\n",
        "    def __init__(self, shape, num_components, device=\"cuda\"):\n",
        "        super().__init__()\n",
        "        self.in_dims = shape[0]\n",
        "        self.out_dims = shape[1]\n",
        "        self.shape = shape\n",
        "        self.C = num_components\n",
        "        self.device=device\n",
        "\n",
        "        self.V = nn.Parameter(torch.empty((self.in_dims, self.C), device=device))\n",
        "        self.U = nn.Parameter(torch.empty((self.C, self.out_dims), device=device))\n",
        "\n",
        "        nn.init.xavier_normal_(self.V)\n",
        "        nn.init.xavier_normal_(self.U)\n",
        "\n",
        "    def forward(self, x, mask=None):\n",
        "        # self is shape (in_dims, C), (C, out_dims) -> (in_dims, out_dims)\n",
        "        # x is shape (N, in_dims)\n",
        "        # mask is shape (N, C)\n",
        "        N, in_dims = x.shape\n",
        "\n",
        "        if mask is None:\n",
        "            activations = x @ self.V\n",
        "        else:\n",
        "            activations = x @ self.V * mask\n",
        "        out = activations @ self.U\n",
        "\n",
        "        return out, activations\n",
        "\n",
        "    def return_weights(self):\n",
        "        weights = self.V @ self.U\n",
        "        return weights"
      ]
    },
    {
      "cell_type": "code",
      "execution_count": 84,
      "id": "338108c5-af4d-416b-b2fc-822616c07e3c",
      "metadata": {
        "id": "338108c5-af4d-416b-b2fc-822616c07e3c"
      },
      "outputs": [],
      "source": [
        "class ImportancePredictor(nn.Module):\n",
        "    def __init__(self, hidden_size, num_components, device=\"cuda\"):\n",
        "        super().__init__()\n",
        "        self.hidden_size = hidden_size\n",
        "        self.C = num_components\n",
        "        self.device = device\n",
        "\n",
        "        # These are techncially (C, hidden, 1) and (C, 1, hidden)\n",
        "        # but squeezing and unsqueezing is less efficient\n",
        "        self.W_gate_in = nn.Parameter(torch.empty((self.C, hidden_size), device=device))\n",
        "        self.W_gate_out = nn.Parameter(torch.empty((self.C, hidden_size), device=device))\n",
        "\n",
        "        # I think that nonzero biases will be easier to learn\n",
        "        self.b_in = nn.Parameter(torch.zeros((self.C, hidden_size), device=device) + 0.1)\n",
        "        self.b_out = nn.Parameter(torch.zeros((self.C,), device=device) + 0.1) # technically shape (C, 1)\n",
        "\n",
        "        nn.init.xavier_normal_(self.W_gate_in)\n",
        "        nn.init.xavier_normal_(self.W_gate_out)\n",
        "\n",
        "\n",
        "    def forward(self, subcomponent_activations):\n",
        "        # Activations are shape (N, C) (see Subcomponent.forward)\n",
        "        # In_weights are shape (C, hidden_size)\n",
        "        hidden = F.gelu(torch.einsum(\"nc,cs->ncs\", subcomponent_activations, self.W_gate_in) + self.b_in)\n",
        "        prediction_out = torch.einsum(\"ncs,cs->nc\", hidden, self.W_gate_out) + self.b_out\n",
        "\n",
        "        return prediction_out # now shape (N,C). Unsqueeze to get (N,C,1)"
      ]
    },
    {
      "cell_type": "code",
      "execution_count": 85,
      "id": "504fc5cc-c9a3-4738-ae7e-971391b81ed3",
      "metadata": {
        "id": "504fc5cc-c9a3-4738-ae7e-971391b81ed3"
      },
      "outputs": [],
      "source": [
        "class MLPSubcomponentLayer(nn.Module):\n",
        "    def __init__(self, embed_size, hidden_size, num_components, device=\"cuda\"):\n",
        "        super().__init__()\n",
        "\n",
        "        # \"in matrix\" since `in` is a builtin thing\n",
        "        self.in_mat = Subcomponent((embed_size, hidden_size), num_components, device=device)\n",
        "        self.out_mat = Subcomponent((hidden_size, embed_size), num_components, device=device)\n",
        "        self.bias = nn.Parameter(torch.zeros((1, hidden_size,), device=device))\n",
        "\n",
        "    def forward(self, x, masks=None):\n",
        "        # Mask should be dict {in: (N, C), out: (N,C)}\n",
        "        if masks is None:\n",
        "            masks={\"in\": None, \"out\": None} # So that mask[0] won't break; instead will pass None in which is ok\n",
        "        mat_output, activs_in = self.in_mat(x, masks[\"in\"])\n",
        "        hidden= F.relu(mat_output + self.bias)\n",
        "        out, activs_out = self.out_mat(hidden, masks[\"out\"])\n",
        "        return out, {\"in\": activs_in, \"out\": activs_out}\n",
        "\n",
        "    def return_weights_layer(self):\n",
        "        return {\"in\": self.in_mat.return_weights(), \"out\": self.out_mat.return_weights()}\n",
        ""
      ]
    },
    {
      "cell_type": "code",
      "execution_count": 86,
      "id": "2dbd28d5-2bb2-4f79-a155-7305ca013d17",
      "metadata": {
        "id": "2dbd28d5-2bb2-4f79-a155-7305ca013d17"
      },
      "outputs": [],
      "source": [
        "class SPDModelMLP(nn.Module):\n",
        "    def __init__(self, target_model, config, device=\"cuda\"):\n",
        "        super().__init__()\n",
        "        self.device = device\n",
        "        object.__setattr__(self, \"target_model\", target_model) # sets pointer to target_model without registering its parameters as subsidiary\n",
        "\n",
        "        # Unpack Config\n",
        "        self.C, self.num_layers, self.pre_embed_size, self.embed_size, self.hidden_size, self.imp_hidden_size = config[\"subcomponents_per_layer\"], config[\"num_layers\"], config[\"pre_embed_size\"], config[\"in_size\"], config[\"hidden_size\"], config[\"importance_mlp_size\"]\n",
        "        self.hypers = dict(list(config.items())[4:])\n",
        "        self.num_matrices = self.num_layers * 2 + 2\n",
        "        self.P = sum(p.numel() for p in self.target_model.parameters())\n",
        "\n",
        "\n",
        "        # Define weights/subcomponents\n",
        "        self.embed = Subcomponent((self.pre_embed_size, self.embed_size), self.C, device=device)\n",
        "        self.unembed = Subcomponent((self.embed_size, self.pre_embed_size), self.C, device=device)\n",
        "\n",
        "        self.layers = nn.ModuleList(\n",
        "            MLPSubcomponentLayer(self.embed_size, self.hidden_size, self.C, device=device) for _ in range(self.num_layers)\n",
        "        )\n",
        "\n",
        "        # Define Importance Predictors\n",
        "        # You can index importance predictors via imp_pred_ers[layer][\"in\"/\"out\"]\n",
        "        self.imp_pred_ers = nn.ModuleList(\n",
        "            [nn.ModuleDict({\n",
        "                name: ImportancePredictor(self.imp_hidden_size, self.C, device=device) for name in [\"in\", \"out\"]\n",
        "            }) for l in range(self.num_layers)] +\n",
        "            [nn.ModuleDict({\n",
        "                name: ImportancePredictor(self.imp_hidden_size, self.C, device=device) for name in [\"embed\", \"unembed\"]\n",
        "            })]\n",
        "        )\n",
        "\n",
        "    def forward(self, x, masks=None, return_activs_weights=False):\n",
        "        # Create the masks object so that dict keys never break (simplifies code)\n",
        "        if masks is None:\n",
        "            layer_masks = [\n",
        "                { name: None for name in (\"in\", \"out\") }\n",
        "                for _ in range(self.num_layers)\n",
        "            ]\n",
        "            end_masks = { name: None for name in (\"embed\", \"unembed\") }\n",
        "            masks = layer_masks + [end_masks]\n",
        "\n",
        "\n",
        "        activations = []\n",
        "\n",
        "        # regular forward pass\n",
        "        x, embed_activs = self.embed(x, masks[-1][\"embed\"])\n",
        "        for l in range(self.num_layers):\n",
        "            x, layer_activations = self.layers[l](x, masks=masks[l])\n",
        "            activations.append(layer_activations)\n",
        "\n",
        "        x, unembed_activs = self.unembed(x, masks[-1][\"unembed\"])\n",
        "        activations.append({\"embed\": embed_activs, \"unembed\": unembed_activs})\n",
        "\n",
        "\n",
        "        if not return_activs_weights:\n",
        "            return x\n",
        "        else:\n",
        "            weights = []\n",
        "\n",
        "            for l in range(self.num_layers):\n",
        "                weights.append(self.layers[l].return_weights_layer())\n",
        "            weights.append({\"embed\": self.embed.return_weights(), \"unembed\": self.unembed.return_weights()})\n",
        "\n",
        "            return x, activations, weights"
      ]
    },
    {
      "cell_type": "code",
      "execution_count": 87,
      "id": "8539ebae-274f-4d8c-83a5-c57ce0cbfeab",
      "metadata": {
        "id": "8539ebae-274f-4d8c-83a5-c57ce0cbfeab"
      },
      "outputs": [],
      "source": [
        "class HardSigmoid(nn.Module):\n",
        "    \"\"\"\n",
        "    Implements the hard sigmoid activation function as described in the paper:\n",
        "        σ_H(x) = 0 if x <= 0\n",
        "               = x if 0 < x < 1\n",
        "               = 1 if x >= 1\n",
        "    This is equivalent to: torch.clamp(x, min=0.0, max=1.0)\n",
        "    \"\"\"\n",
        "    def __init__(self):\n",
        "        super().__init__()\n",
        "\n",
        "    def forward(self, x):\n",
        "        # Clamp values between 0 and 1\n",
        "        return torch.clamp(x, min=0.0, max=1.0)\n",
        "\n",
        "\n",
        "class LowerLeakyHardSigmoid(nn.Module):\n",
        "    \"\"\"\n",
        "    Lower-leaky hard sigmoid: σH,lower(x)\n",
        "    - 0.01*x if x <= 0 (leaky below 0)\n",
        "    - x if 0 <= x <= 1 (linear in middle)\n",
        "    - 1 if x >= 1 (saturated above 1)\n",
        "\n",
        "    Used for forward pass masks in stochastic reconstruction losses.\n",
        "    \"\"\"\n",
        "    def __init__(self, leak_slope=0.01):\n",
        "        super().__init__()\n",
        "        self.leak_slope = leak_slope\n",
        "\n",
        "    def forward(self, x):\n",
        "        return torch.where(\n",
        "            x <= 0,\n",
        "            self.leak_slope * x,\n",
        "            torch.where(\n",
        "                x >= 1,\n",
        "                torch.ones_like(x),\n",
        "                x\n",
        "            )\n",
        "        )\n",
        "\n",
        "class UpperLeakyHardSigmoid(nn.Module):\n",
        "    \"\"\"\n",
        "    Upper-leaky hard sigmoid: σH,upper(x)\n",
        "    - 0 if x <= 0 (hard cutoff below 0)\n",
        "    - x if 0 <= x <= 1 (linear in middle)\n",
        "    - 1 + 0.01*(x-1) if x >= 1 (leaky above 1)\n",
        "\n",
        "    Used for importance loss computation.\n",
        "    \"\"\"\n",
        "    def __init__(self, leak_slope=0.01):\n",
        "        super().__init__()\n",
        "        self.leak_slope = leak_slope\n",
        "\n",
        "    def forward(self, x):\n",
        "        return torch.where(\n",
        "            x <= 0,\n",
        "            torch.zeros_like(x),\n",
        "            torch.where(\n",
        "                x >= 1,\n",
        "                1 + self.leak_slope * (x - 1),\n",
        "                x\n",
        "            )\n",
        "        )"
      ]
    },
    {
      "cell_type": "code",
      "execution_count": 88,
      "id": "bf25bf6a-c788-4186-8190-b7d136c30949",
      "metadata": {
        "id": "bf25bf6a-c788-4186-8190-b7d136c30949"
      },
      "outputs": [],
      "source": [
        "def train_spd(spd_model, dataloader, train_config, num_epochs=1):\n",
        "\n",
        "    # SPD model is a model\n",
        "    spd_model.train()\n",
        "    print(f\"Training on device {spd_model.device}\")\n",
        "    optimizer = torch.optim.AdamW(spd_model.parameters(), lr = train_config[\"lr\"])\n",
        "\n",
        "    scheduler = torch.optim.lr_scheduler.StepLR(\n",
        "        optimizer,\n",
        "        step_size=train_config[\"lr_step_size\"],   # e.g. every 4 epochs\n",
        "        gamma=train_config[\"lr_gamma\"]      # multiply LR by 0.5 each time\n",
        "    )\n",
        "\n",
        "    # P = sum(p.numel() for p in spd_model.target_model.parameters()) [moved into model]\n",
        "    upper_leaky_sigmoid = UpperLeakyHardSigmoid()\n",
        "    lower_leaky_sigmoid = LowerLeakyHardSigmoid()\n",
        "    scheduler = torch.optim.lr_scheduler.StepLR(\n",
        "        optimizer,\n",
        "        step_size=train_config[\"lr_step_size\"],\n",
        "        gamma=train_config[\"lr_gamma\"]\n",
        "    )\n",
        "\n",
        "    for epoch in range(num_epochs):\n",
        "        total_loss = 0.0\n",
        "        total_l_stoch_rec, total_l_stoch_rec_l, total_l_imp, total_l_faith = 0.0, 0.0, 0.0, 0.0\n",
        "        epoch_lr = f\"{optimizer.param_groups[0]['lr']:.2e}\"\n",
        "        print(f\"Starting epoch {epoch+1}, lr = {epoch_lr}\")\n",
        "\n",
        "        with tqdm(dataloader, desc=f\"Epoch {epoch+1}/{num_epochs}\") as t:\n",
        "            for batch_idx, (x,y) in enumerate(t):\n",
        "                x = x.to(device)\n",
        "                y = y.to(device)\n",
        "\n",
        "                N = x.shape[0]     # x is shape N by in_size\n",
        "                S, C, P, L = spd_model.hypers[\"num_mask_samples\"], spd_model.C, spd_model.P, spd_model.num_layers\n",
        "                target_model = spd_model.target_model\n",
        "                optimizer.zero_grad()\n",
        "\n",
        "                # ====== TARGET MODEL OUTPUT ======\n",
        "                with torch.no_grad():\n",
        "                    target_out = spd_model.target_model(x)\n",
        "\n",
        "                # ====== FAITHFULNESS LOSS ======\n",
        "                spd_output, spd_activations, spd_weights = spd_model(x, return_activs_weights = True)\n",
        "                squared_error = 0\n",
        "\n",
        "                for l in range(L):\n",
        "                    in_diff = target_model.W_in[l] - spd_weights[l][\"in\"]\n",
        "                    out_diff = target_model.W_out[l] - spd_weights[l][\"out\"]\n",
        "                    squared_error_layer = torch.linalg.matrix_norm(in_diff)**2 + torch.linalg.matrix_norm(out_diff)**2\n",
        "                    squared_error = squared_error + squared_error_layer\n",
        "\n",
        "                embed_diff = target_model.W_embed - spd_weights[-1][\"embed\"]\n",
        "                unembed_diff = target_model.W_unembed - spd_weights[-1][\"unembed\"]\n",
        "                squared_error_embed = torch.linalg.matrix_norm(embed_diff)**2 + torch.linalg.matrix_norm(unembed_diff)**2\n",
        "                squared_error = squared_error + squared_error_embed\n",
        "\n",
        "                l_faithfulness = squared_error/P # \"Mean Squared Error\" across parameters\n",
        "\n",
        "\n",
        "                # ===== IMPORTANCE MINIMALITY LOSS ======\n",
        "                l_importance_minimality = 0.0\n",
        "\n",
        "                pred_importances = []\n",
        "\n",
        "                imp_pred_embed = spd_model.imp_pred_ers[-1][\"embed\"](spd_activations[-1][\"embed\"])\n",
        "                imp_pred_unembed = spd_model.imp_pred_ers[-1][\"unembed\"](spd_activations[-1][\"unembed\"])\n",
        "                l_importance_minimality = l_importance_minimality + (upper_leaky_sigmoid(imp_pred_embed)** spd_model.hypers[\"causal_imp_min\"]).sum() + (upper_leaky_sigmoid(imp_pred_unembed) ** spd_model.hypers[\"causal_imp_min\"]).sum()\n",
        "                for l in range(L):\n",
        "                    imp_pred_in = spd_model.imp_pred_ers[l][\"in\"](spd_activations[l][\"in\"])\n",
        "                    imp_pred_out = spd_model.imp_pred_ers[l][\"out\"](spd_activations[l][\"out\"])\n",
        "                    pred_importances.append({\"in\": imp_pred_in, \"out\": imp_pred_out})\n",
        "                    l_importance_minimality = l_importance_minimality + (upper_leaky_sigmoid(imp_pred_in) ** spd_model.hypers[\"causal_imp_min\"]).sum()  + (upper_leaky_sigmoid(imp_pred_out)** spd_model.hypers[\"causal_imp_min\"]).sum()\n",
        "                pred_importances.append({\"embed\": imp_pred_embed, \"unembed\": imp_pred_unembed})\n",
        "\n",
        "                l_importance_minimality /= N\n",
        "\n",
        "\n",
        "                # ===== STOCHASTIC RECONSTRUCTION LOSS ======\n",
        "                l_stochastic_recon = 0.0\n",
        "                l_stochastic_recon_layerwise = 0.0\n",
        "                R = torch.rand((S, N, L+1, 2, C), device=device)\n",
        "\n",
        "                # we have activs in shape (N,C). Stack and unsqueeze(0) to (1,2,N,C) and cat along dim 1 to get (L+1,2,N,C)\n",
        "                stacked_imps = torch.cat([torch.stack((pred_importances[l][\"in\"], pred_importances[l][\"out\"])).reshape(1,2,N,C) for l in range(L)] + [torch.stack((pred_importances[-1][\"embed\"],pred_importances[-1][\"unembed\"])).reshape(1,2,N,C)])\n",
        "                # reshape (L+1, 2, N, C) -> (N, L+1, 2, C)\n",
        "                stacked_imps = torch.movedim(stacked_imps, 2, 0)\n",
        "                # Apply sigmoid and then reshape to (1, N, L+1, 2, C)\n",
        "                G = lower_leaky_sigmoid(stacked_imps).unsqueeze(0)\n",
        "                masks = G + (1-G)*R # shape (S, N, L+1, 2, C)\n",
        "                masks = masks.reshape(S*N, L+1, 2, C)\n",
        "\n",
        "                # Move masks back into layerwise structure\n",
        "                layer_masks = [\n",
        "                    { name: masks[:,l,idx,:] for name, idx in [(\"in\",0), (\"out\",1)] } for l in range(L)\n",
        "                ]\n",
        "                end_masks = { name: masks[:,l+1,idx,:] for name, idx in [(\"embed\", 0), (\"unembed\", 1)] }\n",
        "                masks_dictified = layer_masks + [end_masks]\n",
        "\n",
        "                #Tile inputs (1, N, embed_size) S times to have N_new = S * N -> (N * S, embed_size)\n",
        "                x_repeated = x.clone().unsqueeze(0).expand(S, -1, -1).reshape(S * N, -1)\n",
        "\n",
        "                # Run regular masked loss and update stochastic recon\n",
        "                masked_out = spd_model(x_repeated, masks=masks_dictified)\n",
        "                target_out_tiled = target_out.clone().unsqueeze(0).expand(S, -1, -1).reshape(S*N, -1)\n",
        "                l_stochastic_recon = l_stochastic_recon + torch.linalg.matrix_norm(target_out_tiled-masked_out)**2\n",
        "                l_stochastic_recon /= S\n",
        "\n",
        "                # ===== STOCHASTIC RECONSTRUCTION LAYERWISE LOSS ======\n",
        "                # Create Layerwise Mask constructor\n",
        "                layer_masks_none = [\n",
        "                    { name: None for name in (\"in\", \"out\") }\n",
        "                    for _ in range(L)\n",
        "                ]\n",
        "                end_masks_none = { name: None for name in (\"embed\", \"unembed\") }\n",
        "                layer_mask_constructor = layer_masks_none + [end_masks_none]\n",
        "\n",
        "                # Embed and unembed outs\n",
        "                embed_mask = layer_mask_constructor.copy()\n",
        "                embed_mask[-1][\"embed\"] = masks_dictified[-1][\"embed\"]\n",
        "                embed_out=spd_model(x_repeated, embed_mask)\n",
        "\n",
        "                unembed_mask = layer_mask_constructor.copy()\n",
        "                unembed_mask[-1][\"unembed\"] = masks_dictified[-1][\"unembed\"]\n",
        "                unembed_out=spd_model(x_repeated,unembed_mask)\n",
        "                l_stochastic_recon_layerwise = l_stochastic_recon_layerwise + torch.linalg.matrix_norm(target_out_tiled-embed_out)**2 + torch.linalg.matrix_norm(target_out_tiled-unembed_out)**2\n",
        "\n",
        "                for l in range(l):\n",
        "                    for name in [\"in\", \"out\"]:\n",
        "                        layer_mask = layer_mask_constructor.copy()\n",
        "                        layer_mask[l][name] = masks_dictified[l][name]\n",
        "                        layer_out = spd_model(x_repeated,layer_mask)\n",
        "                        l_stochastic_recon_layerwise = l_stochastic_recon_layerwise + torch.linalg.matrix_norm(target_out_tiled-embed_out)**2\n",
        "\n",
        "                l_stochastic_recon_layerwise /= (S * spd_model.num_matrices)\n",
        "\n",
        "                beta1, beta2, beta3 = spd_model.hypers[\"beta_1\"], spd_model.hypers[\"beta_2\"], spd_model.hypers[\"beta_3\"]\n",
        "\n",
        "                # Loss computations\n",
        "                loss = l_faithfulness + beta1*l_stochastic_recon + beta2*l_stochastic_recon_layerwise + beta3*l_importance_minimality\n",
        "                run.log({\"lr\": float(epoch_lr), \"loss\": loss, \"l_faithfulness\": l_faithfulness, \"l_stochastic_recon\": l_stochastic_recon, \"l_stochastic_recon_layerwise\": l_stochastic_recon_layerwise, \"l_importance_minimality\": l_importance_minimality})\n",
        "                loss.backward()\n",
        "                optimizer.step()\n",
        "                t.set_postfix(loss=loss.item())\n",
        "            print(f\"(Last batch) Faithfulness: {l_faithfulness}, Stoch Rec: {l_stochastic_recon}, Stoch Rec Layerwise: {l_stochastic_recon_layerwise}, Importance Min: {l_importance_minimality}\")\n",
        "        scheduler.step()\n",
        "\n",
        "    run.finish()"
      ]
    },
    {
      "cell_type": "code",
      "execution_count": 94,
      "id": "462a42a9-0311-4293-9a83-8b3093cb0702",
      "metadata": {
        "colab": {
          "base_uri": "https://localhost:8080/",
          "height": 460
        },
        "collapsed": true,
        "id": "462a42a9-0311-4293-9a83-8b3093cb0702",
        "outputId": "05dc8221-d2eb-4603-f986-293b6708c20c"
      },
      "outputs": [
        {
          "output_type": "display_data",
          "data": {
            "text/plain": [
              "<IPython.core.display.HTML object>"
            ],
            "text/html": [
              "Tracking run with wandb version 0.21.0"
            ]
          },
          "metadata": {}
        },
        {
          "output_type": "display_data",
          "data": {
            "text/plain": [
              "<IPython.core.display.HTML object>"
            ],
            "text/html": [
              "Run data is saved locally in <code>/content/wandb/run-20250712_234809-i1ebgv71</code>"
            ]
          },
          "metadata": {}
        },
        {
          "output_type": "display_data",
          "data": {
            "text/plain": [
              "<IPython.core.display.HTML object>"
            ],
            "text/html": [
              "Syncing run <strong><a href='https://wandb.ai/lgngrvs-independent/spd/runs/i1ebgv71' target=\"_blank\">earnest-water-14</a></strong> to <a href='https://wandb.ai/lgngrvs-independent/spd' target=\"_blank\">Weights & Biases</a> (<a href='https://wandb.me/developer-guide' target=\"_blank\">docs</a>)<br>"
            ]
          },
          "metadata": {}
        },
        {
          "output_type": "display_data",
          "data": {
            "text/plain": [
              "<IPython.core.display.HTML object>"
            ],
            "text/html": [
              " View project at <a href='https://wandb.ai/lgngrvs-independent/spd' target=\"_blank\">https://wandb.ai/lgngrvs-independent/spd</a>"
            ]
          },
          "metadata": {}
        },
        {
          "output_type": "display_data",
          "data": {
            "text/plain": [
              "<IPython.core.display.HTML object>"
            ],
            "text/html": [
              " View run at <a href='https://wandb.ai/lgngrvs-independent/spd/runs/i1ebgv71' target=\"_blank\">https://wandb.ai/lgngrvs-independent/spd/runs/i1ebgv71</a>"
            ]
          },
          "metadata": {}
        },
        {
          "output_type": "stream",
          "name": "stdout",
          "text": [
            "Training on device cuda\n",
            "Starting epoch 1, lr = 8.00e-03\n"
          ]
        },
        {
          "output_type": "stream",
          "name": "stderr",
          "text": [
            "Epoch 1/25:   6%|▋         | 65/1024 [00:01<00:17, 55.23it/s, loss=4.35e+3]\n"
          ]
        },
        {
          "output_type": "error",
          "ename": "KeyboardInterrupt",
          "evalue": "",
          "traceback": [
            "\u001b[0;31m---------------------------------------------------------------------------\u001b[0m",
            "\u001b[0;31mKeyboardInterrupt\u001b[0m                         Traceback (most recent call last)",
            "\u001b[0;32m/tmp/ipython-input-94-1432668280.py\u001b[0m in \u001b[0;36m<cell line: 0>\u001b[0;34m()\u001b[0m\n\u001b[1;32m     14\u001b[0m     \u001b[0mdataloader\u001b[0m \u001b[0;34m=\u001b[0m \u001b[0mDataLoader\u001b[0m\u001b[0;34m(\u001b[0m\u001b[0mdataset\u001b[0m\u001b[0;34m,\u001b[0m \u001b[0mbatch_size\u001b[0m\u001b[0;34m=\u001b[0m\u001b[0mBATCH_SIZE\u001b[0m\u001b[0;34m,\u001b[0m \u001b[0mshuffle\u001b[0m\u001b[0;34m=\u001b[0m\u001b[0;32mTrue\u001b[0m\u001b[0;34m)\u001b[0m\u001b[0;34m\u001b[0m\u001b[0;34m\u001b[0m\u001b[0m\n\u001b[1;32m     15\u001b[0m     \u001b[0mspd_model\u001b[0m \u001b[0;34m=\u001b[0m \u001b[0mSPDModelMLP\u001b[0m\u001b[0;34m(\u001b[0m\u001b[0mtoy_model\u001b[0m\u001b[0;34m,\u001b[0m \u001b[0mconfig\u001b[0m\u001b[0;34m,\u001b[0m \u001b[0mdevice\u001b[0m\u001b[0;34m)\u001b[0m\u001b[0;34m\u001b[0m\u001b[0;34m\u001b[0m\u001b[0m\n\u001b[0;32m---> 16\u001b[0;31m     \u001b[0mtrain_spd\u001b[0m\u001b[0;34m(\u001b[0m\u001b[0mspd_model\u001b[0m\u001b[0;34m,\u001b[0m \u001b[0mdataloader\u001b[0m\u001b[0;34m,\u001b[0m \u001b[0mtrain_config\u001b[0m\u001b[0;34m,\u001b[0m \u001b[0mnum_epochs\u001b[0m\u001b[0;34m=\u001b[0m\u001b[0mNUM_EPOCHS\u001b[0m\u001b[0;34m)\u001b[0m\u001b[0;34m\u001b[0m\u001b[0;34m\u001b[0m\u001b[0m\n\u001b[0m",
            "\u001b[0;32m/tmp/ipython-input-88-3415603550.py\u001b[0m in \u001b[0;36mtrain_spd\u001b[0;34m(spd_model, dataloader, train_config, num_epochs)\u001b[0m\n\u001b[1;32m    140\u001b[0m                 \u001b[0mloss\u001b[0m \u001b[0;34m=\u001b[0m \u001b[0ml_faithfulness\u001b[0m \u001b[0;34m+\u001b[0m \u001b[0mbeta1\u001b[0m\u001b[0;34m*\u001b[0m\u001b[0ml_stochastic_recon\u001b[0m \u001b[0;34m+\u001b[0m \u001b[0mbeta2\u001b[0m\u001b[0;34m*\u001b[0m\u001b[0ml_stochastic_recon_layerwise\u001b[0m \u001b[0;34m+\u001b[0m \u001b[0mbeta3\u001b[0m\u001b[0;34m*\u001b[0m\u001b[0ml_importance_minimality\u001b[0m\u001b[0;34m\u001b[0m\u001b[0;34m\u001b[0m\u001b[0m\n\u001b[1;32m    141\u001b[0m                 \u001b[0mrun\u001b[0m\u001b[0;34m.\u001b[0m\u001b[0mlog\u001b[0m\u001b[0;34m(\u001b[0m\u001b[0;34m{\u001b[0m\u001b[0;34m\"lr\"\u001b[0m\u001b[0;34m:\u001b[0m \u001b[0mfloat\u001b[0m\u001b[0;34m(\u001b[0m\u001b[0mepoch_lr\u001b[0m\u001b[0;34m)\u001b[0m\u001b[0;34m,\u001b[0m \u001b[0;34m\"loss\"\u001b[0m\u001b[0;34m:\u001b[0m \u001b[0mloss\u001b[0m\u001b[0;34m,\u001b[0m \u001b[0;34m\"l_faithfulness\"\u001b[0m\u001b[0;34m:\u001b[0m \u001b[0ml_faithfulness\u001b[0m\u001b[0;34m,\u001b[0m \u001b[0;34m\"l_stochastic_recon\"\u001b[0m\u001b[0;34m:\u001b[0m \u001b[0ml_stochastic_recon\u001b[0m\u001b[0;34m,\u001b[0m \u001b[0;34m\"l_stochastic_recon_layerwise\"\u001b[0m\u001b[0;34m:\u001b[0m \u001b[0ml_stochastic_recon_layerwise\u001b[0m\u001b[0;34m,\u001b[0m \u001b[0;34m\"l_importance_minimality\"\u001b[0m\u001b[0;34m:\u001b[0m \u001b[0ml_importance_minimality\u001b[0m\u001b[0;34m}\u001b[0m\u001b[0;34m)\u001b[0m\u001b[0;34m\u001b[0m\u001b[0;34m\u001b[0m\u001b[0m\n\u001b[0;32m--> 142\u001b[0;31m                 \u001b[0mloss\u001b[0m\u001b[0;34m.\u001b[0m\u001b[0mbackward\u001b[0m\u001b[0;34m(\u001b[0m\u001b[0;34m)\u001b[0m\u001b[0;34m\u001b[0m\u001b[0;34m\u001b[0m\u001b[0m\n\u001b[0m\u001b[1;32m    143\u001b[0m                 \u001b[0moptimizer\u001b[0m\u001b[0;34m.\u001b[0m\u001b[0mstep\u001b[0m\u001b[0;34m(\u001b[0m\u001b[0;34m)\u001b[0m\u001b[0;34m\u001b[0m\u001b[0;34m\u001b[0m\u001b[0m\n\u001b[1;32m    144\u001b[0m                 \u001b[0mt\u001b[0m\u001b[0;34m.\u001b[0m\u001b[0mset_postfix\u001b[0m\u001b[0;34m(\u001b[0m\u001b[0mloss\u001b[0m\u001b[0;34m=\u001b[0m\u001b[0mloss\u001b[0m\u001b[0;34m.\u001b[0m\u001b[0mitem\u001b[0m\u001b[0;34m(\u001b[0m\u001b[0;34m)\u001b[0m\u001b[0;34m)\u001b[0m\u001b[0;34m\u001b[0m\u001b[0;34m\u001b[0m\u001b[0m\n",
            "\u001b[0;32m/usr/local/lib/python3.11/dist-packages/torch/_tensor.py\u001b[0m in \u001b[0;36mbackward\u001b[0;34m(self, gradient, retain_graph, create_graph, inputs)\u001b[0m\n\u001b[1;32m    624\u001b[0m                 \u001b[0minputs\u001b[0m\u001b[0;34m=\u001b[0m\u001b[0minputs\u001b[0m\u001b[0;34m,\u001b[0m\u001b[0;34m\u001b[0m\u001b[0;34m\u001b[0m\u001b[0m\n\u001b[1;32m    625\u001b[0m             )\n\u001b[0;32m--> 626\u001b[0;31m         torch.autograd.backward(\n\u001b[0m\u001b[1;32m    627\u001b[0m             \u001b[0mself\u001b[0m\u001b[0;34m,\u001b[0m \u001b[0mgradient\u001b[0m\u001b[0;34m,\u001b[0m \u001b[0mretain_graph\u001b[0m\u001b[0;34m,\u001b[0m \u001b[0mcreate_graph\u001b[0m\u001b[0;34m,\u001b[0m \u001b[0minputs\u001b[0m\u001b[0;34m=\u001b[0m\u001b[0minputs\u001b[0m\u001b[0;34m\u001b[0m\u001b[0;34m\u001b[0m\u001b[0m\n\u001b[1;32m    628\u001b[0m         )\n",
            "\u001b[0;32m/usr/local/lib/python3.11/dist-packages/torch/autograd/__init__.py\u001b[0m in \u001b[0;36mbackward\u001b[0;34m(tensors, grad_tensors, retain_graph, create_graph, grad_variables, inputs)\u001b[0m\n\u001b[1;32m    345\u001b[0m     \u001b[0;31m# some Python versions print out the first line of a multi-line function\u001b[0m\u001b[0;34m\u001b[0m\u001b[0;34m\u001b[0m\u001b[0m\n\u001b[1;32m    346\u001b[0m     \u001b[0;31m# calls in the traceback and some print out the last line\u001b[0m\u001b[0;34m\u001b[0m\u001b[0;34m\u001b[0m\u001b[0m\n\u001b[0;32m--> 347\u001b[0;31m     _engine_run_backward(\n\u001b[0m\u001b[1;32m    348\u001b[0m         \u001b[0mtensors\u001b[0m\u001b[0;34m,\u001b[0m\u001b[0;34m\u001b[0m\u001b[0;34m\u001b[0m\u001b[0m\n\u001b[1;32m    349\u001b[0m         \u001b[0mgrad_tensors_\u001b[0m\u001b[0;34m,\u001b[0m\u001b[0;34m\u001b[0m\u001b[0;34m\u001b[0m\u001b[0m\n",
            "\u001b[0;32m/usr/local/lib/python3.11/dist-packages/torch/autograd/graph.py\u001b[0m in \u001b[0;36m_engine_run_backward\u001b[0;34m(t_outputs, *args, **kwargs)\u001b[0m\n\u001b[1;32m    821\u001b[0m         \u001b[0munregister_hooks\u001b[0m \u001b[0;34m=\u001b[0m \u001b[0m_register_logging_hooks_on_whole_graph\u001b[0m\u001b[0;34m(\u001b[0m\u001b[0mt_outputs\u001b[0m\u001b[0;34m)\u001b[0m\u001b[0;34m\u001b[0m\u001b[0;34m\u001b[0m\u001b[0m\n\u001b[1;32m    822\u001b[0m     \u001b[0;32mtry\u001b[0m\u001b[0;34m:\u001b[0m\u001b[0;34m\u001b[0m\u001b[0;34m\u001b[0m\u001b[0m\n\u001b[0;32m--> 823\u001b[0;31m         return Variable._execution_engine.run_backward(  # Calls into the C++ engine to run the backward pass\n\u001b[0m\u001b[1;32m    824\u001b[0m             \u001b[0mt_outputs\u001b[0m\u001b[0;34m,\u001b[0m \u001b[0;34m*\u001b[0m\u001b[0margs\u001b[0m\u001b[0;34m,\u001b[0m \u001b[0;34m**\u001b[0m\u001b[0mkwargs\u001b[0m\u001b[0;34m\u001b[0m\u001b[0;34m\u001b[0m\u001b[0m\n\u001b[1;32m    825\u001b[0m         )  # Calls into the C++ engine to run the backward pass\n",
            "\u001b[0;31mKeyboardInterrupt\u001b[0m: "
          ]
        }
      ],
      "source": [
        "if __name__ == \"__main__\":\n",
        "\n",
        "    run = wandb.init(\n",
        "        reinit=\"create_new\",\n",
        "        entity=\"lgngrvs-independent\",\n",
        "        project=\"spd\",\n",
        "        config = CONFIG | TRAIN_CONFIG # Join dicts\n",
        "    )\n",
        "\n",
        "    device = DEVICE # specified at beginning of file\n",
        "    config = CONFIG\n",
        "    train_config = TRAIN_CONFIG\n",
        "\n",
        "    dataloader = DataLoader(dataset, batch_size=BATCH_SIZE, shuffle=True)\n",
        "    spd_model = SPDModelMLP(toy_model, config, device)\n",
        "    train_spd(spd_model, dataloader, train_config, num_epochs=NUM_EPOCHS)"
      ]
    },
    {
      "cell_type": "code",
      "source": [
        "def check_masks(x, spd_model):\n",
        "    pred_importances = []\n",
        "    # Use the correct keyword argument for the refactored model\n",
        "    spd_output, spd_activations, spd_weights = spd_model(x, return_activs_weights=True)\n",
        "\n",
        "    # Use the class-based importance predictors\n",
        "    # For embed/unembed (final layer)\n",
        "    imp_pred_embed = spd_model.imp_pred_ers[-1][\"embed\"](spd_activations[-1][\"embed\"])\n",
        "    imp_pred_unembed = spd_model.imp_pred_ers[-1][\"unembed\"](spd_activations[-1][\"unembed\"])\n",
        "\n",
        "    # For each layer\n",
        "    for l in range(spd_model.num_layers):\n",
        "        imp_pred_in = spd_model.imp_pred_ers[l][\"in\"](spd_activations[l][\"in\"])\n",
        "        imp_pred_out = spd_model.imp_pred_ers[l][\"out\"](spd_activations[l][\"out\"])\n",
        "        pred_importances.append({\"in\": imp_pred_in, \"out\": imp_pred_out})\n",
        "\n",
        "    # Add embed/unembed at the end\n",
        "    pred_importances.append({\"embed\": imp_pred_embed, \"unembed\": imp_pred_unembed})\n",
        "    return pred_importances\n",
        "\n",
        "def visualize_model_outputs(model, dataloader, device=\"cuda\", idx=0):\n",
        "    \"\"\"\n",
        "    Visualize the outputs of the SPD model and its target model on a single evaluation example.\n",
        "\n",
        "    Args:\n",
        "        model: SPDModelMLP instance (should have .target_model attribute)\n",
        "        dataloader: DataLoader yielding (inputs, targets)\n",
        "        device: Device to run the model on\n",
        "        idx: Index of the example in the batch to visualize\n",
        "    \"\"\"\n",
        "    # Get a batch from the dataloader\n",
        "    batch = next(iter(dataloader))\n",
        "    x, y = batch[0].to(device), batch[1].to(device)\n",
        "\n",
        "    # Run both models on the batch\n",
        "    with torch.no_grad():\n",
        "        spd_out = model(x)\n",
        "        target_out = model.target_model(x)\n",
        "\n",
        "    # Select the example to visualize\n",
        "    spd_out_example = spd_out[idx].detach().cpu().numpy()\n",
        "    target_out_example = target_out[idx].detach().cpu().numpy()\n",
        "    input_example = x[idx].detach().cpu().numpy()\n",
        "    target_example = y[idx].detach().cpu().numpy()\n",
        "\n",
        "    # Plot all outputs for comparison\n",
        "    fig, axes = plt.subplots(2, 2, figsize=(12, 8))\n",
        "\n",
        "    # Input\n",
        "    axes[0, 0].plot(input_example, marker='o')\n",
        "    axes[0, 0].set_title(\"Input Example\")\n",
        "    axes[0, 0].set_xlabel(\"Feature\")\n",
        "    axes[0, 0].set_ylabel(\"Value\")\n",
        "\n",
        "    # Target\n",
        "    axes[0, 1].plot(target_example, marker='o', color='gray')\n",
        "    axes[0, 1].set_title(\"Target Example\")\n",
        "    axes[0, 1].set_xlabel(\"Feature\")\n",
        "    axes[0, 1].set_ylabel(\"Value\")\n",
        "\n",
        "    # SPD Model Output\n",
        "    axes[1, 0].plot(spd_out_example, marker='o', color='green')\n",
        "    axes[1, 0].set_title(\"SPD Model Output\")\n",
        "    axes[1, 0].set_xlabel(\"Feature\")\n",
        "    axes[1, 0].set_ylabel(\"Value\")\n",
        "\n",
        "    # Target Model Output\n",
        "    axes[1, 1].plot(target_out_example, marker='o', color='blue')\n",
        "    axes[1, 1].set_title(\"Target Model Output\")\n",
        "    axes[1, 1].set_xlabel(\"Feature\")\n",
        "    axes[1, 1].set_ylabel(\"Value\")\n",
        "\n",
        "    plt.tight_layout()\n",
        "    plt.show()\n",
        "\n",
        "# Example usage:\n",
        "# visualize_model_outputs(spd_model, dataloader, device=DEVICE, idx=0)\n",
        "\n",
        "\n",
        "def visualize_tensor_grid(\n",
        "    tensor,\n",
        "    title=\"Tensor Grid (Green=Positive, Red=Negative)\",\n",
        "    ax=None,\n",
        "    show_colorbar=True\n",
        "):\n",
        "    \"\"\"\n",
        "    Visualize a 2D tensor as a color grid on a given matplotlib axis.\n",
        "    Green = positive, Red = negative.\n",
        "\n",
        "    Args:\n",
        "        tensor (torch.Tensor or np.ndarray): 2D tensor to visualize.\n",
        "        title (str): Title for the plot (used only if ax is None).\n",
        "        ax (matplotlib.axes.Axes, optional): Axis to plot on. If None, creates a new figure.\n",
        "        show_colorbar (bool): Whether to show the colorbar (only show for the first plot in a grid).\n",
        "    Returns:\n",
        "        ax: The matplotlib axis with the plot.\n",
        "    \"\"\"\n",
        "    # Convert to numpy if needed\n",
        "    if isinstance(tensor, torch.Tensor):\n",
        "        data = tensor.detach().cpu().numpy()\n",
        "    else:\n",
        "        data = np.array(tensor)\n",
        "\n",
        "    if data.ndim != 2:\n",
        "        raise ValueError(\"Input tensor must be 2D\")\n",
        "\n",
        "    vmax = np.abs(data).max() if np.abs(data).max() > 0 else 1.0  # avoid division by zero\n",
        "\n",
        "    # If no axis is provided, create a new figure and axis\n",
        "    if ax is None:\n",
        "        fig, ax = plt.subplots(figsize=(min(16, data.shape[1] // 2 + 2), min(12, data.shape[0] // 8 + 2)))\n",
        "        im = ax.imshow(data, aspect='auto', cmap='RdYlGn', vmin=-vmax, vmax=vmax)\n",
        "        ax.set_aspect('equal', adjustable='box')  # <-- Make axes square\n",
        "\n",
        "        if show_colorbar:\n",
        "            plt.colorbar(im, ax=ax, label='Value')\n",
        "        ax.set_title(title)\n",
        "        ax.set_xlabel('Column')\n",
        "        ax.set_ylabel('Row')\n",
        "        plt.tight_layout()\n",
        "        plt.show()\n",
        "    else:\n",
        "        im = ax.imshow(data, aspect='auto', cmap='RdYlGn', vmin=-vmax, vmax=vmax)\n",
        "        if show_colorbar:\n",
        "            plt.colorbar(im, ax=ax, label='Value')\n",
        "        ax.set_xlabel('Column')\n",
        "        ax.set_ylabel('Row')\n",
        "        ax.set_title(title)\n",
        "    return ax"
      ],
      "metadata": {
        "id": "8NwUZsIs0TGd"
      },
      "id": "8NwUZsIs0TGd",
      "execution_count": null,
      "outputs": []
    },
    {
      "cell_type": "code",
      "source": [
        "# Setup evaluation dataset and dataloader\n",
        "eval_dataset = SparseAutoencoderDataset(in_dim=100, n_samples=100, sparsity=0.9, device=DEVICE)\n",
        "dataloader = DataLoader(eval_dataset, batch_size=100, shuffle=True)\n",
        "batch = next(iter(dataloader))\n",
        "\n",
        "# Evaluate both models\n",
        "out_eval = spd_model(batch[0])\n",
        "out_eval_target = spd_model.target_model(batch[0])\n",
        "print(\"SPD Model Output: \\n\", out_eval)\n",
        "print(\"Sum of out tensor: \", out_eval.sum())\n",
        "print(\"Target Model Output: \\n\", out_eval_target)\n",
        "\n",
        "visualize_model_outputs(spd_model, dataloader, device=DEVICE, idx=0)\n",
        "\n",
        "\n",
        "# Example usage: visualize all importances in a single figure\n",
        "importances = check_masks(batch[0], spd_model)\n",
        "\n",
        "# Number of subplots: 2 * num_layers + 2 (for embed/unembed)\n",
        "num_layers = spd_model.num_layers\n",
        "names = [\"in\", \"out\"]\n",
        "extra_names = [\"embed\", \"unembed\"]\n",
        "num_plots = num_layers * 2 + 2\n",
        "\n",
        "fig, axes = plt.subplots(1, num_plots, figsize=(4 * num_plots, 6))\n",
        "\n",
        "plot_idx = 0\n",
        "for layer in range(num_layers):\n",
        "    for name in names:\n",
        "        visualize_tensor_grid(\n",
        "            importances[layer][name],\n",
        "            title=f\"Layer {layer} {name}\",\n",
        "            ax=axes[plot_idx],\n",
        "            show_colorbar=(plot_idx == 0)\n",
        "        )\n",
        "        plot_idx += 1\n",
        "\n",
        "for name in extra_names:\n",
        "    visualize_tensor_grid(\n",
        "        importances[-1][name],\n",
        "        title=f\"{name}\",\n",
        "        ax=axes[plot_idx],\n",
        "        show_colorbar=False\n",
        "    )\n",
        "    plot_idx += 1\n",
        "\n",
        "plt.tight_layout()\n",
        "plt.show()\n"
      ],
      "metadata": {
        "id": "zd2oO6OOtWF8"
      },
      "id": "zd2oO6OOtWF8",
      "execution_count": null,
      "outputs": []
    }
  ],
  "metadata": {
    "kernelspec": {
      "display_name": "interp-replication",
      "language": "python",
      "name": "interp-replication"
    },
    "language_info": {
      "codemirror_mode": {
        "name": "ipython",
        "version": 3
      },
      "file_extension": ".py",
      "mimetype": "text/x-python",
      "name": "python",
      "nbconvert_exporter": "python",
      "pygments_lexer": "ipython3",
      "version": "3.11.13"
    },
    "colab": {
      "provenance": [],
      "machine_shape": "hm",
      "gpuType": "L4"
    },
    "accelerator": "GPU"
  },
  "nbformat": 4,
  "nbformat_minor": 5
}