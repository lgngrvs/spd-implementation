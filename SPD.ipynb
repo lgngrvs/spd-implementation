{
  "cells": [
    {
      "cell_type": "markdown",
      "id": "374687f7-c6bd-462e-92cb-95a74322304b",
      "metadata": {
        "id": "374687f7-c6bd-462e-92cb-95a74322304b"
      },
      "source": [
        "# Stochastic Parameter Decomposition"
      ]
    },
    {
      "cell_type": "markdown",
      "id": "0b4be581-416b-4231-b780-c5cabb7142f6",
      "metadata": {
        "id": "0b4be581-416b-4231-b780-c5cabb7142f6"
      },
      "source": [
        "## Imports"
      ]
    },
    {
      "cell_type": "code",
      "execution_count": 1,
      "id": "42f5b19f-26f8-4a66-85ca-5f81c949767d",
      "metadata": {
        "id": "42f5b19f-26f8-4a66-85ca-5f81c949767d"
      },
      "outputs": [],
      "source": [
        "# import all the torch stuff, as well as the ViT stuff and such\n",
        "# import plotly.express as px\n",
        "# import torch\n",
        "# from jaxtyping import Int, Float\n",
        "# from typing import List, Optional, Tuple\n",
        "# from tqdm import tqdm\n",
        "# from transformer_lens.hook_points import HookPoint\n",
        "# from transformer_lens import utils, HookedTransformer, HookedTransformerConfig, FactoredMatrix, ActivationCache\n",
        "# import circuitsvis as cv"
      ]
    },
    {
      "cell_type": "code",
      "execution_count": 1,
      "id": "c791fb62-d6be-4926-b345-c518a5239fdf",
      "metadata": {
        "id": "c791fb62-d6be-4926-b345-c518a5239fdf"
      },
      "outputs": [],
      "source": [
        "import torch\n",
        "from torch import Tensor\n",
        "import torch.nn as nn\n",
        "import torch.nn.functional as F\n",
        "from torch.utils.data import Dataset, DataLoader\n",
        "import numpy as np\n",
        "import einops\n",
        "import typing\n",
        "from tqdm import tqdm"
      ]
    },
    {
      "cell_type": "markdown",
      "id": "dbd14d16-8e3e-4efe-9d5f-7f29610d6b83",
      "metadata": {
        "id": "dbd14d16-8e3e-4efe-9d5f-7f29610d6b83"
      },
      "source": [
        "## Toy Model MLP"
      ]
    },
    {
      "cell_type": "code",
      "execution_count": 3,
      "id": "48df6266-0231-4c6d-a813-19f4bf12553b",
      "metadata": {
        "id": "48df6266-0231-4c6d-a813-19f4bf12553b",
        "outputId": "d49416c1-76e4-408b-f8cc-6aab57b3c8b5",
        "colab": {
          "base_uri": "https://localhost:8080/",
          "height": 53
        }
      },
      "outputs": [
        {
          "output_type": "execute_result",
          "data": {
            "text/plain": [
              "\"\\nMaybe I should start with implementing it on a simple MLP setup. \\n\\nOrig network:\\n- 1 layer MLP 5-2-5 (defined as usual with torch.Sequential presumably)\\n\\nSPD network:\\nlet's give it 10 subcomponents per layer\\nthen it's just like 10 matmuls? \\nmaybe i should define it like ant did in the toy models of superposition paper\\nstick them all into a trenchcoat\\nthis might be easier once I have defined the toy modle\\n\\n\""
            ],
            "application/vnd.google.colaboratory.intrinsic+json": {
              "type": "string"
            }
          },
          "metadata": {},
          "execution_count": 3
        }
      ],
      "source": [
        "# create a SPDHookedTransformer Class\n",
        "# that extends the hookedTransformer\n",
        "# which inherits all the previous class stuff\n",
        "# but also contains the SPD training algo?\n",
        "\n",
        "# how is everything actually structured?\n",
        "\"\"\"\n",
        "Maybe I should start with implementing it on a simple MLP setup.\n",
        "\n",
        "Orig network:\n",
        "- 1 layer MLP 5-2-5 (defined as usual with torch.Sequential presumably)\n",
        "\n",
        "SPD network:\n",
        "let's give it 10 subcomponents per layer\n",
        "then it's just like 10 matmuls?\n",
        "maybe i should define it like ant did in the toy models of superposition paper\n",
        "stick them all into a trenchcoat\n",
        "this might be easier once I have defined the toy modle\n",
        "\n",
        "\"\"\""
      ]
    },
    {
      "cell_type": "code",
      "execution_count": 2,
      "id": "5a426a65-b7dc-4e68-9e35-da69dbdf7743",
      "metadata": {
        "id": "5a426a65-b7dc-4e68-9e35-da69dbdf7743"
      },
      "outputs": [],
      "source": [
        "class ToyResidMLP(nn.Module):\n",
        "    def __init__(self, config, device=\"cuda\"):\n",
        "        super().__init__()\n",
        "        # Initialize Weights for the\n",
        "        self.num_layers, self.pre_embed_size, self.in_size, self.hidden_size = config[\"num_layers\"], config[\"pre_embed_size\"], config[\"in_size\"], config[\"hidden_size\"]\n",
        "        self.device = device\n",
        "        self.W_embed = nn.Parameter(torch.empty((self.pre_embed_size, self.in_size)))\n",
        "        self.W_unembed = nn.Parameter(torch.empty((self.in_size, self.pre_embed_size)))\n",
        "        self.W_in = nn.ParameterList([torch.empty((self.in_size, self.hidden_size), device=device) for i in range(self.num_layers)])\n",
        "        self.W_out = nn.ParameterList([torch.empty((self.hidden_size, self.in_size), device=device) for i in range(self.num_layers)])\n",
        "        self.b = nn.ParameterList([torch.zeros((self.hidden_size,), device=device) for i in range(self.num_layers)])\n",
        "\n",
        "        for param in [self.W_embed, self.W_unembed] + list(self.W_in) + list(self.W_out):\n",
        "            nn.init.xavier_normal_(param)\n",
        "\n",
        "    def forward(self, x):\n",
        "\n",
        "        assert x.shape[1] == self.pre_embed_size, f\"Input shape {x.shape[0]} does not match model's accepted size {self.pre_embed_size}\"\n",
        "        # embed\n",
        "        x_resid = torch.einsum(\"np,pi->ni\", x.clone(), self.W_embed)\n",
        "        N, D = x_resid.shape\n",
        "\n",
        "\n",
        "        for l in range(self.num_layers):\n",
        "            hidden = F.relu(torch.einsum(\"nd,dh -> nh\", x_resid, self.W_in[l]) + self.b[l])\n",
        "            layer_out = torch.einsum(\"nh,hd -> nd\", hidden, self.W_out[l])\n",
        "            x_resid = x_resid + layer_out\n",
        "        # am I supposed to have a embed and out?\n",
        "        x_out = torch.einsum(\"ni,ip->np\", x_resid, self.W_unembed)\n",
        "        return x_out\n",
        "\n",
        "\n",
        "# Generated by LLM bc I am lazy and this is not important to me learning stuff atm\n",
        "class SparseAutoencoderDataset(Dataset):\n",
        "    \"\"\"\n",
        "    Dataset for learning to reconstruct sparse inputs.\n",
        "    Each item is (input, target) where target is the input itself (or ReLU of input).\n",
        "    \"\"\"\n",
        "    def __init__(self, in_dim=100, n_samples=10000, sparsity=0.9, device=\"cuda\"):\n",
        "        super().__init__()\n",
        "        self.in_dim = in_dim\n",
        "        self.n_samples = n_samples\n",
        "        self.device = device\n",
        "\n",
        "        # Pre-generate all samples\n",
        "        self.inputs = []\n",
        "        self.targets = []\n",
        "\n",
        "        for _ in range(n_samples):\n",
        "            # Sparse input: each entry is -1, 0, or 1, with sparsity\n",
        "            x = np.random.choice([0, -1, 1], size=(in_dim,), p=[1-sparsity, sparsity/2, sparsity/2])\n",
        "            x = torch.tensor(x, dtype=torch.float32, device=device)\n",
        "            target = F.relu(x)\n",
        "\n",
        "            self.inputs.append(x)\n",
        "            self.targets.append(target)\n",
        "\n",
        "    def __len__(self):\n",
        "        return self.n_samples\n",
        "\n",
        "    def __getitem__(self, idx):\n",
        "        return self.inputs[idx], self.targets[idx]\n",
        "\n",
        "def train_toy_resid_mlp(\n",
        "    model,\n",
        "    dataloader,\n",
        "    lr=1e-3,\n",
        "    num_epochs=10,\n",
        "    device=\"cuda\",\n",
        "    print_every=1\n",
        "):\n",
        "    model.train()\n",
        "    model.to(device)\n",
        "    optimizer = torch.optim.AdamW(model.parameters(), lr=lr)\n",
        "    loss_fn = nn.MSELoss()\n",
        "    for epoch in range(num_epochs):\n",
        "        total_loss = 0.0\n",
        "        for x, y in tqdm(dataloader, desc=f\"Epoch {epoch+1}/{num_epochs}\"):\n",
        "            x = x.to(device)\n",
        "            y = y.to(device)\n",
        "            optimizer.zero_grad()\n",
        "            y_pred = model(x)\n",
        "            loss = loss_fn(y_pred, y)\n",
        "            loss.backward()\n",
        "            optimizer.step()\n",
        "            total_loss += loss.item() * x.size(0)\n",
        "        avg_loss = total_loss / len(dataloader.dataset)\n",
        "        if (epoch+1) % print_every == 0:\n",
        "            print(f\"Epoch {epoch+1}: avg MSE loss = {avg_loss:.6f}\")"
      ]
    },
    {
      "cell_type": "code",
      "execution_count": 4,
      "id": "d67d9bbc-74ee-4eca-8a38-90c245095172",
      "metadata": {
        "id": "d67d9bbc-74ee-4eca-8a38-90c245095172",
        "outputId": "03f25442-a8b4-45d2-a6e8-f80679c145a5",
        "colab": {
          "base_uri": "https://localhost:8080/"
        }
      },
      "outputs": [
        {
          "output_type": "stream",
          "name": "stdout",
          "text": [
            "cpu\n"
          ]
        },
        {
          "output_type": "stream",
          "name": "stderr",
          "text": [
            "Epoch 1/20: 100%|██████████| 118/118 [00:02<00:00, 57.75it/s]\n"
          ]
        },
        {
          "output_type": "stream",
          "name": "stdout",
          "text": [
            "Epoch 1: avg MSE loss = 245616.226061\n"
          ]
        },
        {
          "output_type": "stream",
          "name": "stderr",
          "text": [
            "Epoch 2/20: 100%|██████████| 118/118 [00:02<00:00, 54.20it/s]\n"
          ]
        },
        {
          "output_type": "stream",
          "name": "stdout",
          "text": [
            "Epoch 2: avg MSE loss = 69.965749\n"
          ]
        },
        {
          "output_type": "stream",
          "name": "stderr",
          "text": [
            "Epoch 3/20: 100%|██████████| 118/118 [00:01<00:00, 59.31it/s]\n"
          ]
        },
        {
          "output_type": "stream",
          "name": "stdout",
          "text": [
            "Epoch 3: avg MSE loss = 22.630260\n"
          ]
        },
        {
          "output_type": "stream",
          "name": "stderr",
          "text": [
            "Epoch 4/20: 100%|██████████| 118/118 [00:01<00:00, 59.38it/s]\n"
          ]
        },
        {
          "output_type": "stream",
          "name": "stdout",
          "text": [
            "Epoch 4: avg MSE loss = 10.240307\n"
          ]
        },
        {
          "output_type": "stream",
          "name": "stderr",
          "text": [
            "Epoch 5/20: 100%|██████████| 118/118 [00:02<00:00, 58.89it/s]\n"
          ]
        },
        {
          "output_type": "stream",
          "name": "stdout",
          "text": [
            "Epoch 5: avg MSE loss = 5.388696\n"
          ]
        },
        {
          "output_type": "stream",
          "name": "stderr",
          "text": [
            "Epoch 6/20: 100%|██████████| 118/118 [00:01<00:00, 60.20it/s]\n"
          ]
        },
        {
          "output_type": "stream",
          "name": "stdout",
          "text": [
            "Epoch 6: avg MSE loss = 3.096830\n"
          ]
        },
        {
          "output_type": "stream",
          "name": "stderr",
          "text": [
            "Epoch 7/20: 100%|██████████| 118/118 [00:02<00:00, 56.40it/s]\n"
          ]
        },
        {
          "output_type": "stream",
          "name": "stdout",
          "text": [
            "Epoch 7: avg MSE loss = 1.902151\n"
          ]
        },
        {
          "output_type": "stream",
          "name": "stderr",
          "text": [
            "Epoch 8/20: 100%|██████████| 118/118 [00:02<00:00, 58.02it/s]\n"
          ]
        },
        {
          "output_type": "stream",
          "name": "stdout",
          "text": [
            "Epoch 8: avg MSE loss = 1.242300\n"
          ]
        },
        {
          "output_type": "stream",
          "name": "stderr",
          "text": [
            "Epoch 9/20: 100%|██████████| 118/118 [00:01<00:00, 60.57it/s]\n"
          ]
        },
        {
          "output_type": "stream",
          "name": "stdout",
          "text": [
            "Epoch 9: avg MSE loss = 0.858383\n"
          ]
        },
        {
          "output_type": "stream",
          "name": "stderr",
          "text": [
            "Epoch 10/20: 100%|██████████| 118/118 [00:01<00:00, 60.03it/s]\n"
          ]
        },
        {
          "output_type": "stream",
          "name": "stdout",
          "text": [
            "Epoch 10: avg MSE loss = 0.630948\n"
          ]
        },
        {
          "output_type": "stream",
          "name": "stderr",
          "text": [
            "Epoch 11/20: 100%|██████████| 118/118 [00:01<00:00, 59.11it/s]\n"
          ]
        },
        {
          "output_type": "stream",
          "name": "stdout",
          "text": [
            "Epoch 11: avg MSE loss = 0.493606\n"
          ]
        },
        {
          "output_type": "stream",
          "name": "stderr",
          "text": [
            "Epoch 12/20: 100%|██████████| 118/118 [00:01<00:00, 59.60it/s]\n"
          ]
        },
        {
          "output_type": "stream",
          "name": "stdout",
          "text": [
            "Epoch 12: avg MSE loss = 0.410911\n"
          ]
        },
        {
          "output_type": "stream",
          "name": "stderr",
          "text": [
            "Epoch 13/20: 100%|██████████| 118/118 [00:02<00:00, 53.97it/s]\n"
          ]
        },
        {
          "output_type": "stream",
          "name": "stdout",
          "text": [
            "Epoch 13: avg MSE loss = 0.362089\n"
          ]
        },
        {
          "output_type": "stream",
          "name": "stderr",
          "text": [
            "Epoch 14/20: 100%|██████████| 118/118 [00:01<00:00, 59.12it/s]\n"
          ]
        },
        {
          "output_type": "stream",
          "name": "stdout",
          "text": [
            "Epoch 14: avg MSE loss = 0.334819\n"
          ]
        },
        {
          "output_type": "stream",
          "name": "stderr",
          "text": [
            "Epoch 15/20: 100%|██████████| 118/118 [00:01<00:00, 60.74it/s]\n"
          ]
        },
        {
          "output_type": "stream",
          "name": "stdout",
          "text": [
            "Epoch 15: avg MSE loss = 0.321945\n"
          ]
        },
        {
          "output_type": "stream",
          "name": "stderr",
          "text": [
            "Epoch 16/20: 100%|██████████| 118/118 [00:01<00:00, 62.09it/s]\n"
          ]
        },
        {
          "output_type": "stream",
          "name": "stdout",
          "text": [
            "Epoch 16: avg MSE loss = 0.318983\n"
          ]
        },
        {
          "output_type": "stream",
          "name": "stderr",
          "text": [
            "Epoch 17/20: 100%|██████████| 118/118 [00:01<00:00, 62.11it/s]\n"
          ]
        },
        {
          "output_type": "stream",
          "name": "stdout",
          "text": [
            "Epoch 17: avg MSE loss = 0.322831\n"
          ]
        },
        {
          "output_type": "stream",
          "name": "stderr",
          "text": [
            "Epoch 18/20: 100%|██████████| 118/118 [00:02<00:00, 56.44it/s]\n"
          ]
        },
        {
          "output_type": "stream",
          "name": "stdout",
          "text": [
            "Epoch 18: avg MSE loss = 0.331379\n"
          ]
        },
        {
          "output_type": "stream",
          "name": "stderr",
          "text": [
            "Epoch 19/20: 100%|██████████| 118/118 [00:01<00:00, 59.59it/s]\n"
          ]
        },
        {
          "output_type": "stream",
          "name": "stdout",
          "text": [
            "Epoch 19: avg MSE loss = 0.343274\n"
          ]
        },
        {
          "output_type": "stream",
          "name": "stderr",
          "text": [
            "Epoch 20/20: 100%|██████████| 118/118 [00:01<00:00, 63.14it/s]"
          ]
        },
        {
          "output_type": "stream",
          "name": "stdout",
          "text": [
            "Epoch 20: avg MSE loss = 0.356685\n"
          ]
        },
        {
          "output_type": "stream",
          "name": "stderr",
          "text": [
            "\n"
          ]
        }
      ],
      "source": [
        "## LLM-Generated Usage Example\n",
        "\n",
        "torch.autograd.set_detect_anomaly(True)\n",
        "\n",
        "config = {\n",
        "    \"num_layers\": 1,\n",
        "    \"pre_embed_size\": 100,\n",
        "    \"in_size\": 1000,\n",
        "    \"hidden_size\": 50,\n",
        "    \"subcomponents_per_layer\": 30,\n",
        "    \"beta_1\": 1.0,\n",
        "    \"beta_2\": 1.0,\n",
        "    \"beta_3\": 0.1,\n",
        "    \"causal_imp_min\": 1.0,\n",
        "    \"num_mask_samples\": 20,\n",
        "    \"importance_mlp_size\": 5,\n",
        "}\n",
        "\n",
        "\n",
        "if __name__ == \"__main__\":\n",
        "    # Config\n",
        "    # device = \"mps\" if torch.backends.mps.is_available() else \"cpu\"\n",
        "    device = \"cpu\"\n",
        "    # Dataset and DataLoader\n",
        "    # Dataset and DataLoader\n",
        "    dataset = SparseAutoencoderDataset(\n",
        "        in_dim=100,\n",
        "        n_samples=15000,\n",
        "        sparsity=0.9,\n",
        "        device=device,\n",
        "    )\n",
        "    print(device)\n",
        "\n",
        "    dataloader = DataLoader(dataset, batch_size=128, shuffle=True)\n",
        "    # Model\n",
        "    toy_model = ToyResidMLP(config, device=device)\n",
        "    # Train\n",
        "    train_toy_resid_mlp(toy_model, dataloader, lr=8e-2, num_epochs=20, device=device)"
      ]
    },
    {
      "cell_type": "markdown",
      "id": "838c72b4-6661-4d00-b27d-cee3f7ac01ac",
      "metadata": {
        "id": "838c72b4-6661-4d00-b27d-cee3f7ac01ac"
      },
      "source": [
        "## SPD Model and Train Function"
      ]
    },
    {
      "cell_type": "code",
      "execution_count": 6,
      "id": "b9bda061-7487-44ce-9201-dc1f6a34b302",
      "metadata": {
        "id": "b9bda061-7487-44ce-9201-dc1f6a34b302",
        "outputId": "39784404-e946-4272-ef8d-9706f59014cb",
        "colab": {
          "base_uri": "https://localhost:8080/"
        }
      },
      "outputs": [
        {
          "output_type": "stream",
          "name": "stdout",
          "text": [
            "Input: tensor([-2.0000, -0.5000,  0.0000,  0.3000,  0.7000,  1.0000,  1.5000,  2.0000])\n",
            "Lower-leaky: tensor([-0.0200, -0.0050,  0.0000,  0.3000,  0.7000,  1.0000,  1.0000,  1.0000])\n",
            "Upper-leaky: tensor([0.0000, 0.0000, 0.0000, 0.3000, 0.7000, 1.0000, 1.0050, 1.0100])\n"
          ]
        }
      ],
      "source": [
        "# generated by LLM\n",
        "\n",
        "class HardSigmoid(nn.Module):\n",
        "    \"\"\"\n",
        "    Implements the hard sigmoid activation function as described in the paper:\n",
        "        σ_H(x) = 0 if x <= 0\n",
        "               = x if 0 < x < 1\n",
        "               = 1 if x >= 1\n",
        "    This is equivalent to: torch.clamp(x, min=0.0, max=1.0)\n",
        "    \"\"\"\n",
        "    def __init__(self):\n",
        "        super().__init__()\n",
        "\n",
        "    def forward(self, x):\n",
        "        # Clamp values between 0 and 1\n",
        "        return torch.clamp(x, min=0.0, max=1.0)\n",
        "\n",
        "\n",
        "class LowerLeakyHardSigmoid(nn.Module):\n",
        "    \"\"\"\n",
        "    Lower-leaky hard sigmoid: σH,lower(x)\n",
        "    - 0.01*x if x <= 0 (leaky below 0)\n",
        "    - x if 0 <= x <= 1 (linear in middle)\n",
        "    - 1 if x >= 1 (saturated above 1)\n",
        "\n",
        "    Used for forward pass masks in stochastic reconstruction losses.\n",
        "    \"\"\"\n",
        "    def __init__(self, leak_slope=0.01):\n",
        "        super().__init__()\n",
        "        self.leak_slope = leak_slope\n",
        "\n",
        "    def forward(self, x):\n",
        "        return torch.where(\n",
        "            x <= 0,\n",
        "            self.leak_slope * x,\n",
        "            torch.where(\n",
        "                x >= 1,\n",
        "                torch.ones_like(x),\n",
        "                x\n",
        "            )\n",
        "        )\n",
        "\n",
        "class UpperLeakyHardSigmoid(nn.Module):\n",
        "    \"\"\"\n",
        "    Upper-leaky hard sigmoid: σH,upper(x)\n",
        "    - 0 if x <= 0 (hard cutoff below 0)\n",
        "    - x if 0 <= x <= 1 (linear in middle)\n",
        "    - 1 + 0.01*(x-1) if x >= 1 (leaky above 1)\n",
        "\n",
        "    Used for importance loss computation.\n",
        "    \"\"\"\n",
        "    def __init__(self, leak_slope=0.01):\n",
        "        super().__init__()\n",
        "        self.leak_slope = leak_slope\n",
        "\n",
        "    def forward(self, x):\n",
        "        return torch.where(\n",
        "            x <= 0,\n",
        "            torch.zeros_like(x),\n",
        "            torch.where(\n",
        "                x >= 1,\n",
        "                1 + self.leak_slope * (x - 1),\n",
        "                x\n",
        "            )\n",
        "        )\n",
        "\n",
        "# Test the functions\n",
        "if __name__ == \"__main__\":\n",
        "    lower_leaky = LowerLeakyHardSigmoid()\n",
        "    upper_leaky = UpperLeakyHardSigmoid()\n",
        "\n",
        "    test_vals = torch.tensor([-2.0, -0.5, 0.0, 0.3, 0.7, 1.0, 1.5, 2.0])\n",
        "\n",
        "    print(\"Input:\", test_vals)\n",
        "    print(\"Lower-leaky:\", lower_leaky(test_vals))\n",
        "    print(\"Upper-leaky:\", upper_leaky(test_vals))"
      ]
    },
    {
      "cell_type": "code",
      "source": [],
      "metadata": {
        "id": "2gUjIPLygPYO"
      },
      "id": "2gUjIPLygPYO",
      "execution_count": null,
      "outputs": []
    },
    {
      "cell_type": "code",
      "execution_count": 6,
      "id": "50310679-3db3-4b7d-8a8b-24c32dc176e6",
      "metadata": {
        "id": "50310679-3db3-4b7d-8a8b-24c32dc176e6",
        "outputId": "16d50aa8-eeaa-4d15-8f38-2a4c9996b847",
        "colab": {
          "base_uri": "https://localhost:8080/"
        }
      },
      "outputs": [
        {
          "output_type": "stream",
          "name": "stdout",
          "text": [
            "Devices:  cpu cpu\n",
            "Training on device cpu\n",
            "Starting epoch 1, lr = 8.00e-03\n"
          ]
        },
        {
          "output_type": "stream",
          "name": "stderr",
          "text": [
            "Epoch 1/25:   1%|          | 1/118 [00:02<04:50,  2.48s/it, loss=1.39e+3]"
          ]
        },
        {
          "output_type": "stream",
          "name": "stdout",
          "text": [
            "pred_imp min/max: tensor(-0.5432) tensor(0.4992)\n",
            "mask min/max: tensor(-0.0022) tensor(0.9999)\n",
            "Masked out min:  -0.49410781264305115 , max:  0.43328431248664856\n",
            "Faithfulness: 0.0018302702810615301, Stoch Rec: 427.2201232910156, Stoch Rec Layerwise: 960.5885620117188, Importance Min: 15.379110336303711\n",
            "Total gradient norm: 2491.97116503356\n"
          ]
        },
        {
          "output_type": "stream",
          "name": "stderr",
          "text": [
            "Epoch 1/25: 100%|██████████| 118/118 [04:40<00:00,  2.38s/it, loss=22.8]\n"
          ]
        },
        {
          "output_type": "stream",
          "name": "stdout",
          "text": [
            "0.0 0.0 0.0 0.0\n",
            "Starting epoch 2, lr = 8.00e-03\n"
          ]
        },
        {
          "output_type": "stream",
          "name": "stderr",
          "text": [
            "Epoch 2/25:   1%|          | 1/118 [00:02<05:14,  2.69s/it, loss=102]"
          ]
        },
        {
          "output_type": "stream",
          "name": "stdout",
          "text": [
            "pred_imp min/max: tensor(-1.7503) tensor(1.4362)\n",
            "mask min/max: tensor(-0.0015) tensor(1.)\n",
            "Masked out min:  -0.2612195611000061 , max:  0.8695976138114929\n",
            "Faithfulness: 0.0013476668391376734, Stoch Rec: 51.66410446166992, Stoch Rec Layerwise: 46.16731643676758, Importance Min: 41.769378662109375\n",
            "Total gradient norm: 175.56545572021062\n"
          ]
        },
        {
          "output_type": "stream",
          "name": "stderr",
          "text": [
            "Epoch 2/25: 100%|██████████| 118/118 [04:40<00:00,  2.38s/it, loss=15]\n"
          ]
        },
        {
          "output_type": "stream",
          "name": "stdout",
          "text": [
            "0.0 0.0 0.0 0.0\n",
            "Starting epoch 3, lr = 8.00e-03\n"
          ]
        },
        {
          "output_type": "stream",
          "name": "stderr",
          "text": [
            "Epoch 3/25:   1%|          | 1/118 [00:02<04:31,  2.32s/it, loss=65.2]"
          ]
        },
        {
          "output_type": "stream",
          "name": "stdout",
          "text": [
            "pred_imp min/max: tensor(-1.6178) tensor(2.1596)\n",
            "mask min/max: tensor(-0.0055) tensor(1.)\n",
            "Masked out min:  -0.2901337742805481 , max:  0.840610921382904\n",
            "Faithfulness: 0.0012874448439106345, Stoch Rec: 30.950634002685547, Stoch Rec Layerwise: 28.87361717224121, Importance Min: 53.40042495727539\n",
            "Total gradient norm: 230.86277460665954\n"
          ]
        },
        {
          "output_type": "stream",
          "name": "stderr",
          "text": [
            "Epoch 3/25: 100%|██████████| 118/118 [04:39<00:00,  2.37s/it, loss=13.6]\n"
          ]
        },
        {
          "output_type": "stream",
          "name": "stdout",
          "text": [
            "0.0 0.0 0.0 0.0\n",
            "Starting epoch 4, lr = 8.00e-03\n"
          ]
        },
        {
          "output_type": "stream",
          "name": "stderr",
          "text": [
            "Epoch 4/25:   1%|          | 1/118 [00:02<04:30,  2.31s/it, loss=54.1]"
          ]
        },
        {
          "output_type": "stream",
          "name": "stdout",
          "text": [
            "pred_imp min/max: tensor(-1.9547) tensor(3.1598)\n",
            "mask min/max: tensor(0.0003) tensor(1.)\n",
            "Masked out min:  -0.30887770652770996 , max:  0.8940812945365906\n",
            "Faithfulness: 0.0012575257569551468, Stoch Rec: 25.275955200195312, Stoch Rec Layerwise: 23.47529411315918, Importance Min: 53.85778045654297\n",
            "Total gradient norm: 187.58192810135733\n"
          ]
        },
        {
          "output_type": "stream",
          "name": "stderr",
          "text": [
            "Epoch 4/25: 100%|██████████| 118/118 [04:39<00:00,  2.37s/it, loss=13.5]\n"
          ]
        },
        {
          "output_type": "stream",
          "name": "stdout",
          "text": [
            "0.0 0.0 0.0 0.0\n",
            "Starting epoch 5, lr = 4.00e-03\n"
          ]
        },
        {
          "output_type": "stream",
          "name": "stderr",
          "text": [
            "Epoch 5/25:   1%|          | 1/118 [00:02<05:12,  2.67s/it, loss=45.5]"
          ]
        },
        {
          "output_type": "stream",
          "name": "stdout",
          "text": [
            "pred_imp min/max: tensor(-1.9458) tensor(2.2914)\n",
            "mask min/max: tensor(-0.0034) tensor(1.)\n",
            "Masked out min:  -0.4131135046482086 , max:  0.8017029762268066\n",
            "Faithfulness: 0.001228934619575739, Stoch Rec: 20.911834716796875, Stoch Rec Layerwise: 19.14470672607422, Importance Min: 54.56949234008789\n",
            "Total gradient norm: 86.25928470924507\n"
          ]
        },
        {
          "output_type": "stream",
          "name": "stderr",
          "text": [
            "Epoch 5/25: 100%|██████████| 118/118 [04:40<00:00,  2.38s/it, loss=12.3]\n"
          ]
        },
        {
          "output_type": "stream",
          "name": "stdout",
          "text": [
            "0.0 0.0 0.0 0.0\n",
            "Starting epoch 6, lr = 4.00e-03\n"
          ]
        },
        {
          "output_type": "stream",
          "name": "stderr",
          "text": [
            "Epoch 6/25:   1%|          | 1/118 [00:02<04:31,  2.32s/it, loss=42.8]"
          ]
        },
        {
          "output_type": "stream",
          "name": "stdout",
          "text": [
            "pred_imp min/max: tensor(-2.8286) tensor(2.9667)\n",
            "mask min/max: tensor(-0.0057) tensor(1.)\n",
            "Masked out min:  -0.4108780026435852 , max:  0.65569007396698\n",
            "Faithfulness: 0.0012213274603709579, Stoch Rec: 19.574831008911133, Stoch Rec Layerwise: 17.68197250366211, Importance Min: 55.02389144897461\n",
            "Total gradient norm: 76.2337629171995\n"
          ]
        },
        {
          "output_type": "stream",
          "name": "stderr",
          "text": [
            "Epoch 6/25: 100%|██████████| 118/118 [04:40<00:00,  2.38s/it, loss=12.6]\n"
          ]
        },
        {
          "output_type": "stream",
          "name": "stdout",
          "text": [
            "0.0 0.0 0.0 0.0\n",
            "Starting epoch 7, lr = 4.00e-03\n"
          ]
        },
        {
          "output_type": "stream",
          "name": "stderr",
          "text": [
            "Epoch 7/25:   1%|          | 1/118 [00:02<04:28,  2.29s/it, loss=41.2]"
          ]
        },
        {
          "output_type": "stream",
          "name": "stdout",
          "text": [
            "pred_imp min/max: tensor(-1.7720) tensor(2.4049)\n",
            "mask min/max: tensor(-0.0021) tensor(1.)\n",
            "Masked out min:  -0.3597259223461151 , max:  0.761620283126831\n",
            "Faithfulness: 0.0012131613912060857, Stoch Rec: 18.714948654174805, Stoch Rec Layerwise: 16.90483283996582, Importance Min: 55.32904052734375\n",
            "Total gradient norm: 78.00765288851747\n"
          ]
        },
        {
          "output_type": "stream",
          "name": "stderr",
          "text": [
            "Epoch 7/25: 100%|██████████| 118/118 [04:40<00:00,  2.37s/it, loss=12.4]\n"
          ]
        },
        {
          "output_type": "stream",
          "name": "stdout",
          "text": [
            "0.0 0.0 0.0 0.0\n",
            "Starting epoch 8, lr = 4.00e-03\n"
          ]
        },
        {
          "output_type": "stream",
          "name": "stderr",
          "text": [
            "Epoch 8/25:   1%|          | 1/118 [00:02<05:12,  2.67s/it, loss=40.6]"
          ]
        },
        {
          "output_type": "stream",
          "name": "stdout",
          "text": [
            "pred_imp min/max: tensor(-2.2780) tensor(2.8542)\n",
            "mask min/max: tensor(-0.0035) tensor(1.)\n",
            "Masked out min:  -0.4139865040779114 , max:  0.8102222681045532\n",
            "Faithfulness: 0.0012052588863298297, Stoch Rec: 18.010154724121094, Stoch Rec Layerwise: 16.773448944091797, Importance Min: 58.292762756347656\n",
            "Total gradient norm: 53.72612105276772\n"
          ]
        },
        {
          "output_type": "stream",
          "name": "stderr",
          "text": [
            "Epoch 8/25: 100%|██████████| 118/118 [04:40<00:00,  2.38s/it, loss=12.3]\n"
          ]
        },
        {
          "output_type": "stream",
          "name": "stdout",
          "text": [
            "0.0 0.0 0.0 0.0\n",
            "Starting epoch 9, lr = 2.00e-03\n"
          ]
        },
        {
          "output_type": "stream",
          "name": "stderr",
          "text": [
            "Epoch 9/25:   1%|          | 1/118 [00:02<04:29,  2.31s/it, loss=39.8]"
          ]
        },
        {
          "output_type": "stream",
          "name": "stdout",
          "text": [
            "pred_imp min/max: tensor(-2.0257) tensor(3.1190)\n",
            "mask min/max: tensor(-0.0012) tensor(1.)\n",
            "Masked out min:  -0.33889704942703247 , max:  0.7203965783119202\n",
            "Faithfulness: 0.0011970062041655183, Stoch Rec: 17.234954833984375, Stoch Rec Layerwise: 16.594478607177734, Importance Min: 59.33014678955078\n",
            "Total gradient norm: 79.38111243781908\n"
          ]
        },
        {
          "output_type": "stream",
          "name": "stderr",
          "text": [
            "Epoch 9/25: 100%|██████████| 118/118 [04:39<00:00,  2.37s/it, loss=12.3]\n"
          ]
        },
        {
          "output_type": "stream",
          "name": "stdout",
          "text": [
            "0.0 0.0 0.0 0.0\n",
            "Starting epoch 10, lr = 2.00e-03\n"
          ]
        },
        {
          "output_type": "stream",
          "name": "stderr",
          "text": [
            "Epoch 10/25:   1%|          | 1/118 [00:02<04:28,  2.30s/it, loss=37.7]"
          ]
        },
        {
          "output_type": "stream",
          "name": "stdout",
          "text": [
            "pred_imp min/max: tensor(-2.3798) tensor(2.4826)\n",
            "mask min/max: tensor(-0.0034) tensor(1.)\n",
            "Masked out min:  -0.36474189162254333 , max:  0.6204657554626465\n",
            "Faithfulness: 0.0011943482095375657, Stoch Rec: 16.137128829956055, Stoch Rec Layerwise: 15.59235668182373, Importance Min: 59.794029235839844\n",
            "Total gradient norm: 39.31164905544749\n"
          ]
        },
        {
          "output_type": "stream",
          "name": "stderr",
          "text": [
            "Epoch 10/25: 100%|██████████| 118/118 [04:39<00:00,  2.37s/it, loss=11.8]\n"
          ]
        },
        {
          "output_type": "stream",
          "name": "stdout",
          "text": [
            "0.0 0.0 0.0 0.0\n",
            "Starting epoch 11, lr = 2.00e-03\n"
          ]
        },
        {
          "output_type": "stream",
          "name": "stderr",
          "text": [
            "Epoch 11/25:   1%|          | 1/118 [00:02<05:11,  2.66s/it, loss=38.4]"
          ]
        },
        {
          "output_type": "stream",
          "name": "stdout",
          "text": [
            "pred_imp min/max: tensor(-2.3439) tensor(3.3763)\n",
            "mask min/max: tensor(-0.0054) tensor(1.)\n",
            "Masked out min:  -0.42482319474220276 , max:  0.8554617762565613\n",
            "Faithfulness: 0.001190854818560183, Stoch Rec: 16.5850830078125, Stoch Rec Layerwise: 15.883773803710938, Importance Min: 59.534976959228516\n",
            "Total gradient norm: 44.088907997087176\n"
          ]
        },
        {
          "output_type": "stream",
          "name": "stderr",
          "text": [
            "Epoch 11/25: 100%|██████████| 118/118 [04:40<00:00,  2.38s/it, loss=12.2]\n"
          ]
        },
        {
          "output_type": "stream",
          "name": "stdout",
          "text": [
            "0.0 0.0 0.0 0.0\n",
            "Starting epoch 12, lr = 2.00e-03\n"
          ]
        },
        {
          "output_type": "stream",
          "name": "stderr",
          "text": [
            "Epoch 12/25:   1%|          | 1/118 [00:02<04:29,  2.30s/it, loss=38]"
          ]
        },
        {
          "output_type": "stream",
          "name": "stdout",
          "text": [
            "pred_imp min/max: tensor(-1.8942) tensor(2.4391)\n",
            "mask min/max: tensor(-0.0074) tensor(1.)\n",
            "Masked out min:  -0.3182293772697449 , max:  0.9881288409233093\n",
            "Faithfulness: 0.0011874587507918477, Stoch Rec: 16.289627075195312, Stoch Rec Layerwise: 15.744044303894043, Importance Min: 59.250038146972656\n",
            "Total gradient norm: 52.8275046152963\n"
          ]
        },
        {
          "output_type": "stream",
          "name": "stderr",
          "text": [
            "Epoch 12/25: 100%|██████████| 118/118 [04:41<00:00,  2.38s/it, loss=11.9]\n"
          ]
        },
        {
          "output_type": "stream",
          "name": "stdout",
          "text": [
            "0.0 0.0 0.0 0.0\n",
            "Starting epoch 13, lr = 1.00e-03\n"
          ]
        },
        {
          "output_type": "stream",
          "name": "stderr",
          "text": [
            "Epoch 13/25:   1%|          | 1/118 [00:02<04:41,  2.41s/it, loss=38.7]"
          ]
        },
        {
          "output_type": "stream",
          "name": "stdout",
          "text": [
            "pred_imp min/max: tensor(-1.8829) tensor(3.1376)\n",
            "mask min/max: tensor(-0.0044) tensor(1.)\n",
            "Masked out min:  -0.3526413142681122 , max:  0.8232038021087646\n",
            "Faithfulness: 0.0011842931853607297, Stoch Rec: 16.653886795043945, Stoch Rec Layerwise: 16.096633911132812, Importance Min: 59.05140686035156\n",
            "Total gradient norm: 44.951287555002125\n"
          ]
        },
        {
          "output_type": "stream",
          "name": "stderr",
          "text": [
            "Epoch 13/25: 100%|██████████| 118/118 [04:39<00:00,  2.37s/it, loss=11.7]\n"
          ]
        },
        {
          "output_type": "stream",
          "name": "stdout",
          "text": [
            "0.0 0.0 0.0 0.0\n",
            "Starting epoch 14, lr = 1.00e-03\n"
          ]
        },
        {
          "output_type": "stream",
          "name": "stderr",
          "text": [
            "Epoch 14/25:   1%|          | 1/118 [00:02<04:47,  2.46s/it, loss=38.9]"
          ]
        },
        {
          "output_type": "stream",
          "name": "stdout",
          "text": [
            "pred_imp min/max: tensor(-2.4398) tensor(3.2440)\n",
            "mask min/max: tensor(-0.0020) tensor(1.)\n",
            "Masked out min:  -0.3931247293949127 , max:  0.6370551586151123\n",
            "Faithfulness: 0.0011827393900603056, Stoch Rec: 16.75955581665039, Stoch Rec Layerwise: 16.235301971435547, Importance Min: 58.92161178588867\n",
            "Total gradient norm: 41.745517683541806\n"
          ]
        },
        {
          "output_type": "stream",
          "name": "stderr",
          "text": [
            "Epoch 14/25: 100%|██████████| 118/118 [04:39<00:00,  2.37s/it, loss=11.9]\n"
          ]
        },
        {
          "output_type": "stream",
          "name": "stdout",
          "text": [
            "0.0 0.0 0.0 0.0\n",
            "Starting epoch 15, lr = 1.00e-03\n"
          ]
        },
        {
          "output_type": "stream",
          "name": "stderr",
          "text": [
            "Epoch 15/25:   1%|          | 1/118 [00:02<04:30,  2.31s/it, loss=37.4]"
          ]
        },
        {
          "output_type": "stream",
          "name": "stdout",
          "text": [
            "pred_imp min/max: tensor(-2.3556) tensor(3.2931)\n",
            "mask min/max: tensor(-0.0031) tensor(1.)\n",
            "Masked out min:  -0.3528532087802887 , max:  0.7803086042404175\n",
            "Faithfulness: 0.0011812610318884254, Stoch Rec: 15.981236457824707, Stoch Rec Layerwise: 15.46411418914795, Importance Min: 59.079986572265625\n",
            "Total gradient norm: 46.26904320493297\n"
          ]
        },
        {
          "output_type": "stream",
          "name": "stderr",
          "text": [
            "Epoch 15/25: 100%|██████████| 118/118 [04:38<00:00,  2.36s/it, loss=12.2]\n"
          ]
        },
        {
          "output_type": "stream",
          "name": "stdout",
          "text": [
            "0.0 0.0 0.0 0.0\n",
            "Starting epoch 16, lr = 1.00e-03\n"
          ]
        },
        {
          "output_type": "stream",
          "name": "stderr",
          "text": [
            "Epoch 16/25:   1%|          | 1/118 [00:02<04:36,  2.36s/it, loss=37.4]"
          ]
        },
        {
          "output_type": "stream",
          "name": "stdout",
          "text": [
            "pred_imp min/max: tensor(-1.9932) tensor(3.4312)\n",
            "mask min/max: tensor(-0.0016) tensor(1.)\n",
            "Masked out min:  -0.38177233934402466 , max:  0.867191731929779\n",
            "Faithfulness: 0.0011797931510955095, Stoch Rec: 15.928387641906738, Stoch Rec Layerwise: 15.545616149902344, Importance Min: 59.27867889404297\n",
            "Total gradient norm: 38.119449864821625\n"
          ]
        },
        {
          "output_type": "stream",
          "name": "stderr",
          "text": [
            "Epoch 16/25: 100%|██████████| 118/118 [04:39<00:00,  2.36s/it, loss=12]\n"
          ]
        },
        {
          "output_type": "stream",
          "name": "stdout",
          "text": [
            "0.0 0.0 0.0 0.0\n",
            "Starting epoch 17, lr = 5.00e-04\n"
          ]
        },
        {
          "output_type": "stream",
          "name": "stderr",
          "text": [
            "Epoch 17/25:   1%|          | 1/118 [00:02<04:45,  2.44s/it, loss=37.2]"
          ]
        },
        {
          "output_type": "stream",
          "name": "stdout",
          "text": [
            "pred_imp min/max: tensor(-2.2368) tensor(2.9023)\n",
            "mask min/max: tensor(-0.0077) tensor(1.)\n",
            "Masked out min:  -0.3665906488895416 , max:  0.811331570148468\n",
            "Faithfulness: 0.0011781958164647222, Stoch Rec: 15.753721237182617, Stoch Rec Layerwise: 15.472018241882324, Importance Min: 59.724761962890625\n",
            "Total gradient norm: 49.74023960609668\n"
          ]
        },
        {
          "output_type": "stream",
          "name": "stderr",
          "text": [
            "Epoch 17/25: 100%|██████████| 118/118 [04:38<00:00,  2.36s/it, loss=12]\n"
          ]
        },
        {
          "output_type": "stream",
          "name": "stdout",
          "text": [
            "0.0 0.0 0.0 0.0\n",
            "Starting epoch 18, lr = 5.00e-04\n"
          ]
        },
        {
          "output_type": "stream",
          "name": "stderr",
          "text": [
            "Epoch 18/25:   1%|          | 1/118 [00:02<04:30,  2.31s/it, loss=37]"
          ]
        },
        {
          "output_type": "stream",
          "name": "stdout",
          "text": [
            "pred_imp min/max: tensor(-2.3253) tensor(3.1987)\n",
            "mask min/max: tensor(-0.0043) tensor(1.)\n",
            "Masked out min:  -0.3708230257034302 , max:  0.7845755815505981\n",
            "Faithfulness: 0.0011771713616326451, Stoch Rec: 15.65058708190918, Stoch Rec Layerwise: 15.361968994140625, Importance Min: 59.72987747192383\n",
            "Total gradient norm: 36.03940226925164\n"
          ]
        },
        {
          "output_type": "stream",
          "name": "stderr",
          "text": [
            "Epoch 18/25: 100%|██████████| 118/118 [04:39<00:00,  2.37s/it, loss=11.8]\n"
          ]
        },
        {
          "output_type": "stream",
          "name": "stdout",
          "text": [
            "0.0 0.0 0.0 0.0\n",
            "Starting epoch 19, lr = 5.00e-04\n"
          ]
        },
        {
          "output_type": "stream",
          "name": "stderr",
          "text": [
            "Epoch 19/25:   1%|          | 1/118 [00:02<04:27,  2.29s/it, loss=37.5]"
          ]
        },
        {
          "output_type": "stream",
          "name": "stdout",
          "text": [
            "pred_imp min/max: tensor(-1.9934) tensor(2.8908)\n",
            "mask min/max: tensor(-0.0173) tensor(1.)\n",
            "Masked out min:  -0.39411628246307373 , max:  0.7565032243728638\n",
            "Faithfulness: 0.0011763253714889288, Stoch Rec: 15.840815544128418, Stoch Rec Layerwise: 15.654398918151855, Importance Min: 59.68240737915039\n",
            "Total gradient norm: 38.20987445335886\n"
          ]
        },
        {
          "output_type": "stream",
          "name": "stderr",
          "text": [
            "Epoch 19/25: 100%|██████████| 118/118 [04:39<00:00,  2.37s/it, loss=11.5]\n"
          ]
        },
        {
          "output_type": "stream",
          "name": "stdout",
          "text": [
            "0.0 0.0 0.0 0.0\n",
            "Starting epoch 20, lr = 5.00e-04\n"
          ]
        },
        {
          "output_type": "stream",
          "name": "stderr",
          "text": [
            "Epoch 20/25:   1%|          | 1/118 [00:02<04:58,  2.55s/it, loss=37]"
          ]
        },
        {
          "output_type": "stream",
          "name": "stdout",
          "text": [
            "pred_imp min/max: tensor(-2.2634) tensor(3.1947)\n",
            "mask min/max: tensor(-0.0084) tensor(1.)\n",
            "Masked out min:  -0.4205290973186493 , max:  1.0234887599945068\n",
            "Faithfulness: 0.0011757775209844112, Stoch Rec: 15.6609468460083, Stoch Rec Layerwise: 15.402249336242676, Importance Min: 59.760562896728516\n",
            "Total gradient norm: 39.57675552012207\n"
          ]
        },
        {
          "output_type": "stream",
          "name": "stderr",
          "text": [
            "Epoch 20/25: 100%|██████████| 118/118 [04:38<00:00,  2.36s/it, loss=11.6]\n"
          ]
        },
        {
          "output_type": "stream",
          "name": "stdout",
          "text": [
            "0.0 0.0 0.0 0.0\n",
            "Starting epoch 21, lr = 2.50e-04\n"
          ]
        },
        {
          "output_type": "stream",
          "name": "stderr",
          "text": [
            "Epoch 21/25:   1%|          | 1/118 [00:02<04:29,  2.30s/it, loss=37.1]"
          ]
        },
        {
          "output_type": "stream",
          "name": "stdout",
          "text": [
            "pred_imp min/max: tensor(-2.1476) tensor(3.6193)\n",
            "mask min/max: tensor(-0.0082) tensor(1.)\n",
            "Masked out min:  -0.4715726971626282 , max:  0.9158615469932556\n",
            "Faithfulness: 0.0011752414284273982, Stoch Rec: 15.694682121276855, Stoch Rec Layerwise: 15.458259582519531, Importance Min: 59.56167221069336\n",
            "Total gradient norm: 41.448426852835325\n"
          ]
        },
        {
          "output_type": "stream",
          "name": "stderr",
          "text": [
            "Epoch 21/25: 100%|██████████| 118/118 [04:39<00:00,  2.37s/it, loss=12]\n"
          ]
        },
        {
          "output_type": "stream",
          "name": "stdout",
          "text": [
            "0.0 0.0 0.0 0.0\n",
            "Starting epoch 22, lr = 2.50e-04\n"
          ]
        },
        {
          "output_type": "stream",
          "name": "stderr",
          "text": [
            "Epoch 22/25:   1%|          | 1/118 [00:02<04:29,  2.31s/it, loss=36.8]"
          ]
        },
        {
          "output_type": "stream",
          "name": "stdout",
          "text": [
            "pred_imp min/max: tensor(-1.9975) tensor(3.0239)\n",
            "mask min/max: tensor(-0.0087) tensor(1.)\n",
            "Masked out min:  -0.4510664939880371 , max:  0.8957698345184326\n",
            "Faithfulness: 0.0011746195377781987, Stoch Rec: 15.582290649414062, Stoch Rec Layerwise: 15.309797286987305, Importance Min: 59.551883697509766\n",
            "Total gradient norm: 33.65965425383847\n"
          ]
        },
        {
          "output_type": "stream",
          "name": "stderr",
          "text": [
            "Epoch 22/25: 100%|██████████| 118/118 [04:38<00:00,  2.36s/it, loss=11.7]\n"
          ]
        },
        {
          "output_type": "stream",
          "name": "stdout",
          "text": [
            "0.0 0.0 0.0 0.0\n",
            "Starting epoch 23, lr = 2.50e-04\n"
          ]
        },
        {
          "output_type": "stream",
          "name": "stderr",
          "text": [
            "Epoch 23/25:   1%|          | 1/118 [00:02<05:00,  2.57s/it, loss=37.2]"
          ]
        },
        {
          "output_type": "stream",
          "name": "stdout",
          "text": [
            "pred_imp min/max: tensor(-2.0512) tensor(3.0905)\n",
            "mask min/max: tensor(-0.0055) tensor(1.)\n",
            "Masked out min:  -0.3820277452468872 , max:  0.6254575848579407\n",
            "Faithfulness: 0.0011742596980184317, Stoch Rec: 15.768109321594238, Stoch Rec Layerwise: 15.476945877075195, Importance Min: 59.45616149902344\n",
            "Total gradient norm: 32.2865267979162\n"
          ]
        },
        {
          "output_type": "stream",
          "name": "stderr",
          "text": [
            "Epoch 23/25: 100%|██████████| 118/118 [04:38<00:00,  2.36s/it, loss=11.9]\n"
          ]
        },
        {
          "output_type": "stream",
          "name": "stdout",
          "text": [
            "0.0 0.0 0.0 0.0\n",
            "Starting epoch 24, lr = 2.50e-04\n"
          ]
        },
        {
          "output_type": "stream",
          "name": "stderr",
          "text": [
            "Epoch 24/25:   1%|          | 1/118 [00:02<04:33,  2.34s/it, loss=37.3]"
          ]
        },
        {
          "output_type": "stream",
          "name": "stdout",
          "text": [
            "pred_imp min/max: tensor(-2.0241) tensor(3.6201)\n",
            "mask min/max: tensor(-0.0090) tensor(1.)\n",
            "Masked out min:  -0.4084336459636688 , max:  0.9107349514961243\n",
            "Faithfulness: 0.0011739039327949286, Stoch Rec: 15.844325065612793, Stoch Rec Layerwise: 15.5100736618042, Importance Min: 59.4804801940918\n",
            "Total gradient norm: 32.01846260660144\n"
          ]
        },
        {
          "output_type": "stream",
          "name": "stderr",
          "text": [
            "Epoch 24/25: 100%|██████████| 118/118 [04:39<00:00,  2.37s/it, loss=12]\n"
          ]
        },
        {
          "output_type": "stream",
          "name": "stdout",
          "text": [
            "0.0 0.0 0.0 0.0\n",
            "Starting epoch 25, lr = 1.25e-04\n"
          ]
        },
        {
          "output_type": "stream",
          "name": "stderr",
          "text": [
            "Epoch 25/25:   1%|          | 1/118 [00:02<04:29,  2.30s/it, loss=37.8]"
          ]
        },
        {
          "output_type": "stream",
          "name": "stdout",
          "text": [
            "pred_imp min/max: tensor(-1.9682) tensor(2.8519)\n",
            "mask min/max: tensor(-0.0037) tensor(1.)\n",
            "Masked out min:  -0.37912943959236145 , max:  0.8561169505119324\n",
            "Faithfulness: 0.0011736595770344138, Stoch Rec: 16.0897159576416, Stoch Rec Layerwise: 15.774398803710938, Importance Min: 59.39533615112305\n",
            "Total gradient norm: 28.509992709340263\n"
          ]
        },
        {
          "output_type": "stream",
          "name": "stderr",
          "text": [
            "Epoch 25/25: 100%|██████████| 118/118 [04:38<00:00,  2.36s/it, loss=11.9]"
          ]
        },
        {
          "output_type": "stream",
          "name": "stdout",
          "text": [
            "0.0 0.0 0.0 0.0\n"
          ]
        },
        {
          "output_type": "stream",
          "name": "stderr",
          "text": [
            "\n"
          ]
        }
      ],
      "source": [
        "# generated by LLM\n",
        "\n",
        "class HardSigmoid(nn.Module):\n",
        "    \"\"\"\n",
        "    Implements the hard sigmoid activation function as described in the paper:\n",
        "        σ_H(x) = 0 if x <= 0\n",
        "               = x if 0 < x < 1\n",
        "               = 1 if x >= 1\n",
        "    This is equivalent to: torch.clamp(x, min=0.0, max=1.0)\n",
        "    \"\"\"\n",
        "    def __init__(self):\n",
        "        super().__init__()\n",
        "\n",
        "    def forward(self, x):\n",
        "        # Clamp values between 0 and 1\n",
        "        return torch.clamp(x, min=0.0, max=1.0)\n",
        "\n",
        "\n",
        "class LowerLeakyHardSigmoid(nn.Module):\n",
        "    \"\"\"\n",
        "    Lower-leaky hard sigmoid: σH,lower(x)\n",
        "    - 0.01*x if x <= 0 (leaky below 0)\n",
        "    - x if 0 <= x <= 1 (linear in middle)\n",
        "    - 1 if x >= 1 (saturated above 1)\n",
        "\n",
        "    Used for forward pass masks in stochastic reconstruction losses.\n",
        "    \"\"\"\n",
        "    def __init__(self, leak_slope=0.01):\n",
        "        super().__init__()\n",
        "        self.leak_slope = leak_slope\n",
        "\n",
        "    def forward(self, x):\n",
        "        return torch.where(\n",
        "            x <= 0,\n",
        "            self.leak_slope * x,\n",
        "            torch.where(\n",
        "                x >= 1,\n",
        "                torch.ones_like(x),\n",
        "                x\n",
        "            )\n",
        "        )\n",
        "\n",
        "class UpperLeakyHardSigmoid(nn.Module):\n",
        "    \"\"\"\n",
        "    Upper-leaky hard sigmoid: σH,upper(x)\n",
        "    - 0 if x <= 0 (hard cutoff below 0)\n",
        "    - x if 0 <= x <= 1 (linear in middle)\n",
        "    - 1 + 0.01*(x-1) if x >= 1 (leaky above 1)\n",
        "\n",
        "    Used for importance loss computation.\n",
        "    \"\"\"\n",
        "    def __init__(self, leak_slope=0.01):\n",
        "        super().__init__()\n",
        "        self.leak_slope = leak_slope\n",
        "\n",
        "    def forward(self, x):\n",
        "        return torch.where(\n",
        "            x <= 0,\n",
        "            torch.zeros_like(x),\n",
        "            torch.where(\n",
        "                x >= 1,\n",
        "                1 + self.leak_slope * (x - 1),\n",
        "                x\n",
        "            )\n",
        "        )\n",
        "\n",
        "\n",
        "class SPDModelMLP(nn.Module):\n",
        "    # fix the betas stuff below that's basically a type hint\n",
        "    def __init__(self, target_model, config, device=\"cuda\"):\n",
        "        super().__init__()\n",
        "\n",
        "        print(\"Devices: \", device, target_model.device)\n",
        "        self.device = device\n",
        "        object.__setattr__(self, \"target_model\", target_model) # sets pointer to target_model without registering its parameters as subsidiary\n",
        "        assert self.device == target_model.device, \"Models not on same device\"\n",
        "\n",
        "        self.num_layers, self.pre_embed_size, self.in_size, self.hidden_size, self.imp_hidden_size = config[\"num_layers\"], config[\"pre_embed_size\"], config[\"in_size\"], config[\"hidden_size\"], config[\"importance_mlp_size\"]\n",
        "        self.C = config[\"subcomponents_per_layer\"]\n",
        "        self.hypers = dict(list(config.items())[4:]) # sets the \"hypers\" to contain all the hyperparameters for the model\n",
        "\n",
        "        # Subcomponent vectors, each of shape C by in_size; to be used\n",
        "        # with outer product to create our low-rank subcomponent matrices\n",
        "        self.V_embed = nn.Parameter(torch.empty((self.C, self.pre_embed_size,), device=device))\n",
        "        self.U_embed = nn.Parameter(torch.empty((self.C, self.in_size,), device=device))\n",
        "        self.V_unembed = nn.Parameter(torch.empty((self.C, self.in_size,), device=device))\n",
        "        self.U_unembed = nn.Parameter(torch.empty((self.C, self.pre_embed_size,), device=device))\n",
        "\n",
        "        self.V_in = nn.ParameterList([torch.empty((self.C, self.in_size,), device=device) for i in range(self.num_layers)])\n",
        "        self.U_in = nn.ParameterList([torch.empty((self.C, self.hidden_size,), device=device) for i in range(self.num_layers)])\n",
        "        self.V_out = nn.ParameterList([torch.empty((self.C, self.hidden_size,), device=device) for i in range(self.num_layers)])\n",
        "        self.U_out = nn.ParameterList([torch.empty((self.C, self.in_size,), device=device) for i in range(self.num_layers)])\n",
        "\n",
        "        # idk what you do with the biases lol\n",
        "        self.b = nn.ParameterList([torch.zeros((self.hidden_size,), device=device) for i in range(self.num_layers)])\n",
        "\n",
        "        # this is so horrible I'm sorry\n",
        "        # gate_in_in is the gate_in weights for the in subcomponent of each layer\n",
        "        # gate_in_out is gate_in weights for the out component\n",
        "        # they each get an extra one on the end which is for the embed matrix\n",
        "        # Probably should have just registered these as submodels, but I didn't know that those existed before.\n",
        "        self.imp_W_gate_in_in = nn.ParameterList([torch.empty((self.C, 1, self.imp_hidden_size), device=device) for i in range(self.num_layers+1)])\n",
        "        self.imp_W_gate_out_in = nn.ParameterList([torch.empty((self.C, self.imp_hidden_size, 1), device=device) for i in range(self.num_layers+1)])\n",
        "        self.imp_b_in_in = nn.ParameterList([torch.empty((self.C, self.imp_hidden_size), device=device) for i in range(self.num_layers+1)])\n",
        "        self.imp_b_out_in = nn.ParameterList([torch.empty((self.C, 1), device=device) for i in range(self.num_layers+1)])\n",
        "\n",
        "        self.imp_W_gate_in_out = nn.ParameterList([torch.empty((self.C, 1, self.imp_hidden_size), device=device) for i in range(self.num_layers+1)])\n",
        "        self.imp_W_gate_out_out = nn.ParameterList([torch.empty((self.C, self.imp_hidden_size, 1), device=device) for i in range(self.num_layers+1)])\n",
        "        self.imp_b_in_out = nn.ParameterList([torch.empty((self.C, self.imp_hidden_size), device=device) for i in range(self.num_layers+1)])\n",
        "        self.imp_b_out_out = nn.ParameterList([torch.empty((self.C, 1), device=device) for i in range(self.num_layers+1)])\n",
        "\n",
        "        # self.pred_weights = torch.empty((num_layers, self.C), device=device)\n",
        "\n",
        "        for param in self.parameters():\n",
        "            # using xavier anyway -- note that the variance etc is\n",
        "            # changed because we take the outer product in the\n",
        "            # forward pass\n",
        "            if param.dim() >= 2: # xavier does not work for 1d tensors\n",
        "                nn.init.xavier_normal_(param)\n",
        "            else:\n",
        "                nn.init.zeros_(param)\n",
        "                param = param + 0.1\n",
        "\n",
        "\n",
        "    def forward(self, x, return_activs_and_weights=False, masks=None): # Regular run. Unclear whether I should have masking when I do a regular forward pass.\n",
        "        v_activations = []\n",
        "        weight_matrices = []\n",
        "        x_in = x.clone()\n",
        "        layerwise_resids = []\n",
        "\n",
        "        if masks is not None:\n",
        "\n",
        "            v_activ_embed = torch.einsum(\"np,cp->nc\", x_in, self.V_embed) * masks[-1][\"embed\"]\n",
        "            v_activ_embed_nomask = torch.einsum(\"np,cp->nc\", x_in, self.V_embed)\n",
        "\n",
        "            x_embedded = torch.einsum(\"nc,ci->ni\", v_activ_embed, self.U_embed)\n",
        "            x_embedded_nomask = torch.einsum(\"nc,ci->ni\", v_activ_embed_nomask, self.U_embed)\n",
        "\n",
        "            x_resid = x_embedded.clone()\n",
        "\n",
        "            for l in range(self.num_layers):\n",
        "                ### Run the forward pass just for this layer\n",
        "                v_activ_layer_in = torch.einsum(\"ni,ci->nc\", x_resid, self.V_in[l]) * masks[l][\"in\"] # V activations\n",
        "                layer_hidden = F.relu(torch.einsum(\"nc,ch->nh\", v_activ_layer_in, self.U_in[l]) + self.b[l]) # U and ReLU\n",
        "                v_activ_layer_out = torch.einsum(\"nh,ch->nc\", layer_hidden, self.V_out[l]) * masks[l][\"out\"] # V activ\n",
        "                layer_out = torch.einsum(\"nc,ci->ni\", v_activ_layer_out, self.U_out[l]) # U\n",
        "                x_resid = x_resid + layer_out # add to residual stream\n",
        "\n",
        "                # Run the layerwise forward pass for the whole model, with masking only this layer\n",
        "                x_resid_layerwise_in = x_embedded_nomask.clone() # pre-embedded\n",
        "                x_resid_layerwise_out = x_embedded_nomask.clone() # pre-embedded again\n",
        "\n",
        "                for l_2 in range(self.num_layers): # oh god this is so awful. literally sobbing rn. i can't believe I'm writing it like this\n",
        "                    if l_2 == l:\n",
        "                        # run with mask on in\n",
        "                        v_activ_layer_in_l = torch.einsum(\"ni,ci->nc\", x_resid_layerwise_in, self.V_in[l]) * masks[l][\"in\"]\n",
        "                        layer_hidden_l = F.relu(torch.einsum(\"nc,ch->nh\", v_activ_layer_in_l, self.U_in[l])+self.b[l])\n",
        "                        v_activ_layer_out_l = torch.einsum(\"nh,ch->nc\", layer_hidden_l, self.V_out[l])\n",
        "                        layer_out_l_masked_in = torch.einsum(\"nc,ci->ni\", v_activ_layer_out_l, self.U_out[l])\n",
        "                        x_resid_layerwise_in = x_resid_layerwise_in + layer_out_l_masked_in\n",
        "\n",
        "                        # run with mask on out\n",
        "                        v_activ_layer_in_l = torch.einsum(\"ni,ci->nc\", x_resid_layerwise_out, self.V_in[l])\n",
        "                        layer_hidden_l = F.relu(torch.einsum(\"nc,ch->nh\", v_activ_layer_in_l, self.U_in[l])+self.b[l])\n",
        "                        v_activ_layer_out_l = torch.einsum(\"nh,ch->nc\", layer_hidden_l, self.V_out[l]) * masks[l][\"out\"]\n",
        "                        layer_out_l_masked_out = torch.einsum(\"nc,ci->ni\", v_activ_layer_out_l, self.U_out[l])\n",
        "                        x_resid_layerwise_out = x_resid_layerwise_out + layer_out_l_masked_out\n",
        "\n",
        "\n",
        "                    else: # THE SAME EXACT THING EXCEPT WITHOUT THE MASKS >_<\n",
        "                        v_activ_layer_in_l = torch.einsum(\"ni,ci->nc\", x_resid_layerwise_in, self.V_in[l])\n",
        "                        layer_hidden_l = F.relu(torch.einsum(\"nc,ch->nh\", v_activ_layer_in_l, self.U_in[l]) + self.b[l])\n",
        "                        v_activ_layer_out_l = torch.einsum(\"nh,ch->nc\", layer_hidden_l, self.V_out[l])\n",
        "                        layer_out_l = torch.einsum(\"nc,ci->ni\", v_activ_layer_out_l, self.U_out[l])\n",
        "                        x_resid_layerwise_in = x_resid_layerwise_in + layer_out_l\n",
        "\n",
        "                        v_activ_layer_in_l = torch.einsum(\"ni,ci->nc\", x_resid_layerwise_out, self.V_in[l])\n",
        "                        layer_hidden_l = F.relu(torch.einsum(\"nc,ch->nh\", v_activ_layer_in_l, self.U_in[l]) + self.b[l])\n",
        "                        v_activ_layer_out_l = torch.einsum(\"nh,ch->nc\", layer_hidden_l, self.V_out[l])\n",
        "                        layer_out_l = torch.einsum(\"nc,ci->ni\", v_activ_layer_out_l, self.U_out[l])\n",
        "                        x_resid_layerwise_out = x_resid_layerwise_out + layer_out_l\n",
        "\n",
        "                    x_out_layerwise_in = torch.einsum(\"nc,cp->np\", torch.einsum(\"ni,ci->nc\", x_resid_layerwise_in, self.V_unembed), self.U_unembed)\n",
        "                    x_out_layerwise_out = torch.einsum(\"nc,cp->np\", torch.einsum(\"ni,ci->nc\", x_resid_layerwise_out, self.V_unembed), self.U_unembed)\n",
        "                    layerwise_resids.append({\"in\":x_out_layerwise_in,\"out\":x_out_layerwise_out})\n",
        "\n",
        "                # run layerwise for embed and unembed as well, because very intelligently I gave them their own separate weight matrices\n",
        "                # and they don't get included when iterating through layers\n",
        "                x_embed_resid = x_embedded.clone()\n",
        "                for l in range(self.num_layers):\n",
        "                    v_activ_layer_in_l = torch.einsum(\"ni,ci->nc\", x_embed_resid, self.V_in[l])\n",
        "                    layer_hidden_l = F.relu(torch.einsum(\"nc,ch->nh\", v_activ_layer_in_l, self.U_in[l]) + self.b[l])\n",
        "                    v_activ_layer_out_l = torch.einsum(\"nh,ch->nc\", layer_hidden_l, self.V_out[l])\n",
        "                    layer_out_embed_mask = torch.einsum(\"nc,ci->ni\", v_activ_layer_out_l, self.U_out[l])\n",
        "                    x_embed_resid = x_embed_resid + layer_out_embed_mask\n",
        "                x_out_embed_mask = torch.einsum(\"nc,cp->np\", torch.einsum(\"ni,ci->nc\", x_embed_resid, self.V_unembed), self.U_unembed)\n",
        "\n",
        "                x_unembed_resid = x_embedded_nomask.clone()\n",
        "                for l in range(self.num_layers):\n",
        "                    v_activ_layer_in_l = torch.einsum(\"ni,ci->nc\", x_unembed_resid, self.V_in[l])\n",
        "                    layer_hidden_l = F.relu(torch.einsum(\"nc,ch->nh\", v_activ_layer_in_l, self.U_in[l]) + self.b[l])\n",
        "                    v_activ_layer_out_l = torch.einsum(\"nh,ch->nc\", layer_hidden_l, self.V_out[l])\n",
        "                    layer_out_unembed_mask = torch.einsum(\"nc,ci->ni\", v_activ_layer_out_l, self.U_out[l])\n",
        "                    x_unembed_resid = x_unembed_resid + layer_out_unembed_mask\n",
        "                x_out_unembed_mask = torch.einsum(\"nc,cp->np\", torch.einsum(\"ni,ci->nc\", x_unembed_resid, self.V_unembed)* masks[-1][\"unembed\"], self.U_unembed)\n",
        "\n",
        "                layerwise_resids.append({\"embed\": x_out_embed_mask, \"unembed\": x_out_unembed_mask})\n",
        "\n",
        "            v_activ_unembed = torch.einsum(\"ni,ci->nc\", x_resid, self.V_unembed) * masks[-1][\"unembed\"]\n",
        "            x_out = torch.einsum(\"nc,cp->np\", v_activ_unembed, self.U_unembed)\n",
        "\n",
        "\n",
        "        else:\n",
        "            W_embed = torch.einsum(\"cp, ci -> cpi\", self.V_embed, self.U_embed).sum(dim=0)\n",
        "            x_resid = torch.einsum(\"np, pi -> ni\", x_in, W_embed)\n",
        "            v_activ_embed = torch.einsum(\"np,cp->nc\", x_in, self.V_embed).unsqueeze(-1)\n",
        "\n",
        "            for l in range(self.num_layers):\n",
        "                # Use outer product to create weights for the layer, then sum all the subcomponents\n",
        "                W_in = torch.einsum(\"ci,ch-> cih\", self.V_in[l], self.U_in[l]).sum(dim=0) # shape i h\n",
        "                W_out = torch.einsum(\"ch,ci-> chi\", self.V_out[l], self.U_out[l]).sum(dim=0) # shape h i\n",
        "                if return_activs_and_weights == True:\n",
        "                    weight_matrices.append({\"in\": W_in, \"out\": W_out})\n",
        "                # COMPUTE\n",
        "                layer_in = F.relu(torch.einsum(\"ni,ih -> nh\", x_resid, W_in) + self.b[l])\n",
        "                layer_out = torch.einsum(\"nh,hi->ni\", F.relu(layer_in), W_out)\n",
        "\n",
        "                if return_activs_and_weights == True: # LMAO I HAD IT INDENTED WRONG\n",
        "                    # calculate activations\n",
        "                    v_activ_layer_in = torch.einsum(\"ni,ci->nc\", x_resid, self.V_in[l]).unsqueeze(-1)\n",
        "                    v_activ_layer_out = torch.einsum(\"nh,ch->nc\", layer_in, self.V_out[l]).unsqueeze(-1)\n",
        "                    # both are now shape n,c,1\n",
        "                    v_activations.append({\"in\": v_activ_layer_in, \"out\": v_activ_layer_out})\n",
        "\n",
        "                    # code to make sure I'm not doing some goofy shit with the activations at the beginning\n",
        "                    check_layer_in_uv = F.relu(torch.einsum(\"nc,ch->nh\", v_activ_layer_in.squeeze(), self.U_in[l]) + self.b[l])\n",
        "                    assert torch.allclose(layer_in, check_layer_in_uv, atol=10), f\"Subcomponent activations not calculated correctly, max difference is {torch.max(layer_in-check_layer_in_uv)}; {layer_in}{check_layer_in_uv}\"\n",
        "                    # would in theory have one for the second too but I'm being lazy\n",
        "\n",
        "            x_resid = x_resid + layer_out\n",
        "            W_unembed = torch.einsum(\"ci, cp-> cip\", self.V_unembed, self.U_unembed).sum(dim=0)\n",
        "            x_out = torch.einsum(\"ni, ip -> np\", x_resid, W_unembed)\n",
        "\n",
        "            if return_activs_and_weights == True:\n",
        "                weight_matrices.append({\"embed\": W_embed, \"unembed\": W_unembed})\n",
        "                v_activ_unembed = torch.einsum(\"ni,ci->nc\", x_resid, self.V_unembed).unsqueeze(-1)\n",
        "                v_activations.append({\"embed\": v_activ_embed, \"unembed\": v_activ_unembed})\n",
        "            # putting the embed matrices at the end of the masks. since we iterate through l in range(num_layers) this will not get added! :D\n",
        "\n",
        "        if return_activs_and_weights:\n",
        "            return x_out, v_activations, weight_matrices\n",
        "        elif masks is not None:\n",
        "            return x_out, layerwise_resids\n",
        "        else:\n",
        "            return x_out\n",
        "\n",
        "loss_history = []\n",
        "loss_history_stoch_rec = []\n",
        "loss_history_stoch_rec_layer = []\n",
        "loss_history_faithfulness = []\n",
        "loss_history_imp_min = []\n",
        "\n",
        "\n",
        "def train_SPD(spd_model, dataloader, lr=1e-5, num_epochs=20):\n",
        "\n",
        "    spd_model.train()\n",
        "    print(f\"Training on device {spd_model.device}\")\n",
        "    optimizer = torch.optim.AdamW(spd_model.parameters(), lr = lr)\n",
        "\n",
        "    scheduler = torch.optim.lr_scheduler.StepLR(\n",
        "        optimizer,\n",
        "        step_size=4,   # e.g. every 4 epochs\n",
        "        gamma=0.5      # multiply LR by 0.5 each time\n",
        "    )\n",
        "\n",
        "    P = sum(p.numel() for p in spd_model.target_model.parameters())\n",
        "\n",
        "    upper_leaky_sigmoid = UpperLeakyHardSigmoid()\n",
        "    lower_leaky_sigmoid = LowerLeakyHardSigmoid()\n",
        "\n",
        "    for epoch in range(num_epochs):\n",
        "        total_loss = 0.0\n",
        "        total_l_stoch_rec, total_l_stoch_rec_l, total_l_imp, total_l_faith = 0.0, 0.0, 0.0, 0.0\n",
        "        print(f\"Starting epoch {epoch+1}, lr = {optimizer.param_groups[0]['lr']:.2e}\")\n",
        "\n",
        "        with tqdm(dataloader, desc=f\"Epoch {epoch+1}/{num_epochs}\") as t:\n",
        "            for batch_idx, (x,y) in enumerate(t):\n",
        "                x = x.to(device)\n",
        "                y = y.to(device)\n",
        "\n",
        "                N = x.shape[0]     # x is shape N by in_size\n",
        "                C = spd_model.C\n",
        "                target_model = spd_model.target_model\n",
        "                optimizer.zero_grad()\n",
        "\n",
        "                # COMPUTE TARGET OUTPUT\n",
        "                with torch.no_grad():\n",
        "                    target_out = spd_model.target_model(x)\n",
        "\n",
        "                # FAITHFULNESS LOSS\n",
        "\n",
        "                spd_output, spd_activations, spd_weights = spd_model(x, return_activs_and_weights = True)\n",
        "                squared_error = 0\n",
        "\n",
        "                embed_diff = target_model.W_embed - spd_weights[-1][\"embed\"]\n",
        "                unembed_diff = target_model.W_unembed - spd_weights[-1][\"unembed\"]\n",
        "                squared_error = squared_error + torch.linalg.matrix_norm(embed_diff) ** 2 + torch.linalg.matrix_norm(unembed_diff) ** 2\n",
        "\n",
        "                for l in range(spd_model.num_layers):\n",
        "                    in_diff = target_model.W_in[l] - spd_weights[l][\"in\"]\n",
        "                    out_diff = target_model.W_out[l] - spd_weights[l][\"out\"]\n",
        "\n",
        "                    # torch.linalg.matrix_norm defaults to the frobenius norm\n",
        "                    # this takes the frobenius norm of the diff and then squares it\n",
        "                    squared_error_layer = torch.linalg.matrix_norm(in_diff) ** 2 + torch.linalg.matrix_norm(out_diff) ** 2\n",
        "                    squared_error = squared_error + squared_error_layer\n",
        "\n",
        "                mean_squared_error = squared_error/P\n",
        "\n",
        "                l_faithfulness = mean_squared_error\n",
        "\n",
        "\n",
        "                ## IMPORTANCE-MINIMALITY LOSS\n",
        "\n",
        "                pred_importances = []\n",
        "                l_importance_minimality = 0.0\n",
        "\n",
        "                components_imp_pred_embed_hidden = F.gelu(torch.einsum(\"nco,cos->ncs\", spd_activations[-1][\"embed\"], spd_model.imp_W_gate_in_in[-1]) + spd_model.imp_b_in_in[-1])\n",
        "                components_imp_pred_embed = (torch.einsum(\"ncs,cso->nco\", components_imp_pred_embed_hidden, spd_model.imp_W_gate_out_in[-1]) + spd_model.imp_b_out_in[-1])\n",
        "\n",
        "                components_imp_pred_unembed_hidden = F.gelu(torch.einsum(\"nco,cos->ncs\", spd_activations[-1][\"unembed\"], spd_model.imp_W_gate_in_out[-1]) + spd_model.imp_b_in_out[-1])\n",
        "                components_imp_pred_unembed = (torch.einsum(\"ncs,cso->nco\", components_imp_pred_unembed_hidden, spd_model.imp_W_gate_out_out[-1]) + spd_model.imp_b_out_out[-1])\n",
        "                l_importance_minimality = l_importance_minimality + (upper_leaky_sigmoid(components_imp_pred_embed).sum() ** spd_model.hypers[\"causal_imp_min\"]) + (upper_leaky_sigmoid(components_imp_pred_unembed).sum() ** spd_model.hypers[\"causal_imp_min\"])\n",
        "\n",
        "                for l in range(spd_model.num_layers):\n",
        "                    # both activations are n by c containing dot product so we already have hard_sigmoid\n",
        "                    # spd_activations[l][inout] is shape n,c,1 (nco)\n",
        "                    # imp_W_in is c by 1 by imp_size (cos)\n",
        "                    # want to map to ncs then back to nco\n",
        "                    # imp_b_in is shape (C, s) so should broadcast to ncs nicely\n",
        "\n",
        "                    # TODO: DEFINE hard_sigmoid AS A TORCH MODULE SO IT CAN CALCULATE THE DERIVATIVE\n",
        "                    # in theory should write this as a bunch of models stored in the main model, but that's not how i did it and i've already\n",
        "                    # written this, shrug\n",
        "                    # oh my god this is so bad\n",
        "                    # imp_W_gate_in_in is the gate in for the W_in, etc\n",
        "                    components_imp_pred_hidden_in = F.gelu(torch.einsum(\"nco,cos->ncs\", spd_activations[l][\"in\"], spd_model.imp_W_gate_in_in[l]) + spd_model.imp_b_in_in[l])\n",
        "                    components_pred_layer_in = torch.einsum(\"ncs,cso->nco\", components_imp_pred_hidden_in, spd_model.imp_W_gate_out_in[l]) + spd_model.imp_b_out_in[l]\n",
        "\n",
        "                    #same thing for the out matrix in layer l\n",
        "                    components_imp_pred_hidden_out = F.gelu(torch.einsum(\"nco,cos->ncs\", spd_activations[l][\"out\"], spd_model.imp_W_gate_in_out[l]) + spd_model.imp_b_in_out[l])\n",
        "                    components_pred_layer_out = (torch.einsum(\"ncs,cso->nco\", components_imp_pred_hidden_out, spd_model.imp_W_gate_out_out[l]) + spd_model.imp_b_out_out[l])\n",
        "\n",
        "                    pred_importances.append({\"in\": components_pred_layer_in, \"out\": components_pred_layer_out})\n",
        "                    l_importance_minimality = l_importance_minimality + (upper_leaky_sigmoid(components_pred_layer_in).sum() ** spd_model.hypers[\"causal_imp_min\"]) + (upper_leaky_sigmoid(components_pred_layer_out).sum() ** spd_model.hypers[\"causal_imp_min\"])\n",
        "\n",
        "                pred_importances.append({\"embed\": components_imp_pred_embed, \"unembed\": components_imp_pred_unembed})\n",
        "\n",
        "\n",
        "                l_importance_minimality /= N # divide by N, the batch size, to avg across the batch (notated as B in the paper)\n",
        "\n",
        "\n",
        "                ## STOCHASTIC RECONSTRUCTION LOSS\n",
        "\n",
        "                l_stochastic_recon = 0.0\n",
        "                l_stochastic_recon_layerwise = 0.0\n",
        "                R = torch.rand((spd_model.hypers[\"num_mask_samples\"], N, spd_model.num_layers+1, 2, C), device=device)\n",
        "\n",
        "                for s in range(spd_model.hypers[\"num_mask_samples\"]):\n",
        "                    layer_masks = []\n",
        "                    # Running this with a for loop. This is slow; I'd ideally just run\n",
        "                    # something like M = G[None, :, :] + (1 - G[None, :, :]) * R\n",
        "                    # But I think there's a clarity tradeoff here so I'm just going to do this for now\n",
        "                    layer_mask_embed = lower_leaky_sigmoid(pred_importances[-1][\"embed\"].squeeze()) + (torch.ones_like(pred_importances[-1][\"embed\"].squeeze()) - lower_leaky_sigmoid(pred_importances[-1][\"embed\"].squeeze()))*R[s,:,spd_model.num_layers,0,:]\n",
        "                    layer_mask_unembed = lower_leaky_sigmoid(pred_importances[-1][\"unembed\"].squeeze()) + (torch.ones_like(pred_importances[-1][\"unembed\"].squeeze()) - lower_leaky_sigmoid(pred_importances[-1][\"unembed\"].squeeze())) * R[s,:,spd_model.num_layers,1,:]\n",
        "\n",
        "                    for l in range(spd_model.num_layers):\n",
        "                        # ugh, this is pretty bad. Ideally I'd go back and refactor so that I don't\n",
        "                        # have separate in and out weights, but this is what I have. going to keep it\n",
        "                        # like this for now, but will refactor once I have something that works.\n",
        "                        # components pred in is shape N, C, 1, squeeze to N, C. there are L of them\n",
        "                        # R is N, L, C, sample just l to get N, C\n",
        "                        # I want masks for each component on each layer on each datapoint, so\n",
        "                        # masks should be one C vector for each layer, per-datapoint. so NLC\n",
        "\n",
        "                        # whoops i'm now putting squeezes on everything. seems like I should just unsqueeze the thing when I store it, but I don't feel like refactoring it like that :(\n",
        "                        layer_mask_in = lower_leaky_sigmoid(pred_importances[l][\"in\"].squeeze()) + (torch.ones_like(pred_importances[l][\"in\"].squeeze()) - lower_leaky_sigmoid(pred_importances[l][\"in\"].squeeze())) * R[s,:,l,0,:]\n",
        "                        layer_mask_out = lower_leaky_sigmoid(pred_importances[l][\"out\"].squeeze()) + (torch.ones_like(pred_importances[l][\"out\"].squeeze()) - lower_leaky_sigmoid(pred_importances[l][\"out\"].squeeze())) * R[s,:,l,1,:]\n",
        "                        # these are both shape N, C\n",
        "                        layer_masks.append({\"in\": layer_mask_in, \"out\": layer_mask_out})\n",
        "\n",
        "                    layer_masks.append({\"embed\": layer_mask_embed, \"unembed\": layer_mask_unembed})\n",
        "                    masked_out, layerwise_masked_outs = spd_model(x, masks=layer_masks)\n",
        "                    l_stochastic_recon = l_stochastic_recon + torch.linalg.matrix_norm(target_out - masked_out) ** 2 # uses matrix norm of difference\n",
        "                    for i in range(len(layerwise_masked_outs)-1):\n",
        "                        l_stochastic_recon_layerwise = l_stochastic_recon_layerwise + torch.linalg.matrix_norm(target_out - layerwise_masked_outs[i][\"in\"]) ** 2 + torch.linalg.matrix_norm(target_out - layerwise_masked_outs[i][\"out\"]) **2\n",
        "                        # l_stochastic_recon_layerwise = l_stochastic_recon_layerwise + (target_out - layerwise_masked_outs[i][\"in\"]) ** 2 + (target_out - layerwise_masked_outs[i][\"out\"]) ** 2 # switch to MSE\n",
        "\n",
        "                    l_stochastic_recon_layerwise = l_stochastic_recon_layerwise + torch.linalg.matrix_norm(target_out - layerwise_masked_outs[-1][\"embed\"]) **2 + torch.linalg.matrix_norm(target_out - layerwise_masked_outs[-1][\"unembed\"]) **2\n",
        "                    # l_stochastic_recon_layerwise = l_stochastic_recon_layerwise + (target_out - layerwise_masked_outs[-1][\"embed\"]) ** 2 + (target_out - layerwise_masked_outs[-1][\"unembed\"]) ** 2\n",
        "\n",
        "\n",
        "                l_stochastic_recon /= spd_model.hypers[\"num_mask_samples\"]\n",
        "                l_stochastic_recon_layerwise /= (spd_model.hypers[\"num_mask_samples\"] * (2 * spd_model.num_layers + 2) ) #one in/out matrix per layer + embed & unembed\n",
        "\n",
        "                loss = l_faithfulness + spd_model.hypers[\"beta_1\"] * l_stochastic_recon + spd_model.hypers[\"beta_2\"] * l_stochastic_recon_layerwise + spd_model.hypers[\"beta_3\"] * l_importance_minimality\n",
        "\n",
        "                loss.backward()\n",
        "                # torch.nn.utils.clip_grad_norm_(spd_model.parameters(), max_norm=1.0)\n",
        "\n",
        "\n",
        "                if batch_idx % 118 == 0:\n",
        "                    with torch.no_grad():\n",
        "\n",
        "                        G = lower_leaky_sigmoid(pred_importances[0][\"in\"]).squeeze()\n",
        "                        print(\"pred_imp min/max:\", pred_importances[0][\"in\"].min(), pred_importances[0][\"in\"].max())\n",
        "                        print(\"mask min/max:\", layer_masks[0][\"in\"].min(), layer_masks[0][\"in\"].max())\n",
        "\n",
        "                        loss_history.append(l_faithfulness.item())\n",
        "                        loss_history_faithfulness.append(l_faithfulness.item())\n",
        "                        loss_history_stoch_rec.append(l_stochastic_recon.item())\n",
        "                        loss_history_stoch_rec_layer.append(l_stochastic_recon_layerwise.item())\n",
        "                        loss_history_imp_min.append(l_importance_minimality.item())\n",
        "\n",
        "                        print(\"Masked out min: \", masked_out.min().item(), \", max: \", masked_out.max().item())\n",
        "                        print(f\"Faithfulness: {l_faithfulness}, Stoch Rec: {l_stochastic_recon}, Stoch Rec Layerwise: {l_stochastic_recon_layerwise}, Importance Min: {l_importance_minimality}\")\n",
        "                        total_norm = 0.0\n",
        "                        for p in spd_model.parameters():\n",
        "                            if p.grad is not None:\n",
        "                                param_norm = p.grad.data.norm(2)  # L2 norm of the gradient\n",
        "                                total_norm += param_norm.item() ** 2\n",
        "\n",
        "                        total_norm = total_norm ** 0.5\n",
        "                        print(f\"Total gradient norm: {total_norm}\")\n",
        "\n",
        "                optimizer.step()\n",
        "\n",
        "                total_loss += loss.item() * x.size(0)\n",
        "\n",
        "                t.set_postfix(loss=loss.item())\n",
        "\n",
        "        avg_loss = total_loss / len(dataloader.dataset)\n",
        "        total_l_stoch_rec, total_l_stoch_rec_l, total_l_imp, total_l_faith = total_l_stoch_rec/len(dataloader.dataset), total_l_stoch_rec_l/len(dataloader.dataset), total_l_imp/len(dataloader.dataset), total_l_faith/len(dataloader.dataset)\n",
        "        print(total_l_faith, total_l_stoch_rec, total_l_stoch_rec_l, total_l_imp)\n",
        "        scheduler.step()\n",
        "\n",
        "\n",
        "\n",
        "\n",
        "if __name__ == \"__main__\":\n",
        "    # Config\n",
        "    #device = \"cuda\" if torch.cuda.is_available() else \"mps\" if torch.backends.mps.is_available() else \"cpu\"\n",
        "    device = \"cpu\"\n",
        "    config = {\n",
        "        \"num_layers\": 1,\n",
        "        \"pre_embed_size\": 100,\n",
        "        \"in_size\": 1000,\n",
        "        \"hidden_size\": 50,\n",
        "        \"subcomponents_per_layer\": 30,\n",
        "        \"beta_1\": 1.0,\n",
        "        \"beta_2\": 1.0,\n",
        "        \"beta_3\": 0.1,\n",
        "        \"causal_imp_min\": 1.0,\n",
        "        \"num_mask_samples\": 20,\n",
        "        \"importance_mlp_size\": 5,\n",
        "    }\n",
        "\n",
        "    dataloader = DataLoader(dataset, batch_size=128, shuffle=True)\n",
        "    # Model\n",
        "    spd_model = SPDModelMLP(toy_model, config, \"cpu\")\n",
        "    # Train\n",
        "    train_SPD(spd_model, dataloader, lr=8e-3, num_epochs=25)"
      ]
    },
    {
      "cell_type": "code",
      "execution_count": null,
      "id": "6731eff5-4248-4332-85c5-ca3afc41f411",
      "metadata": {
        "id": "6731eff5-4248-4332-85c5-ca3afc41f411"
      },
      "outputs": [],
      "source": [
        "eval_dataset = SparseAutoencoderDataset(in_dim=100, n_samples=100, sparsity=0.9, device=\"cuda\")\n",
        "dataloader = DataLoader(eval_dataset, batch_size=128, shuffle=True)\n",
        "batch = next(iter(dataloader))\n",
        "\n",
        "out_eval = spd_model(batch[0])\n",
        "out_eval_target = spd_model.target_model(batch[0])\n",
        "print(\"Original Model: \\n\", out_eval)\n",
        "print(\"SPD Model: \\n\", out_eval_target)\n",
        "\n",
        "def check_masks(x, spd_model):\n",
        "    pred_importances = []\n",
        "    spd_output, spd_activations, spd_weights = spd_model(x, return_activs_and_weights = True)\n",
        "    components_imp_pred_embed_hidden = F.gelu(torch.einsum(\"nco,cos->ncs\", spd_activations[-1][\"embed\"], spd_model.imp_W_gate_in_in[-1]) + spd_model.imp_b_in_in[-1])\n",
        "    components_imp_pred_embed = (torch.einsum(\"ncs,cso->nco\", components_imp_pred_embed_hidden, spd_model.imp_W_gate_out_in[-1]) + spd_model.imp_b_out_in[-1])\n",
        "\n",
        "    components_imp_pred_unembed_hidden = F.gelu(torch.einsum(\"nco,cos->ncs\", spd_activations[-1][\"unembed\"], spd_model.imp_W_gate_in_out[-1]) + spd_model.imp_b_in_out[-1])\n",
        "    components_imp_pred_unembed = (torch.einsum(\"ncs,cso->nco\", components_imp_pred_unembed_hidden, spd_model.imp_W_gate_out_out[-1]) + spd_model.imp_b_out_out[-1])\n",
        "\n",
        "    for l in range(spd_model.num_layers):\n",
        "        components_imp_pred_hidden_in = F.gelu(torch.einsum(\"nco,cos->ncs\", spd_activations[l][\"in\"], spd_model.imp_W_gate_in_in[l]) + spd_model.imp_b_in_in[l])\n",
        "        components_pred_layer_in = torch.einsum(\"ncs,cso->nco\", components_imp_pred_hidden_in, spd_model.imp_W_gate_out_in[l]) + spd_model.imp_b_out_in[l]\n",
        "        components_imp_pred_hidden_out = F.gelu(torch.einsum(\"nco,cos->ncs\", spd_activations[l][\"out\"], spd_model.imp_W_gate_in_out[l]) + spd_model.imp_b_in_out[l])\n",
        "        components_pred_layer_out = (torch.einsum(\"ncs,cso->nco\", components_imp_pred_hidden_out, spd_model.imp_W_gate_out_out[l]) + spd_model.imp_b_out_out[l])\n",
        "\n",
        "    pred_importances.append({\"in\": components_pred_layer_in, \"out\": components_pred_layer_out})\n",
        "    pred_importances.append({\"embed\": components_imp_pred_embed, \"unembed\": components_imp_pred_unembed})\n",
        "\n",
        "    return pred_importances\n",
        "\n",
        "importances = check_masks(batch[0], spd_model)\n",
        "print(importances[0][\"in\"], importances[0][\"out\"])"
      ]
    },
    {
      "cell_type": "markdown",
      "id": "085d7991-1270-4927-873e-168c4e8e9494",
      "metadata": {
        "id": "085d7991-1270-4927-873e-168c4e8e9494"
      },
      "source": [
        "## Plotting Data"
      ]
    },
    {
      "cell_type": "code",
      "execution_count": null,
      "id": "d1b6bbc3-d74b-4172-9774-5fa0e1d69992",
      "metadata": {
        "id": "d1b6bbc3-d74b-4172-9774-5fa0e1d69992"
      },
      "outputs": [],
      "source": [
        "import matplotlib.pyplot as plt\n",
        "import numpy as np\n",
        "\n",
        "\n",
        "\"\"\"\n",
        "for history in [loss_history, loss_history_stoch_rec, loss_history_stoch_rec_layer,loss_history_faithfulness,loss_history_imp_min]:\n",
        "    for idx, item in enumerate(history):\n",
        "        history[idx] = item.item()\n",
        "\"\"\"\n",
        "\n",
        "def plot_loss_histories(loss_history, loss_history_stoch_rec, loss_history_stoch_rec_layer,\n",
        "                       loss_history_faithfulness, loss_history_imp_min, save_interval=10):\n",
        "    \"\"\"\n",
        "    Plot loss histories from saved lists\n",
        "\n",
        "    Args:\n",
        "        loss_history: List of total losses\n",
        "        loss_history_stoch_rec: List of stochastic reconstruction losses\n",
        "        loss_history_stoch_rec_layer: List of stochastic reconstruction layer losses\n",
        "        loss_history_faithfulness: List of faithfulness losses\n",
        "        loss_history_imp_min: List of importance min losses\n",
        "        save_interval: How often losses were saved (default 10 batches)\n",
        "    \"\"\"\n",
        "\n",
        "    # Create batch numbers (assuming you save every save_interval batches)\n",
        "    batch_numbers = [(i + 1) * save_interval for i in range(len(loss_history))]\n",
        "\n",
        "    # Create figure with subplots\n",
        "    fig, ((ax1, ax2), (ax3, ax4), (ax5, ax6)) = plt.subplots(3, 2, figsize=(15, 12))\n",
        "\n",
        "    # Plot total loss\n",
        "    ax1.plot(batch_numbers, loss_history, 'b-', linewidth=2, marker='o', markersize=4)\n",
        "    ax1.set_title('Total Loss', fontsize=14, fontweight='bold')\n",
        "    ax1.set_xlabel('Batch Number')\n",
        "    ax1.set_ylabel('Loss')\n",
        "    ax1.grid(True, alpha=0.3)\n",
        "    if max(loss_history) > 100:  # Use log scale for large values\n",
        "        ax1.set_yscale('log')\n",
        "\n",
        "    # Plot faithfulness loss\n",
        "    ax2.plot(batch_numbers, loss_history_faithfulness, 'r-', linewidth=2, marker='o', markersize=4)\n",
        "    ax2.set_title('Faithfulness Loss', fontsize=14, fontweight='bold')\n",
        "    ax2.set_xlabel('Batch Number')\n",
        "    ax2.set_ylabel('Loss')\n",
        "    ax2.grid(True, alpha=0.3)\n",
        "    if max(loss_history_faithfulness) > 100:\n",
        "        ax2.set_yscale('log')\n",
        "\n",
        "    # Plot stochastic reconstruction loss\n",
        "    ax3.plot(batch_numbers, loss_history_stoch_rec, 'g-', linewidth=2, marker='o', markersize=4)\n",
        "    ax3.set_title('Stochastic Reconstruction Loss', fontsize=14, fontweight='bold')\n",
        "    ax3.set_xlabel('Batch Number')\n",
        "    ax3.set_ylabel('Loss')\n",
        "    ax3.grid(True, alpha=0.3)\n",
        "\n",
        "    # Plot stochastic reconstruction layer loss\n",
        "    ax4.plot(batch_numbers, loss_history_stoch_rec_layer, 'm-', linewidth=2, marker='o', markersize=4)\n",
        "    ax4.set_title('Stochastic Reconstruction Layer Loss', fontsize=14, fontweight='bold')\n",
        "    ax4.set_xlabel('Batch Number')\n",
        "    ax4.set_ylabel('Loss')\n",
        "    ax4.grid(True, alpha=0.3)\n",
        "    if max(loss_history_stoch_rec_layer) > 100:\n",
        "        ax4.set_yscale('log')\n",
        "\n",
        "    # Plot importance min loss\n",
        "    ax5.plot(batch_numbers, loss_history_imp_min, 'c-', linewidth=2, marker='o', markersize=4)\n",
        "    ax5.set_title('Importance Min Loss', fontsize=14, fontweight='bold')\n",
        "    ax5.set_xlabel('Batch Number')\n",
        "    ax5.set_ylabel('Loss')\n",
        "    ax5.grid(True, alpha=0.3)\n",
        "\n",
        "    # Plot all losses together (normalized)\n",
        "    max_vals = [max(loss_history), max(loss_history_faithfulness), max(loss_history_stoch_rec),\n",
        "                max(loss_history_stoch_rec_layer), max(loss_history_imp_min)]\n",
        "\n",
        "    if all(m > 0 for m in max_vals):  # Only plot if all have valid max values\n",
        "        ax6.plot(batch_numbers, np.array(loss_history)/max(loss_history), 'b-',\n",
        "                linewidth=2, label='Total Loss', marker='o', markersize=3)\n",
        "        ax6.plot(batch_numbers, np.array(loss_history_faithfulness)/max(loss_history_faithfulness), 'r-',\n",
        "                linewidth=2, label='Faithfulness', marker='s', markersize=3)\n",
        "        ax6.plot(batch_numbers, np.array(loss_history_stoch_rec)/max(loss_history_stoch_rec), 'g-',\n",
        "                linewidth=2, label='Stoch Rec', marker='^', markersize=3)\n",
        "        ax6.plot(batch_numbers, np.array(loss_history_stoch_rec_layer)/max(loss_history_stoch_rec_layer), 'm-',\n",
        "                linewidth=2, label='Stoch Rec Layer', marker='d', markersize=3)\n",
        "        ax6.plot(batch_numbers, np.array(loss_history_imp_min)/max(loss_history_imp_min), 'c-',\n",
        "                linewidth=2, label='Importance Min', marker='v', markersize=3)\n",
        "\n",
        "    ax6.set_title('All Losses (Normalized)', fontsize=14, fontweight='bold')\n",
        "    ax6.set_xlabel('Batch Number')\n",
        "    ax6.set_ylabel('Normalized Loss')\n",
        "    ax6.legend()\n",
        "    ax6.grid(True, alpha=0.3)\n",
        "\n",
        "    plt.tight_layout()\n",
        "    plt.show()\n",
        "\n",
        "    return fig\n",
        "\n",
        "\n",
        "fig = plot_loss_histories(loss_history, loss_history_stoch_rec, loss_history_stoch_rec_layer,\n",
        "                         loss_history_faithfulness, loss_history_imp_min)\n",
        "# Example usage:\n",
        "\"\"\"\n",
        "# In your training loop, save losses every 10 batches like this:\n",
        "if batch_idx % 10 == 0:\n",
        "    loss_history.append(total_loss.item())\n",
        "    loss_history_stoch_rec.append(stoch_rec_loss.item())\n",
        "    loss_history_stoch_rec_layer.append(stoch_rec_layer_loss.item())\n",
        "    loss_history_faithfulness.append(faithfulness_loss.item())\n",
        "    loss_history_imp_min.append(imp_min_loss.item())\n",
        "\n",
        "# Then plot:\n",
        "fig = plot_loss_histories(loss_history, loss_history_stoch_rec, loss_history_stoch_rec_layer,\n",
        "                         loss_history_faithfulness, loss_history_imp_min)\n",
        "\"\"\"\n",
        "\n",
        "# Quick test with dummy data:\n",
        "def test_plotter():\n",
        "    # Create some example data\n",
        "    n_points = 50\n",
        "    batch_nums = range(10, 10 + n_points * 10, 10)\n",
        "\n",
        "    # Simulate decreasing losses with some noise\n",
        "    loss_history = [1000 * np.exp(-0.1 * i) + np.random.normal(0, 50) for i in range(n_points)]\n",
        "    loss_history_faithfulness = [200 * np.exp(-0.15 * i) + np.random.normal(0, 10) for i in range(n_points)]\n",
        "    loss_history_stoch_rec = [100 + 50 * np.sin(0.3 * i) + np.random.normal(0, 5) for i in range(n_points)]\n",
        "    loss_history_stoch_rec_layer = [500 * np.exp(-0.08 * i) + np.random.normal(0, 20) for i in range(n_points)]\n",
        "    loss_history_imp_min = [10 * np.exp(-0.05 * i) + np.random.normal(0, 1) for i in range(n_points)]\n",
        "\n",
        "    return plot_loss_histories(loss_history, loss_history_stoch_rec, loss_history_stoch_rec_layer,\n",
        "                              loss_history_faithfulness, loss_history_imp_min)\n",
        "\n",
        "# Uncomment to test:\n",
        "# test_fig = test_plotter()"
      ]
    },
    {
      "cell_type": "code",
      "execution_count": null,
      "id": "1f69f16b-fd11-4628-b78e-4e92be6543ca",
      "metadata": {
        "id": "1f69f16b-fd11-4628-b78e-4e92be6543ca"
      },
      "outputs": [],
      "source": [
        "ended up with\n",
        "pred_imp min/max: tensor(0.7151) tensor(1.6347)\n",
        "mask min/max: tensor(0.7313) tensor(1.)\n",
        "Masked out min:  -7.006863117218018 , max:  5.271817207336426\n",
        "Faithfulness: 2.7321490847498353e-08, Stoch Rec: 2.3285586833953857, Stoch Rec Layerwise: 1.1707794666290283, Importance Min: 118.15776062011719\n",
        "Total gradient norm: 889.7729806290456\n",
        "\n",
        "on hyperparameters\n",
        "\n",
        "    config = {\n",
        "        \"num_layers\": 1,\n",
        "        \"pre_embed_size\": 100,\n",
        "        \"in_size\": 1000,\n",
        "        \"hidden_size\": 50,\n",
        "        \"subcomponents_per_layer\": 30,\n",
        "        \"beta_1\": 1.0,\n",
        "        \"beta_2\": 1.0,\n",
        "        \"beta_3\": 5e-2,\n",
        "        \"causal_imp_min\": 1.0,\n",
        "        \"num_mask_samples\": 20,\n",
        "        \"importance_mlp_size\": 5,\n",
        "    }\n",
        "\n",
        "\n",
        "ideally should start using wandb lol"
      ]
    },
    {
      "cell_type": "code",
      "execution_count": null,
      "id": "82c9471d-1182-429a-911d-2277fda4f4c3",
      "metadata": {
        "id": "82c9471d-1182-429a-911d-2277fda4f4c3"
      },
      "outputs": [],
      "source": []
    }
  ],
  "metadata": {
    "kernelspec": {
      "display_name": "interp-replication",
      "language": "python",
      "name": "interp-replication"
    },
    "language_info": {
      "codemirror_mode": {
        "name": "ipython",
        "version": 3
      },
      "file_extension": ".py",
      "mimetype": "text/x-python",
      "name": "python",
      "nbconvert_exporter": "python",
      "pygments_lexer": "ipython3",
      "version": "3.11.13"
    },
    "colab": {
      "provenance": [],
      "machine_shape": "hm"
    }
  },
  "nbformat": 4,
  "nbformat_minor": 5
}