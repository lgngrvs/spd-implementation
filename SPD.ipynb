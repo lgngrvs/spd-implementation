{
 "cells": [
  {
   "cell_type": "markdown",
   "id": "374687f7-c6bd-462e-92cb-95a74322304b",
   "metadata": {},
   "source": [
    "# Stochastic Parameter Decomposition"
   ]
  },
  {
   "cell_type": "markdown",
   "id": "0b4be581-416b-4231-b780-c5cabb7142f6",
   "metadata": {},
   "source": [
    "## Imports"
   ]
  },
  {
   "cell_type": "code",
   "execution_count": null,
   "id": "42f5b19f-26f8-4a66-85ca-5f81c949767d",
   "metadata": {},
   "outputs": [],
   "source": [
    "# import all the torch stuff, as well as the ViT stuff and such\n",
    "# import plotly.express as px\n",
    "# import torch\n",
    "# from jaxtyping import Int, Float\n",
    "# from typing import List, Optional, Tuple\n",
    "# from tqdm import tqdm\n",
    "# from transformer_lens.hook_points import HookPoint\n",
    "# from transformer_lens import utils, HookedTransformer, HookedTransformerConfig, FactoredMatrix, ActivationCache\n",
    "# import circuitsvis as cv"
   ]
  },
  {
   "cell_type": "code",
   "execution_count": 11,
   "id": "c791fb62-d6be-4926-b345-c518a5239fdf",
   "metadata": {},
   "outputs": [],
   "source": [
    "import torch\n",
    "from torch import Tensor\n",
    "import torch.nn as nn\n",
    "import torch.nn.functional as F\n",
    "from torch.utils.data import Dataset, DataLoader\n",
    "import numpy as np\n",
    "import einops\n",
    "import typing\n",
    "from tqdm import tqdm"
   ]
  },
  {
   "cell_type": "markdown",
   "id": "dbd14d16-8e3e-4efe-9d5f-7f29610d6b83",
   "metadata": {},
   "source": [
    "## Toy Model MLP"
   ]
  },
  {
   "cell_type": "code",
   "execution_count": 1,
   "id": "48df6266-0231-4c6d-a813-19f4bf12553b",
   "metadata": {},
   "outputs": [],
   "source": [
    "# create a SPDHookedTransformer Class\n",
    "# that extends the hookedTransformer\n",
    "# which inherits all the previous class stuff\n",
    "# but also contains the SPD training algo?\n",
    "\n",
    "# how is everything actually structured? \n",
    "\"\"\"\n",
    "Maybe I should start with implementing it on a simple MLP setup. \n",
    "\n",
    "Orig network:\n",
    "- 1 layer MLP 5-2-5 (defined as usual with torch.Sequential presumably)\n",
    "\n",
    "SPD network:\n",
    "let's give it 10 subcomponents per layer\n",
    "then it's just like 10 matmuls? \n",
    "maybe i should define it like ant did in the toy models of superposition paper\n",
    "stick them all into a trenchcoat\n",
    "this might be easier once I have defined the toy modle\n",
    "\n",
    "\"\"\""
   ]
  },
  {
   "cell_type": "code",
   "execution_count": 55,
   "id": "50be6f25-5489-4445-82c0-914779cc7a5c",
   "metadata": {},
   "outputs": [],
   "source": [
    "config = {\n",
    "    \"num_layers\": 1,\n",
    "    \"pre_embed_size\": 100,\n",
    "    \"in_size\": 1000,\n",
    "    \"hidden_size\": 50,\n",
    "    \"subcomponents_per_layer\": 10, \n",
    "    \"beta_1\": 1, \n",
    "    \"beta_2\": 1, \n",
    "    \"beta_3\": 1, \n",
    "    \"causal_imp_min\": 1, \n",
    "    \"num_mask_samples\": 20,\n",
    "    \"importance_mlp_size\": 10,\n",
    "}"
   ]
  },
  {
   "cell_type": "code",
   "execution_count": 77,
   "id": "5a426a65-b7dc-4e68-9e35-da69dbdf7743",
   "metadata": {},
   "outputs": [],
   "source": [
    "class ToyResidMLP(nn.Module):\n",
    "    def __init__(self, config, device=\"mps\"):\n",
    "        super().__init__()\n",
    "        # Initialize Weights for the\n",
    "        self.num_layers, self.pre_embed_size, self.in_size, self.hidden_size = config[\"num_layers\"], config[\"pre_embed_size\"], config[\"in_size\"], config[\"hidden_size\"]\n",
    "        self.device = device\n",
    "        self.W_embed = nn.Parameter(torch.empty((self.pre_embed_size, self.in_size)))\n",
    "        self.W_unembed = nn.Parameter(torch.empty((self.in_size, self.pre_embed_size)))\n",
    "        self.W_in = nn.ParameterList([torch.empty((self.in_size, self.hidden_size), device=device) for i in range(self.num_layers)])\n",
    "        self.W_out = nn.ParameterList([torch.empty((self.hidden_size, self.in_size), device=device) for i in range(self.num_layers)])\n",
    "        self.b = nn.ParameterList([torch.zeros((self.hidden_size,), device=device) for i in range(self.num_layers)])\n",
    "\n",
    "        for param in [self.W_embed, self.W_unembed] + list(self.W_in) + list(self.W_out): \n",
    "            nn.init.xavier_normal_(param)\n",
    "        \n",
    "    def forward(self, x): \n",
    "        \n",
    "        assert x.shape[1] == self.pre_embed_size, f\"Input shape {x.shape[0]} does not match model's accepted size {self.pre_embed_size}\"\n",
    "        # embed \n",
    "        x_resid = torch.einsum(\"np,pi->ni\", x.clone(), self.W_embed)\n",
    "        N, D = x_resid.shape\n",
    "\n",
    "        \n",
    "        for l in range(self.num_layers):\n",
    "            hidden = F.relu(torch.einsum(\"nd,dh -> nh\", x_resid, self.W_in[l]) + self.b[l])\n",
    "            layer_out = torch.einsum(\"nh,hd -> nd\", hidden, self.W_out[l])\n",
    "            x_resid = x_resid + layer_out\n",
    "        # am I supposed to have a embed and out?\n",
    "        x_out = torch.einsum(\"ni,ip->np\", x_resid, self.W_unembed) \n",
    "        return x_out\n",
    "\n",
    "\n",
    "# Generated by LLM bc I am lazy and this is not important to me learning stuff atm\n",
    "class SparseAutoencoderDataset(Dataset):\n",
    "    \"\"\"\n",
    "    Dataset for learning to reconstruct sparse inputs.\n",
    "    Each item is (input, target) where target is the input itself (or ReLU of input).\n",
    "    \"\"\"\n",
    "    def __init__(self, in_dim=100, n_samples=10000, sparsity=0.9, device=\"mps\"):\n",
    "        super().__init__()\n",
    "        self.in_dim = in_dim\n",
    "        self.n_samples = n_samples\n",
    "        self.device = device\n",
    "\n",
    "        # Pre-generate all samples\n",
    "        self.inputs = []\n",
    "        self.targets = []\n",
    "        \n",
    "        for _ in range(n_samples):\n",
    "            # Sparse input: each entry is -1, 0, or 1, with sparsity\n",
    "            x = np.random.choice([0, -1, 1], size=(in_dim,), p=[1-sparsity, sparsity/2, sparsity/2])\n",
    "            x = torch.tensor(x, dtype=torch.float32, device=device)\n",
    "            target = F.relu(x)\n",
    "            \n",
    "            self.inputs.append(x)\n",
    "            self.targets.append(target)\n",
    "    \n",
    "    def __len__(self):\n",
    "        return self.n_samples\n",
    "    \n",
    "    def __getitem__(self, idx):\n",
    "        return self.inputs[idx], self.targets[idx]\n",
    "\n",
    "def train_toy_resid_mlp(\n",
    "    model,\n",
    "    dataloader,\n",
    "    lr=1e-3,\n",
    "    num_epochs=10,\n",
    "    device=\"mps\",\n",
    "    print_every=1\n",
    "):\n",
    "    model.train()\n",
    "    model.to(device)\n",
    "    optimizer = torch.optim.AdamW(model.parameters(), lr=lr)\n",
    "    loss_fn = nn.MSELoss()\n",
    "    for epoch in range(num_epochs):\n",
    "        total_loss = 0.0\n",
    "        for x, y in tqdm(dataloader, desc=f\"Epoch {epoch+1}/{num_epochs}\"):\n",
    "            x = x.to(device)\n",
    "            y = y.to(device)\n",
    "            optimizer.zero_grad()\n",
    "            y_pred = model(x)\n",
    "            loss = loss_fn(y_pred, y)\n",
    "            loss.backward()\n",
    "            optimizer.step()\n",
    "            total_loss += loss.item() * x.size(0)\n",
    "        avg_loss = total_loss / len(dataloader.dataset)\n",
    "        if (epoch+1) % print_every == 0:\n",
    "            print(f\"Epoch {epoch+1}: avg MSE loss = {avg_loss:.6f}\")"
   ]
  },
  {
   "cell_type": "code",
   "execution_count": 78,
   "id": "d67d9bbc-74ee-4eca-8a38-90c245095172",
   "metadata": {},
   "outputs": [
    {
     "name": "stderr",
     "output_type": "stream",
     "text": [
      "Epoch 1/20:  13%|████████████▊                                                                                        | 10/79 [00:00<00:00, 98.47it/s]"
     ]
    },
    {
     "name": "stdout",
     "output_type": "stream",
     "text": [
      "x input shape torch.Size([128, 100])\n",
      "x out shape torch.Size([128, 100])\n",
      "x input shape torch.Size([128, 100])\n",
      "x out shape torch.Size([128, 100])\n",
      "x input shape torch.Size([128, 100])\n",
      "x out shape torch.Size([128, 100])\n",
      "x input shape torch.Size([128, 100])\n",
      "x out shape torch.Size([128, 100])\n",
      "x input shape torch.Size([128, 100])\n",
      "x out shape torch.Size([128, 100])\n",
      "x input shape torch.Size([128, 100])\n",
      "x out shape torch.Size([128, 100])\n",
      "x input shape torch.Size([128, 100])\n",
      "x out shape torch.Size([128, 100])\n",
      "x input shape torch.Size([128, 100])\n",
      "x out shape torch.Size([128, 100])\n",
      "x input shape torch.Size([128, 100])\n",
      "x out shape torch.Size([128, 100])\n",
      "x input shape torch.Size([128, 100])\n",
      "x out shape torch.Size([128, 100])\n",
      "x input shape torch.Size([128, 100])\n",
      "x out shape torch.Size([128, 100])\n",
      "x input shape torch.Size([128, 100])\n",
      "x out shape torch.Size([128, 100])\n",
      "x input shape torch.Size([128, 100])\n",
      "x out shape torch.Size([128, 100])\n",
      "x input shape torch.Size([128, 100])\n",
      "x out shape torch.Size([128, 100])\n",
      "x input shape torch.Size([128, 100])\n",
      "x out shape torch.Size([128, 100])\n",
      "x input shape torch.Size([128, 100])\n",
      "x out shape torch.Size([128, 100])\n",
      "x input shape torch.Size([128, 100])\n",
      "x out shape torch.Size([128, 100])\n",
      "x input shape torch.Size([128, 100])\n",
      "x out shape torch.Size([128, 100])\n",
      "x input shape torch.Size([128, 100])\n",
      "x out shape torch.Size([128, 100])\n",
      "x input shape torch.Size([128, 100])\n",
      "x out shape torch.Size([128, 100])\n",
      "x input shape torch.Size([128, 100])\n",
      "x out shape torch.Size([128, 100])\n"
     ]
    },
    {
     "name": "stderr",
     "output_type": "stream",
     "text": [
      "Epoch 1/20:  41%|████████████████████████████████████████▌                                                           | 32/79 [00:00<00:00, 102.83it/s]"
     ]
    },
    {
     "name": "stdout",
     "output_type": "stream",
     "text": [
      "x input shape torch.Size([128, 100])\n",
      "x out shape torch.Size([128, 100])\n",
      "x input shape torch.Size([128, 100])\n",
      "x out shape torch.Size([128, 100])\n",
      "x input shape torch.Size([128, 100])\n",
      "x out shape torch.Size([128, 100])\n",
      "x input shape torch.Size([128, 100])\n",
      "x out shape torch.Size([128, 100])\n",
      "x input shape torch.Size([128, 100])\n",
      "x out shape torch.Size([128, 100])\n",
      "x input shape torch.Size([128, 100])\n",
      "x out shape torch.Size([128, 100])\n",
      "x input shape torch.Size([128, 100])\n",
      "x out shape torch.Size([128, 100])\n",
      "x input shape torch.Size([128, 100])\n",
      "x out shape torch.Size([128, 100])\n",
      "x input shape torch.Size([128, 100])\n",
      "x out shape torch.Size([128, 100])\n",
      "x input shape torch.Size([128, 100])\n",
      "x out shape torch.Size([128, 100])\n",
      "x input shape torch.Size([128, 100])\n",
      "x out shape torch.Size([128, 100])\n",
      "x input shape torch.Size([128, 100])\n",
      "x out shape torch.Size([128, 100])\n",
      "x input shape torch.Size([128, 100])\n",
      "x out shape torch.Size([128, 100])\n",
      "x input shape torch.Size([128, 100])\n",
      "x out shape torch.Size([128, 100])\n",
      "x input shape torch.Size([128, 100])\n",
      "x out shape torch.Size([128, 100])\n",
      "x input shape torch.Size([128, 100])\n",
      "x out shape torch.Size([128, 100])\n",
      "x input shape torch.Size([128, 100])\n",
      "x out shape torch.Size([128, 100])\n",
      "x input shape torch.Size([128, 100])\n",
      "x out shape torch.Size([128, 100])\n",
      "x input shape torch.Size([128, 100])\n",
      "x out shape torch.Size([128, 100])\n",
      "x input shape torch.Size([128, 100])\n",
      "x out shape torch.Size([128, 100])\n",
      "x input shape torch.Size([128, 100])\n"
     ]
    },
    {
     "name": "stderr",
     "output_type": "stream",
     "text": [
      "Epoch 1/20:  67%|███████████████████████████████████████████████████████████████████▊                                 | 53/79 [00:00<00:00, 97.80it/s]"
     ]
    },
    {
     "name": "stdout",
     "output_type": "stream",
     "text": [
      "x out shape torch.Size([128, 100])\n",
      "x input shape torch.Size([128, 100])\n",
      "x out shape torch.Size([128, 100])\n",
      "x input shape torch.Size([128, 100])\n",
      "x out shape torch.Size([128, 100])\n",
      "x input shape torch.Size([128, 100])\n",
      "x out shape torch.Size([128, 100])\n",
      "x input shape torch.Size([128, 100])\n",
      "x out shape torch.Size([128, 100])\n",
      "x input shape torch.Size([128, 100])\n",
      "x out shape torch.Size([128, 100])\n",
      "x input shape torch.Size([128, 100])\n",
      "x out shape torch.Size([128, 100])\n",
      "x input shape torch.Size([128, 100])\n",
      "x out shape torch.Size([128, 100])\n",
      "x input shape torch.Size([128, 100])\n",
      "x out shape torch.Size([128, 100])\n",
      "x input shape torch.Size([128, 100])\n",
      "x out shape torch.Size([128, 100])\n",
      "x input shape torch.Size([128, 100])\n",
      "x out shape torch.Size([128, 100])\n",
      "x input shape torch.Size([128, 100])\n",
      "x out shape torch.Size([128, 100])\n",
      "x input shape torch.Size([128, 100])\n",
      "x out shape torch.Size([128, 100])\n",
      "x input shape torch.Size([128, 100])\n",
      "x out shape torch.Size([128, 100])\n",
      "x input shape torch.Size([128, 100])\n",
      "x out shape torch.Size([128, 100])\n",
      "x input shape torch.Size([128, 100])\n",
      "x out shape torch.Size([128, 100])\n",
      "x input shape torch.Size([128, 100])\n",
      "x out shape torch.Size([128, 100])\n",
      "x input shape torch.Size([128, 100])\n",
      "x out shape torch.Size([128, 100])\n",
      "x input shape torch.Size([128, 100])\n",
      "x out shape torch.Size([128, 100])\n",
      "x input shape torch.Size([128, 100])\n",
      "x out shape torch.Size([128, 100])\n"
     ]
    },
    {
     "name": "stderr",
     "output_type": "stream",
     "text": [
      "Epoch 1/20: 100%|█████████████████████████████████████████████████████████████████████████████████████████████████████| 79/79 [00:00<00:00, 99.71it/s]\n"
     ]
    },
    {
     "name": "stdout",
     "output_type": "stream",
     "text": [
      "x input shape torch.Size([128, 100])\n",
      "x out shape torch.Size([128, 100])\n",
      "x input shape torch.Size([128, 100])\n",
      "x out shape torch.Size([128, 100])\n",
      "x input shape torch.Size([128, 100])\n",
      "x out shape torch.Size([128, 100])\n",
      "x input shape torch.Size([128, 100])\n",
      "x out shape torch.Size([128, 100])\n",
      "x input shape torch.Size([128, 100])\n",
      "x out shape torch.Size([128, 100])\n",
      "x input shape torch.Size([128, 100])\n",
      "x out shape torch.Size([128, 100])\n",
      "x input shape torch.Size([128, 100])\n",
      "x out shape torch.Size([128, 100])\n",
      "x input shape torch.Size([128, 100])\n",
      "x out shape torch.Size([128, 100])\n",
      "x input shape torch.Size([128, 100])\n",
      "x out shape torch.Size([128, 100])\n",
      "x input shape torch.Size([128, 100])\n",
      "x out shape torch.Size([128, 100])\n",
      "x input shape torch.Size([128, 100])\n",
      "x out shape torch.Size([128, 100])\n",
      "x input shape torch.Size([128, 100])\n",
      "x out shape torch.Size([128, 100])\n",
      "x input shape torch.Size([128, 100])\n",
      "x out shape torch.Size([128, 100])\n",
      "x input shape torch.Size([128, 100])\n",
      "x out shape torch.Size([128, 100])\n",
      "x input shape torch.Size([128, 100])\n",
      "x out shape torch.Size([128, 100])\n",
      "x input shape torch.Size([128, 100])\n",
      "x out shape torch.Size([128, 100])\n",
      "x input shape torch.Size([128, 100])\n",
      "x out shape torch.Size([128, 100])\n",
      "x input shape torch.Size([16, 100])\n",
      "x out shape torch.Size([16, 100])\n",
      "Epoch 1: avg MSE loss = 747393.869131\n"
     ]
    },
    {
     "name": "stderr",
     "output_type": "stream",
     "text": [
      "Epoch 2/20:   0%|                                                                                                              | 0/79 [00:00<?, ?it/s]"
     ]
    },
    {
     "name": "stdout",
     "output_type": "stream",
     "text": [
      "x input shape torch.Size([128, 100])\n",
      "x out shape torch.Size([128, 100])\n",
      "x input shape torch.Size([128, 100])\n",
      "x out shape torch.Size([128, 100])\n",
      "x input shape torch.Size([128, 100])\n",
      "x out shape torch.Size([128, 100])\n"
     ]
    },
    {
     "name": "stderr",
     "output_type": "stream",
     "text": [
      "Epoch 2/20:  13%|████████████▊                                                                                        | 10/79 [00:00<00:00, 95.81it/s]"
     ]
    },
    {
     "name": "stdout",
     "output_type": "stream",
     "text": [
      "x input shape torch.Size([128, 100])\n",
      "x out shape torch.Size([128, 100])\n",
      "x input shape torch.Size([128, 100])\n",
      "x out shape torch.Size([128, 100])\n",
      "x input shape torch.Size([128, 100])\n",
      "x out shape torch.Size([128, 100])\n",
      "x input shape torch.Size([128, 100])\n",
      "x out shape torch.Size([128, 100])\n",
      "x input shape torch.Size([128, 100])\n",
      "x out shape torch.Size([128, 100])\n",
      "x input shape torch.Size([128, 100])\n",
      "x out shape torch.Size([128, 100])\n",
      "x input shape torch.Size([128, 100])\n",
      "x out shape torch.Size([128, 100])\n",
      "x input shape torch.Size([128, 100])\n",
      "x out shape torch.Size([128, 100])\n",
      "x input shape torch.Size([128, 100])\n",
      "x out shape torch.Size([128, 100])\n",
      "x input shape torch.Size([128, 100])\n",
      "x out shape torch.Size([128, 100])\n",
      "x input shape torch.Size([128, 100])\n",
      "x out shape torch.Size([128, 100])\n",
      "x input shape torch.Size([128, 100])\n",
      "x out shape torch.Size([128, 100])\n",
      "x input shape torch.Size([128, 100])\n",
      "x out shape torch.Size([128, 100])\n",
      "x input shape torch.Size([128, 100])\n",
      "x out shape torch.Size([128, 100])\n",
      "x input shape torch.Size([128, 100])\n",
      "x out shape torch.Size([128, 100])\n",
      "x input shape torch.Size([128, 100])\n",
      "x out shape torch.Size([128, 100])\n",
      "x input shape torch.Size([128, 100])\n"
     ]
    },
    {
     "name": "stderr",
     "output_type": "stream",
     "text": [
      "Epoch 2/20:  25%|█████████████████████████▌                                                                           | 20/79 [00:00<00:00, 95.35it/s]"
     ]
    },
    {
     "name": "stdout",
     "output_type": "stream",
     "text": [
      "x out shape torch.Size([128, 100])\n",
      "x input shape torch.Size([128, 100])\n",
      "x out shape torch.Size([128, 100])\n",
      "x input shape torch.Size([128, 100])\n",
      "x out shape torch.Size([128, 100])\n"
     ]
    },
    {
     "name": "stderr",
     "output_type": "stream",
     "text": [
      "Epoch 2/20:  38%|██████████████████████████████████████▎                                                              | 30/79 [00:00<00:00, 96.46it/s]"
     ]
    },
    {
     "name": "stdout",
     "output_type": "stream",
     "text": [
      "x input shape torch.Size([128, 100])\n",
      "x out shape torch.Size([128, 100])\n",
      "x input shape torch.Size([128, 100])\n",
      "x out shape torch.Size([128, 100])\n",
      "x input shape torch.Size([128, 100])\n",
      "x out shape torch.Size([128, 100])\n",
      "x input shape torch.Size([128, 100])\n",
      "x out shape torch.Size([128, 100])\n",
      "x input shape torch.Size([128, 100])\n",
      "x out shape torch.Size([128, 100])\n",
      "x input shape torch.Size([128, 100])\n",
      "x out shape torch.Size([128, 100])\n",
      "x input shape torch.Size([128, 100])\n",
      "x out shape torch.Size([128, 100])\n",
      "x input shape torch.Size([128, 100])\n",
      "x out shape torch.Size([128, 100])\n",
      "x input shape torch.Size([128, 100])\n",
      "x out shape torch.Size([128, 100])\n",
      "x input shape torch.Size([128, 100])\n",
      "x out shape torch.Size([128, 100])\n",
      "x input shape torch.Size([128, 100])\n",
      "x out shape torch.Size([128, 100])\n",
      "x input shape torch.Size([128, 100])\n",
      "x out shape torch.Size([128, 100])\n",
      "x input shape torch.Size([128, 100])\n",
      "x out shape torch.Size([128, 100])\n",
      "x input shape torch.Size([128, 100])\n",
      "x out shape torch.Size([128, 100])\n",
      "x input shape torch.Size([128, 100])\n",
      "x out shape torch.Size([128, 100])\n",
      "x input shape torch.Size([128, 100])\n",
      "x out shape torch.Size([128, 100])\n",
      "x input shape torch.Size([128, 100])\n",
      "x out shape torch.Size([128, 100])\n",
      "x input shape torch.Size([128, 100])\n"
     ]
    },
    {
     "name": "stderr",
     "output_type": "stream",
     "text": [
      "Epoch 2/20:  51%|███████████████████████████████████████████████████▏                                                 | 40/79 [00:00<00:00, 96.59it/s]"
     ]
    },
    {
     "name": "stdout",
     "output_type": "stream",
     "text": [
      "x out shape torch.Size([128, 100])\n",
      "x input shape torch.Size([128, 100])\n",
      "x out shape torch.Size([128, 100])\n",
      "x input shape torch.Size([128, 100])\n",
      "x out shape torch.Size([128, 100])\n"
     ]
    },
    {
     "name": "stderr",
     "output_type": "stream",
     "text": [
      "Epoch 2/20:  63%|███████████████████████████████████████████████████████████████▉                                     | 50/79 [00:00<00:00, 95.87it/s]"
     ]
    },
    {
     "name": "stdout",
     "output_type": "stream",
     "text": [
      "x input shape torch.Size([128, 100])\n",
      "x out shape torch.Size([128, 100])\n",
      "x input shape torch.Size([128, 100])\n",
      "x out shape torch.Size([128, 100])\n",
      "x input shape torch.Size([128, 100])\n",
      "x out shape torch.Size([128, 100])\n",
      "x input shape torch.Size([128, 100])\n",
      "x out shape torch.Size([128, 100])\n",
      "x input shape torch.Size([128, 100])\n",
      "x out shape torch.Size([128, 100])\n",
      "x input shape torch.Size([128, 100])\n",
      "x out shape torch.Size([128, 100])\n",
      "x input shape torch.Size([128, 100])\n",
      "x out shape torch.Size([128, 100])\n",
      "x input shape torch.Size([128, 100])\n",
      "x out shape torch.Size([128, 100])\n",
      "x input shape torch.Size([128, 100])\n",
      "x out shape torch.Size([128, 100])\n",
      "x input shape torch.Size([128, 100])\n",
      "x out shape torch.Size([128, 100])\n",
      "x input shape torch.Size([128, 100])\n",
      "x out shape torch.Size([128, 100])\n",
      "x input shape torch.Size([128, 100])\n",
      "x out shape torch.Size([128, 100])\n",
      "x input shape torch.Size([128, 100])\n",
      "x out shape torch.Size([128, 100])\n",
      "x input shape torch.Size([128, 100])\n",
      "x out shape torch.Size([128, 100])\n",
      "x input shape torch.Size([128, 100])\n",
      "x out shape torch.Size([128, 100])\n",
      "x input shape torch.Size([128, 100])\n",
      "x out shape torch.Size([128, 100])\n",
      "x input shape torch.Size([128, 100])\n",
      "x out shape torch.Size([128, 100])\n",
      "x input shape torch.Size([128, 100])\n",
      "x out shape torch.Size([128, 100])\n"
     ]
    },
    {
     "name": "stderr",
     "output_type": "stream",
     "text": [
      "Epoch 2/20:  77%|█████████████████████████████████████████████████████████████████████████████▉                       | 61/79 [00:00<00:00, 99.37it/s]"
     ]
    },
    {
     "name": "stdout",
     "output_type": "stream",
     "text": [
      "x input shape torch.Size([128, 100])\n",
      "x out shape torch.Size([128, 100])\n",
      "x input shape torch.Size([128, 100])\n",
      "x out shape torch.Size([128, 100])\n",
      "x input shape torch.Size([128, 100])\n",
      "x out shape torch.Size([128, 100])\n"
     ]
    },
    {
     "name": "stderr",
     "output_type": "stream",
     "text": [
      "Epoch 2/20: 100%|█████████████████████████████████████████████████████████████████████████████████████████████████████| 79/79 [00:00<00:00, 99.63it/s]\n"
     ]
    },
    {
     "name": "stdout",
     "output_type": "stream",
     "text": [
      "x input shape torch.Size([128, 100])\n",
      "x out shape torch.Size([128, 100])\n",
      "x input shape torch.Size([128, 100])\n",
      "x out shape torch.Size([128, 100])\n",
      "x input shape torch.Size([128, 100])\n",
      "x out shape torch.Size([128, 100])\n",
      "x input shape torch.Size([128, 100])\n",
      "x out shape torch.Size([128, 100])\n",
      "x input shape torch.Size([128, 100])\n",
      "x out shape torch.Size([128, 100])\n",
      "x input shape torch.Size([128, 100])\n",
      "x out shape torch.Size([128, 100])\n",
      "x input shape torch.Size([128, 100])\n",
      "x out shape torch.Size([128, 100])\n",
      "x input shape torch.Size([128, 100])\n",
      "x out shape torch.Size([128, 100])\n",
      "x input shape torch.Size([128, 100])\n",
      "x out shape torch.Size([128, 100])\n",
      "x input shape torch.Size([128, 100])\n",
      "x out shape torch.Size([128, 100])\n",
      "x input shape torch.Size([128, 100])\n",
      "x out shape torch.Size([128, 100])\n",
      "x input shape torch.Size([128, 100])\n",
      "x out shape torch.Size([128, 100])\n",
      "x input shape torch.Size([128, 100])\n",
      "x out shape torch.Size([128, 100])\n",
      "x input shape torch.Size([128, 100])\n",
      "x out shape torch.Size([128, 100])\n",
      "x input shape torch.Size([128, 100])\n",
      "x out shape torch.Size([128, 100])\n",
      "x input shape torch.Size([16, 100])\n",
      "x out shape torch.Size([16, 100])\n",
      "Epoch 2: avg MSE loss = 291.672363\n"
     ]
    },
    {
     "name": "stderr",
     "output_type": "stream",
     "text": [
      "Epoch 3/20:   0%|                                                                                                              | 0/79 [00:00<?, ?it/s]"
     ]
    },
    {
     "name": "stdout",
     "output_type": "stream",
     "text": [
      "x input shape torch.Size([128, 100])\n",
      "x out shape torch.Size([128, 100])\n",
      "x input shape torch.Size([128, 100])\n",
      "x out shape torch.Size([128, 100])\n",
      "x input shape torch.Size([128, 100])\n",
      "x out shape torch.Size([128, 100])\n",
      "x input shape torch.Size([128, 100])\n",
      "x out shape torch.Size([128, 100])\n",
      "x input shape torch.Size([128, 100])\n",
      "x out shape torch.Size([128, 100])\n",
      "x input shape torch.Size([128, 100])\n"
     ]
    },
    {
     "name": "stderr",
     "output_type": "stream",
     "text": [
      "Epoch 3/20:  14%|█████████████▉                                                                                      | 11/79 [00:00<00:00, 102.83it/s]"
     ]
    },
    {
     "name": "stdout",
     "output_type": "stream",
     "text": [
      "x out shape torch.Size([128, 100])\n",
      "x input shape torch.Size([128, 100])\n",
      "x out shape torch.Size([128, 100])\n",
      "x input shape torch.Size([128, 100])\n",
      "x out shape torch.Size([128, 100])\n",
      "x input shape torch.Size([128, 100])\n",
      "x out shape torch.Size([128, 100])\n",
      "x input shape torch.Size([128, 100])\n",
      "x out shape torch.Size([128, 100])\n",
      "x input shape torch.Size([128, 100])\n",
      "x out shape torch.Size([128, 100])\n",
      "x input shape torch.Size([128, 100])\n",
      "x out shape torch.Size([128, 100])\n",
      "x input shape torch.Size([128, 100])\n",
      "x out shape torch.Size([128, 100])\n",
      "x input shape torch.Size([128, 100])\n",
      "x out shape torch.Size([128, 100])\n",
      "x input shape torch.Size([128, 100])\n",
      "x out shape torch.Size([128, 100])\n",
      "x input shape torch.Size([128, 100])\n",
      "x out shape torch.Size([128, 100])\n",
      "x input shape torch.Size([128, 100])\n",
      "x out shape torch.Size([128, 100])\n",
      "x input shape torch.Size([128, 100])\n",
      "x out shape torch.Size([128, 100])\n",
      "x input shape torch.Size([128, 100])\n",
      "x out shape torch.Size([128, 100])\n",
      "x input shape torch.Size([128, 100])\n",
      "x out shape torch.Size([128, 100])\n",
      "x input shape torch.Size([128, 100])\n",
      "x out shape torch.Size([128, 100])\n",
      "x input shape torch.Size([128, 100])\n"
     ]
    },
    {
     "name": "stderr",
     "output_type": "stream",
     "text": [
      "Epoch 3/20:  28%|███████████████████████████▊                                                                        | 22/79 [00:00<00:00, 104.99it/s]"
     ]
    },
    {
     "name": "stdout",
     "output_type": "stream",
     "text": [
      "x out shape torch.Size([128, 100])\n",
      "x input shape torch.Size([128, 100])\n",
      "x out shape torch.Size([128, 100])\n",
      "x input shape torch.Size([128, 100])\n",
      "x out shape torch.Size([128, 100])\n",
      "x input shape torch.Size([128, 100])\n",
      "x out shape torch.Size([128, 100])\n",
      "x input shape torch.Size([128, 100])\n",
      "x out shape torch.Size([128, 100])\n",
      "x input shape torch.Size([128, 100])\n"
     ]
    },
    {
     "name": "stderr",
     "output_type": "stream",
     "text": [
      "Epoch 3/20:  42%|█████████████████████████████████████████▊                                                          | 33/79 [00:00<00:00, 102.34it/s]"
     ]
    },
    {
     "name": "stdout",
     "output_type": "stream",
     "text": [
      "x out shape torch.Size([128, 100])\n",
      "x input shape torch.Size([128, 100])\n",
      "x out shape torch.Size([128, 100])\n",
      "x input shape torch.Size([128, 100])\n",
      "x out shape torch.Size([128, 100])\n",
      "x input shape torch.Size([128, 100])\n",
      "x out shape torch.Size([128, 100])\n",
      "x input shape torch.Size([128, 100])\n",
      "x out shape torch.Size([128, 100])\n",
      "x input shape torch.Size([128, 100])\n",
      "x out shape torch.Size([128, 100])\n",
      "x input shape torch.Size([128, 100])\n",
      "x out shape torch.Size([128, 100])\n",
      "x input shape torch.Size([128, 100])\n",
      "x out shape torch.Size([128, 100])\n",
      "x input shape torch.Size([128, 100])\n",
      "x out shape torch.Size([128, 100])\n",
      "x input shape torch.Size([128, 100])\n",
      "x out shape torch.Size([128, 100])\n",
      "x input shape torch.Size([128, 100])\n",
      "x out shape torch.Size([128, 100])\n",
      "x input shape torch.Size([128, 100])\n",
      "x out shape torch.Size([128, 100])\n",
      "x input shape torch.Size([128, 100])\n",
      "x out shape torch.Size([128, 100])\n",
      "x input shape torch.Size([128, 100])\n",
      "x out shape torch.Size([128, 100])\n",
      "x input shape torch.Size([128, 100])\n",
      "x out shape torch.Size([128, 100])\n",
      "x input shape torch.Size([128, 100])\n",
      "x out shape torch.Size([128, 100])\n",
      "x input shape torch.Size([128, 100])\n",
      "x out shape torch.Size([128, 100])\n",
      "x input shape torch.Size([128, 100])\n",
      "x out shape torch.Size([128, 100])\n"
     ]
    },
    {
     "name": "stderr",
     "output_type": "stream",
     "text": [
      "Epoch 3/20:  56%|███████████████████████████████████████████████████████▋                                            | 44/79 [00:00<00:00, 100.36it/s]"
     ]
    },
    {
     "name": "stdout",
     "output_type": "stream",
     "text": [
      "x input shape torch.Size([128, 100])\n",
      "x out shape torch.Size([128, 100])\n",
      "x input shape torch.Size([128, 100])\n",
      "x out shape torch.Size([128, 100])\n",
      "x input shape torch.Size([128, 100])\n"
     ]
    },
    {
     "name": "stderr",
     "output_type": "stream",
     "text": [
      "Epoch 3/20:  70%|██████████████████████████████████████████████████████████████████████▎                              | 55/79 [00:00<00:00, 99.64it/s]"
     ]
    },
    {
     "name": "stdout",
     "output_type": "stream",
     "text": [
      "x out shape torch.Size([128, 100])\n",
      "x input shape torch.Size([128, 100])\n",
      "x out shape torch.Size([128, 100])\n",
      "x input shape torch.Size([128, 100])\n",
      "x out shape torch.Size([128, 100])\n",
      "x input shape torch.Size([128, 100])\n",
      "x out shape torch.Size([128, 100])\n",
      "x input shape torch.Size([128, 100])\n",
      "x out shape torch.Size([128, 100])\n",
      "x input shape torch.Size([128, 100])\n",
      "x out shape torch.Size([128, 100])\n",
      "x input shape torch.Size([128, 100])\n",
      "x out shape torch.Size([128, 100])\n",
      "x input shape torch.Size([128, 100])\n",
      "x out shape torch.Size([128, 100])\n",
      "x input shape torch.Size([128, 100])\n",
      "x out shape torch.Size([128, 100])\n",
      "x input shape torch.Size([128, 100])\n",
      "x out shape torch.Size([128, 100])\n",
      "x input shape torch.Size([128, 100])\n",
      "x out shape torch.Size([128, 100])\n",
      "x input shape torch.Size([128, 100])\n",
      "x out shape torch.Size([128, 100])\n",
      "x input shape torch.Size([128, 100])\n",
      "x out shape torch.Size([128, 100])\n",
      "x input shape torch.Size([128, 100])\n",
      "x out shape torch.Size([128, 100])\n",
      "x input shape torch.Size([128, 100])\n",
      "x out shape torch.Size([128, 100])\n",
      "x input shape torch.Size([128, 100])\n",
      "x out shape torch.Size([128, 100])\n",
      "x input shape torch.Size([128, 100])\n",
      "x out shape torch.Size([128, 100])\n",
      "x input shape torch.Size([128, 100])\n",
      "x out shape torch.Size([128, 100])\n"
     ]
    },
    {
     "name": "stderr",
     "output_type": "stream",
     "text": [
      "Epoch 3/20:  82%|███████████████████████████████████████████████████████████████████████████████████                  | 65/79 [00:00<00:00, 98.32it/s]"
     ]
    },
    {
     "name": "stdout",
     "output_type": "stream",
     "text": [
      "x input shape torch.Size([128, 100])\n",
      "x out shape torch.Size([128, 100])\n",
      "x input shape torch.Size([128, 100])\n",
      "x out shape torch.Size([128, 100])\n",
      "x input shape torch.Size([128, 100])\n"
     ]
    },
    {
     "name": "stderr",
     "output_type": "stream",
     "text": [
      "Epoch 3/20: 100%|█████████████████████████████████████████████████████████████████████████████████████████████████████| 79/79 [00:00<00:00, 99.14it/s]\n"
     ]
    },
    {
     "name": "stdout",
     "output_type": "stream",
     "text": [
      "x out shape torch.Size([128, 100])\n",
      "x input shape torch.Size([128, 100])\n",
      "x out shape torch.Size([128, 100])\n",
      "x input shape torch.Size([128, 100])\n",
      "x out shape torch.Size([128, 100])\n",
      "x input shape torch.Size([128, 100])\n",
      "x out shape torch.Size([128, 100])\n",
      "x input shape torch.Size([128, 100])\n",
      "x out shape torch.Size([128, 100])\n",
      "x input shape torch.Size([128, 100])\n",
      "x out shape torch.Size([128, 100])\n",
      "x input shape torch.Size([128, 100])\n",
      "x out shape torch.Size([128, 100])\n",
      "x input shape torch.Size([128, 100])\n",
      "x out shape torch.Size([128, 100])\n",
      "x input shape torch.Size([128, 100])\n",
      "x out shape torch.Size([128, 100])\n",
      "x input shape torch.Size([128, 100])\n",
      "x out shape torch.Size([128, 100])\n",
      "x input shape torch.Size([128, 100])\n",
      "x out shape torch.Size([128, 100])\n",
      "x input shape torch.Size([128, 100])\n",
      "x out shape torch.Size([128, 100])\n",
      "x input shape torch.Size([16, 100])\n",
      "x out shape torch.Size([16, 100])\n",
      "Epoch 3: avg MSE loss = 59.208182\n"
     ]
    },
    {
     "name": "stderr",
     "output_type": "stream",
     "text": [
      "Epoch 4/20:   0%|                                                                                                              | 0/79 [00:00<?, ?it/s]"
     ]
    },
    {
     "name": "stdout",
     "output_type": "stream",
     "text": [
      "x input shape torch.Size([128, 100])\n",
      "x out shape torch.Size([128, 100])\n",
      "x input shape torch.Size([128, 100])\n",
      "x out shape torch.Size([128, 100])\n",
      "x input shape torch.Size([128, 100])\n",
      "x out shape torch.Size([128, 100])\n",
      "x input shape torch.Size([128, 100])\n",
      "x out shape torch.Size([128, 100])\n",
      "x input shape torch.Size([128, 100])\n",
      "x out shape torch.Size([128, 100])\n",
      "x input shape torch.Size([128, 100])\n",
      "x out shape torch.Size([128, 100])\n",
      "x input shape torch.Size([128, 100])\n",
      "x out shape torch.Size([128, 100])\n"
     ]
    },
    {
     "name": "stderr",
     "output_type": "stream",
     "text": [
      "Epoch 4/20:  13%|████████████▊                                                                                        | 10/79 [00:00<00:00, 99.13it/s]"
     ]
    },
    {
     "name": "stdout",
     "output_type": "stream",
     "text": [
      "x input shape torch.Size([128, 100])\n",
      "x out shape torch.Size([128, 100])\n",
      "x input shape torch.Size([128, 100])\n",
      "x out shape torch.Size([128, 100])\n",
      "x input shape torch.Size([128, 100])\n",
      "x out shape torch.Size([128, 100])\n",
      "x input shape torch.Size([128, 100])\n",
      "x out shape torch.Size([128, 100])\n",
      "x input shape torch.Size([128, 100])\n",
      "x out shape torch.Size([128, 100])\n",
      "x input shape torch.Size([128, 100])\n",
      "x out shape torch.Size([128, 100])\n",
      "x input shape torch.Size([128, 100])\n",
      "x out shape torch.Size([128, 100])\n",
      "x input shape torch.Size([128, 100])\n",
      "x out shape torch.Size([128, 100])\n",
      "x input shape torch.Size([128, 100])\n",
      "x out shape torch.Size([128, 100])\n",
      "x input shape torch.Size([128, 100])\n",
      "x out shape torch.Size([128, 100])\n",
      "x input shape torch.Size([128, 100])\n",
      "x out shape torch.Size([128, 100])\n",
      "x input shape torch.Size([128, 100])\n",
      "x out shape torch.Size([128, 100])\n",
      "x input shape torch.Size([128, 100])\n",
      "x out shape torch.Size([128, 100])\n",
      "x input shape torch.Size([128, 100])\n"
     ]
    },
    {
     "name": "stderr",
     "output_type": "stream",
     "text": [
      "Epoch 4/20:  27%|██████████████████████████▌                                                                         | 21/79 [00:00<00:00, 101.30it/s]"
     ]
    },
    {
     "name": "stdout",
     "output_type": "stream",
     "text": [
      "x out shape torch.Size([128, 100])\n",
      "x input shape torch.Size([128, 100])\n",
      "x out shape torch.Size([128, 100])\n",
      "x input shape torch.Size([128, 100])\n",
      "x out shape torch.Size([128, 100])\n",
      "x input shape torch.Size([128, 100])\n",
      "x out shape torch.Size([128, 100])\n",
      "x input shape torch.Size([128, 100])\n",
      "x out shape torch.Size([128, 100])\n",
      "x input shape torch.Size([128, 100])\n",
      "x out shape torch.Size([128, 100])\n",
      "x input shape torch.Size([128, 100])\n",
      "x out shape torch.Size([128, 100])\n"
     ]
    },
    {
     "name": "stderr",
     "output_type": "stream",
     "text": [
      "Epoch 4/20:  41%|████████████████████████████████████████▉                                                            | 32/79 [00:00<00:00, 95.72it/s]"
     ]
    },
    {
     "name": "stdout",
     "output_type": "stream",
     "text": [
      "x input shape torch.Size([128, 100])\n",
      "x out shape torch.Size([128, 100])\n",
      "x input shape torch.Size([128, 100])\n",
      "x out shape torch.Size([128, 100])\n",
      "x input shape torch.Size([128, 100])\n",
      "x out shape torch.Size([128, 100])\n",
      "x input shape torch.Size([128, 100])\n",
      "x out shape torch.Size([128, 100])\n",
      "x input shape torch.Size([128, 100])\n",
      "x out shape torch.Size([128, 100])\n",
      "x input shape torch.Size([128, 100])\n",
      "x out shape torch.Size([128, 100])\n",
      "x input shape torch.Size([128, 100])\n",
      "x out shape torch.Size([128, 100])\n",
      "x input shape torch.Size([128, 100])\n",
      "x out shape torch.Size([128, 100])\n",
      "x input shape torch.Size([128, 100])\n",
      "x out shape torch.Size([128, 100])\n",
      "x input shape torch.Size([128, 100])\n",
      "x out shape torch.Size([128, 100])\n",
      "x input shape torch.Size([128, 100])\n",
      "x out shape torch.Size([128, 100])\n",
      "x input shape torch.Size([128, 100])\n",
      "x out shape torch.Size([128, 100])\n",
      "x input shape torch.Size([128, 100])\n",
      "x out shape torch.Size([128, 100])\n",
      "x input shape torch.Size([128, 100])\n",
      "x out shape torch.Size([128, 100])\n",
      "x input shape torch.Size([128, 100])\n"
     ]
    },
    {
     "name": "stderr",
     "output_type": "stream",
     "text": [
      "Epoch 4/20:  54%|██████████████████████████████████████████████████████▉                                              | 43/79 [00:00<00:00, 98.73it/s]"
     ]
    },
    {
     "name": "stdout",
     "output_type": "stream",
     "text": [
      "x out shape torch.Size([128, 100])\n",
      "x input shape torch.Size([128, 100])\n",
      "x out shape torch.Size([128, 100])\n",
      "x input shape torch.Size([128, 100])\n",
      "x out shape torch.Size([128, 100])\n",
      "x input shape torch.Size([128, 100])\n",
      "x out shape torch.Size([128, 100])\n",
      "x input shape torch.Size([128, 100])\n",
      "x out shape torch.Size([128, 100])\n",
      "x input shape torch.Size([128, 100])\n",
      "x out shape torch.Size([128, 100])\n",
      "x input shape torch.Size([128, 100])\n"
     ]
    },
    {
     "name": "stderr",
     "output_type": "stream",
     "text": [
      "Epoch 4/20:  68%|█████████████████████████████████████████████████████████████████████                                | 54/79 [00:00<00:00, 99.85it/s]"
     ]
    },
    {
     "name": "stdout",
     "output_type": "stream",
     "text": [
      "x out shape torch.Size([128, 100])\n",
      "x input shape torch.Size([128, 100])\n",
      "x out shape torch.Size([128, 100])\n",
      "x input shape torch.Size([128, 100])\n",
      "x out shape torch.Size([128, 100])\n",
      "x input shape torch.Size([128, 100])\n",
      "x out shape torch.Size([128, 100])\n",
      "x input shape torch.Size([128, 100])\n",
      "x out shape torch.Size([128, 100])\n",
      "x input shape torch.Size([128, 100])\n",
      "x out shape torch.Size([128, 100])\n",
      "x input shape torch.Size([128, 100])\n",
      "x out shape torch.Size([128, 100])\n",
      "x input shape torch.Size([128, 100])\n",
      "x out shape torch.Size([128, 100])\n",
      "x input shape torch.Size([128, 100])\n",
      "x out shape torch.Size([128, 100])\n",
      "x input shape torch.Size([128, 100])\n",
      "x out shape torch.Size([128, 100])\n",
      "x input shape torch.Size([128, 100])\n",
      "x out shape torch.Size([128, 100])\n",
      "x input shape torch.Size([128, 100])\n",
      "x out shape torch.Size([128, 100])\n",
      "x input shape torch.Size([128, 100])\n",
      "x out shape torch.Size([128, 100])\n",
      "x input shape torch.Size([128, 100])\n",
      "x out shape torch.Size([128, 100])\n",
      "x input shape torch.Size([128, 100])\n",
      "x out shape torch.Size([128, 100])\n",
      "x input shape torch.Size([128, 100])\n"
     ]
    },
    {
     "name": "stderr",
     "output_type": "stream",
     "text": [
      "Epoch 4/20:  82%|██████████████████████████████████████████████████████████████████████████████████▎                 | 65/79 [00:00<00:00, 101.92it/s]"
     ]
    },
    {
     "name": "stdout",
     "output_type": "stream",
     "text": [
      "x out shape torch.Size([128, 100])\n",
      "x input shape torch.Size([128, 100])\n",
      "x out shape torch.Size([128, 100])\n",
      "x input shape torch.Size([128, 100])\n",
      "x out shape torch.Size([128, 100])\n",
      "x input shape torch.Size([128, 100])\n",
      "x out shape torch.Size([128, 100])\n",
      "x input shape torch.Size([128, 100])\n",
      "x out shape torch.Size([128, 100])\n",
      "x input shape torch.Size([128, 100])\n",
      "x out shape torch.Size([128, 100])\n",
      "x input shape torch.Size([128, 100])\n",
      "x out shape torch.Size([128, 100])\n"
     ]
    },
    {
     "name": "stderr",
     "output_type": "stream",
     "text": [
      "Epoch 4/20: 100%|████████████████████████████████████████████████████████████████████████████████████████████████████| 79/79 [00:00<00:00, 101.57it/s]\n"
     ]
    },
    {
     "name": "stdout",
     "output_type": "stream",
     "text": [
      "x input shape torch.Size([128, 100])\n",
      "x out shape torch.Size([128, 100])\n",
      "x input shape torch.Size([128, 100])\n",
      "x out shape torch.Size([128, 100])\n",
      "x input shape torch.Size([128, 100])\n",
      "x out shape torch.Size([128, 100])\n",
      "x input shape torch.Size([128, 100])\n",
      "x out shape torch.Size([128, 100])\n",
      "x input shape torch.Size([128, 100])\n",
      "x out shape torch.Size([128, 100])\n",
      "x input shape torch.Size([128, 100])\n",
      "x out shape torch.Size([128, 100])\n",
      "x input shape torch.Size([128, 100])\n",
      "x out shape torch.Size([128, 100])\n",
      "x input shape torch.Size([128, 100])\n",
      "x out shape torch.Size([128, 100])\n",
      "x input shape torch.Size([128, 100])\n",
      "x out shape torch.Size([128, 100])\n",
      "x input shape torch.Size([16, 100])\n",
      "x out shape torch.Size([16, 100])\n",
      "Epoch 4: avg MSE loss = 29.398272\n"
     ]
    },
    {
     "name": "stderr",
     "output_type": "stream",
     "text": [
      "Epoch 5/20:   0%|                                                                                                              | 0/79 [00:00<?, ?it/s]"
     ]
    },
    {
     "name": "stdout",
     "output_type": "stream",
     "text": [
      "x input shape torch.Size([128, 100])\n",
      "x out shape torch.Size([128, 100])\n",
      "x input shape torch.Size([128, 100])\n",
      "x out shape torch.Size([128, 100])\n",
      "x input shape torch.Size([128, 100])\n",
      "x out shape torch.Size([128, 100])\n",
      "x input shape torch.Size([128, 100])\n",
      "x out shape torch.Size([128, 100])\n",
      "x input shape torch.Size([128, 100])\n",
      "x out shape torch.Size([128, 100])\n",
      "x input shape torch.Size([128, 100])\n",
      "x out shape torch.Size([128, 100])\n",
      "x input shape torch.Size([128, 100])\n",
      "x out shape torch.Size([128, 100])\n",
      "x input shape torch.Size([128, 100])\n",
      "x out shape torch.Size([128, 100])\n",
      "x input shape torch.Size([128, 100])\n"
     ]
    },
    {
     "name": "stderr",
     "output_type": "stream",
     "text": [
      "Epoch 5/20:  14%|█████████████▉                                                                                      | 11/79 [00:00<00:00, 105.49it/s]"
     ]
    },
    {
     "name": "stdout",
     "output_type": "stream",
     "text": [
      "x out shape torch.Size([128, 100])\n",
      "x input shape torch.Size([128, 100])\n",
      "x out shape torch.Size([128, 100])\n",
      "x input shape torch.Size([128, 100])\n",
      "x out shape torch.Size([128, 100])\n",
      "x input shape torch.Size([128, 100])\n",
      "x out shape torch.Size([128, 100])\n",
      "x input shape torch.Size([128, 100])\n",
      "x out shape torch.Size([128, 100])\n",
      "x input shape torch.Size([128, 100])\n",
      "x out shape torch.Size([128, 100])\n",
      "x input shape torch.Size([128, 100])\n",
      "x out shape torch.Size([128, 100])\n",
      "x input shape torch.Size([128, 100])\n",
      "x out shape torch.Size([128, 100])\n",
      "x input shape torch.Size([128, 100])\n",
      "x out shape torch.Size([128, 100])\n",
      "x input shape torch.Size([128, 100])\n",
      "x out shape torch.Size([128, 100])\n",
      "x input shape torch.Size([128, 100])\n",
      "x out shape torch.Size([128, 100])\n",
      "x input shape torch.Size([128, 100])\n",
      "x out shape torch.Size([128, 100])\n",
      "x input shape torch.Size([128, 100])\n",
      "x out shape torch.Size([128, 100])\n",
      "x input shape torch.Size([128, 100])\n"
     ]
    },
    {
     "name": "stderr",
     "output_type": "stream",
     "text": [
      "Epoch 5/20:  28%|███████████████████████████▊                                                                        | 22/79 [00:00<00:00, 105.43it/s]"
     ]
    },
    {
     "name": "stdout",
     "output_type": "stream",
     "text": [
      "x out shape torch.Size([128, 100])\n",
      "x input shape torch.Size([128, 100])\n",
      "x out shape torch.Size([128, 100])\n",
      "x input shape torch.Size([128, 100])\n",
      "x out shape torch.Size([128, 100])\n",
      "x input shape torch.Size([128, 100])\n",
      "x out shape torch.Size([128, 100])\n",
      "x input shape torch.Size([128, 100])\n",
      "x out shape torch.Size([128, 100])\n",
      "x input shape torch.Size([128, 100])\n",
      "x out shape torch.Size([128, 100])\n",
      "x input shape torch.Size([128, 100])\n",
      "x out shape torch.Size([128, 100])\n",
      "x input shape torch.Size([128, 100])\n",
      "x out shape torch.Size([128, 100])\n",
      "x input shape torch.Size([128, 100])\n",
      "x out shape torch.Size([128, 100])\n",
      "x input shape torch.Size([128, 100])\n",
      "x out shape torch.Size([128, 100])\n",
      "x input shape torch.Size([128, 100])\n",
      "x out shape torch.Size([128, 100])\n",
      "x input shape torch.Size([128, 100])\n",
      "x out shape torch.Size([128, 100])\n"
     ]
    },
    {
     "name": "stderr",
     "output_type": "stream",
     "text": [
      "Epoch 5/20:  42%|█████████████████████████████████████████▊                                                          | 33/79 [00:00<00:00, 105.13it/s]"
     ]
    },
    {
     "name": "stdout",
     "output_type": "stream",
     "text": [
      "x input shape torch.Size([128, 100])\n",
      "x out shape torch.Size([128, 100])\n",
      "x input shape torch.Size([128, 100])\n",
      "x out shape torch.Size([128, 100])\n",
      "x input shape torch.Size([128, 100])\n",
      "x out shape torch.Size([128, 100])\n",
      "x input shape torch.Size([128, 100])\n",
      "x out shape torch.Size([128, 100])\n",
      "x input shape torch.Size([128, 100])\n",
      "x out shape torch.Size([128, 100])\n",
      "x input shape torch.Size([128, 100])\n",
      "x out shape torch.Size([128, 100])\n",
      "x input shape torch.Size([128, 100])\n",
      "x out shape torch.Size([128, 100])\n",
      "x input shape torch.Size([128, 100])\n",
      "x out shape torch.Size([128, 100])\n",
      "x input shape torch.Size([128, 100])\n",
      "x out shape torch.Size([128, 100])\n",
      "x input shape torch.Size([128, 100])\n",
      "x out shape torch.Size([128, 100])\n"
     ]
    },
    {
     "name": "stderr",
     "output_type": "stream",
     "text": [
      "Epoch 5/20:  56%|███████████████████████████████████████████████████████▋                                            | 44/79 [00:00<00:00, 105.87it/s]"
     ]
    },
    {
     "name": "stdout",
     "output_type": "stream",
     "text": [
      "x input shape torch.Size([128, 100])\n",
      "x out shape torch.Size([128, 100])\n",
      "x input shape torch.Size([128, 100])\n",
      "x out shape torch.Size([128, 100])\n",
      "x input shape torch.Size([128, 100])\n",
      "x out shape torch.Size([128, 100])\n",
      "x input shape torch.Size([128, 100])\n",
      "x out shape torch.Size([128, 100])\n",
      "x input shape torch.Size([128, 100])\n",
      "x out shape torch.Size([128, 100])\n",
      "x input shape torch.Size([128, 100])\n",
      "x out shape torch.Size([128, 100])\n",
      "x input shape torch.Size([128, 100])\n",
      "x out shape torch.Size([128, 100])\n",
      "x input shape torch.Size([128, 100])\n",
      "x out shape torch.Size([128, 100])\n",
      "x input shape torch.Size([128, 100])\n",
      "x out shape torch.Size([128, 100])\n",
      "x input shape torch.Size([128, 100])\n",
      "x out shape torch.Size([128, 100])\n",
      "x input shape torch.Size([128, 100])\n",
      "x out shape torch.Size([128, 100])\n",
      "x input shape torch.Size([128, 100])\n"
     ]
    },
    {
     "name": "stderr",
     "output_type": "stream",
     "text": [
      "Epoch 5/20:  70%|█████████████████████████████████████████████████████████████████████▌                              | 55/79 [00:00<00:00, 105.49it/s]"
     ]
    },
    {
     "name": "stdout",
     "output_type": "stream",
     "text": [
      "x out shape torch.Size([128, 100])\n",
      "x input shape torch.Size([128, 100])\n",
      "x out shape torch.Size([128, 100])\n",
      "x input shape torch.Size([128, 100])\n",
      "x out shape torch.Size([128, 100])\n",
      "x input shape torch.Size([128, 100])\n",
      "x out shape torch.Size([128, 100])\n",
      "x input shape torch.Size([128, 100])\n",
      "x out shape torch.Size([128, 100])\n",
      "x input shape torch.Size([128, 100])\n",
      "x out shape torch.Size([128, 100])\n",
      "x input shape torch.Size([128, 100])\n",
      "x out shape torch.Size([128, 100])\n",
      "x input shape torch.Size([128, 100])\n",
      "x out shape torch.Size([128, 100])\n",
      "x input shape torch.Size([128, 100])\n",
      "x out shape torch.Size([128, 100])\n",
      "x input shape torch.Size([128, 100])\n",
      "x out shape torch.Size([128, 100])\n",
      "x input shape torch.Size([128, 100])\n"
     ]
    },
    {
     "name": "stderr",
     "output_type": "stream",
     "text": [
      "Epoch 5/20:  84%|███████████████████████████████████████████████████████████████████████████████████▌                | 66/79 [00:00<00:00, 106.14it/s]"
     ]
    },
    {
     "name": "stdout",
     "output_type": "stream",
     "text": [
      "x out shape torch.Size([128, 100])\n",
      "x input shape torch.Size([128, 100])\n",
      "x out shape torch.Size([128, 100])\n",
      "x input shape torch.Size([128, 100])\n",
      "x out shape torch.Size([128, 100])\n",
      "x input shape torch.Size([128, 100])\n",
      "x out shape torch.Size([128, 100])\n",
      "x input shape torch.Size([128, 100])\n",
      "x out shape torch.Size([128, 100])\n",
      "x input shape torch.Size([128, 100])\n",
      "x out shape torch.Size([128, 100])\n",
      "x input shape torch.Size([128, 100])\n",
      "x out shape torch.Size([128, 100])\n",
      "x input shape torch.Size([128, 100])\n",
      "x out shape torch.Size([128, 100])\n",
      "x input shape torch.Size([128, 100])\n",
      "x out shape torch.Size([128, 100])\n",
      "x input shape torch.Size([128, 100])\n",
      "x out shape torch.Size([128, 100])\n",
      "x input shape torch.Size([128, 100])\n",
      "x out shape torch.Size([128, 100])\n",
      "x input shape torch.Size([128, 100])\n",
      "x out shape torch.Size([128, 100])\n"
     ]
    },
    {
     "name": "stderr",
     "output_type": "stream",
     "text": [
      "Epoch 5/20: 100%|████████████████████████████████████████████████████████████████████████████████████████████████████| 79/79 [00:00<00:00, 105.85it/s]\n"
     ]
    },
    {
     "name": "stdout",
     "output_type": "stream",
     "text": [
      "x input shape torch.Size([128, 100])\n",
      "x out shape torch.Size([128, 100])\n",
      "x input shape torch.Size([128, 100])\n",
      "x out shape torch.Size([128, 100])\n",
      "x input shape torch.Size([16, 100])\n",
      "x out shape torch.Size([16, 100])\n",
      "Epoch 5: avg MSE loss = 16.977402\n"
     ]
    },
    {
     "name": "stderr",
     "output_type": "stream",
     "text": [
      "Epoch 6/20:   0%|                                                                                                              | 0/79 [00:00<?, ?it/s]"
     ]
    },
    {
     "name": "stdout",
     "output_type": "stream",
     "text": [
      "x input shape torch.Size([128, 100])\n",
      "x out shape torch.Size([128, 100])\n",
      "x input shape torch.Size([128, 100])\n",
      "x out shape torch.Size([128, 100])\n",
      "x input shape torch.Size([128, 100])\n",
      "x out shape torch.Size([128, 100])\n",
      "x input shape torch.Size([128, 100])\n",
      "x out shape torch.Size([128, 100])\n",
      "x input shape torch.Size([128, 100])\n",
      "x out shape torch.Size([128, 100])\n",
      "x input shape torch.Size([128, 100])\n",
      "x out shape torch.Size([128, 100])\n",
      "x input shape torch.Size([128, 100])\n",
      "x out shape torch.Size([128, 100])\n",
      "x input shape torch.Size([128, 100])\n",
      "x out shape torch.Size([128, 100])\n",
      "x input shape torch.Size([128, 100])\n",
      "x out shape torch.Size([128, 100])\n",
      "x input shape torch.Size([128, 100])\n",
      "x out shape torch.Size([128, 100])\n",
      "x input shape torch.Size([128, 100])\n"
     ]
    },
    {
     "name": "stderr",
     "output_type": "stream",
     "text": [
      "Epoch 6/20:  14%|█████████████▉                                                                                      | 11/79 [00:00<00:00, 106.26it/s]"
     ]
    },
    {
     "name": "stdout",
     "output_type": "stream",
     "text": [
      "x out shape torch.Size([128, 100])\n",
      "x input shape torch.Size([128, 100])\n",
      "x out shape torch.Size([128, 100])\n",
      "x input shape torch.Size([128, 100])\n",
      "x out shape torch.Size([128, 100])\n",
      "x input shape torch.Size([128, 100])\n",
      "x out shape torch.Size([128, 100])\n",
      "x input shape torch.Size([128, 100])\n",
      "x out shape torch.Size([128, 100])\n",
      "x input shape torch.Size([128, 100])\n",
      "x out shape torch.Size([128, 100])\n",
      "x input shape torch.Size([128, 100])\n",
      "x out shape torch.Size([128, 100])\n",
      "x input shape torch.Size([128, 100])\n",
      "x out shape torch.Size([128, 100])\n",
      "x input shape torch.Size([128, 100])\n",
      "x out shape torch.Size([128, 100])\n",
      "x input shape torch.Size([128, 100])\n",
      "x out shape torch.Size([128, 100])\n",
      "x input shape torch.Size([128, 100])\n",
      "x out shape torch.Size([128, 100])\n",
      "x input shape torch.Size([128, 100])\n"
     ]
    },
    {
     "name": "stderr",
     "output_type": "stream",
     "text": [
      "Epoch 6/20:  28%|███████████████████████████▊                                                                        | 22/79 [00:00<00:00, 105.98it/s]"
     ]
    },
    {
     "name": "stdout",
     "output_type": "stream",
     "text": [
      "x out shape torch.Size([128, 100])\n",
      "x input shape torch.Size([128, 100])\n",
      "x out shape torch.Size([128, 100])\n",
      "x input shape torch.Size([128, 100])\n",
      "x out shape torch.Size([128, 100])\n",
      "x input shape torch.Size([128, 100])\n",
      "x out shape torch.Size([128, 100])\n",
      "x input shape torch.Size([128, 100])\n",
      "x out shape torch.Size([128, 100])\n",
      "x input shape torch.Size([128, 100])\n",
      "x out shape torch.Size([128, 100])\n",
      "x input shape torch.Size([128, 100])\n",
      "x out shape torch.Size([128, 100])\n",
      "x input shape torch.Size([128, 100])\n",
      "x out shape torch.Size([128, 100])\n",
      "x input shape torch.Size([128, 100])\n",
      "x out shape torch.Size([128, 100])\n",
      "x input shape torch.Size([128, 100])\n",
      "x out shape torch.Size([128, 100])\n",
      "x input shape torch.Size([128, 100])\n",
      "x out shape torch.Size([128, 100])\n"
     ]
    },
    {
     "name": "stderr",
     "output_type": "stream",
     "text": [
      "Epoch 6/20:  42%|█████████████████████████████████████████▊                                                          | 33/79 [00:00<00:00, 106.18it/s]"
     ]
    },
    {
     "name": "stdout",
     "output_type": "stream",
     "text": [
      "x input shape torch.Size([128, 100])\n",
      "x out shape torch.Size([128, 100])\n",
      "x input shape torch.Size([128, 100])\n",
      "x out shape torch.Size([128, 100])\n",
      "x input shape torch.Size([128, 100])\n",
      "x out shape torch.Size([128, 100])\n",
      "x input shape torch.Size([128, 100])\n",
      "x out shape torch.Size([128, 100])\n",
      "x input shape torch.Size([128, 100])\n",
      "x out shape torch.Size([128, 100])\n",
      "x input shape torch.Size([128, 100])\n",
      "x out shape torch.Size([128, 100])\n",
      "x input shape torch.Size([128, 100])\n",
      "x out shape torch.Size([128, 100])\n",
      "x input shape torch.Size([128, 100])\n",
      "x out shape torch.Size([128, 100])\n",
      "x input shape torch.Size([128, 100])\n",
      "x out shape torch.Size([128, 100])\n",
      "x input shape torch.Size([128, 100])\n",
      "x out shape torch.Size([128, 100])\n",
      "x input shape torch.Size([128, 100])\n",
      "x out shape torch.Size([128, 100])\n"
     ]
    },
    {
     "name": "stderr",
     "output_type": "stream",
     "text": [
      "Epoch 6/20:  56%|███████████████████████████████████████████████████████▋                                            | 44/79 [00:00<00:00, 106.01it/s]"
     ]
    },
    {
     "name": "stdout",
     "output_type": "stream",
     "text": [
      "x input shape torch.Size([128, 100])\n",
      "x out shape torch.Size([128, 100])\n",
      "x input shape torch.Size([128, 100])\n",
      "x out shape torch.Size([128, 100])\n",
      "x input shape torch.Size([128, 100])\n",
      "x out shape torch.Size([128, 100])\n",
      "x input shape torch.Size([128, 100])\n",
      "x out shape torch.Size([128, 100])\n",
      "x input shape torch.Size([128, 100])\n",
      "x out shape torch.Size([128, 100])\n",
      "x input shape torch.Size([128, 100])\n",
      "x out shape torch.Size([128, 100])\n",
      "x input shape torch.Size([128, 100])\n",
      "x out shape torch.Size([128, 100])\n",
      "x input shape torch.Size([128, 100])\n",
      "x out shape torch.Size([128, 100])\n",
      "x input shape torch.Size([128, 100])\n",
      "x out shape torch.Size([128, 100])\n",
      "x input shape torch.Size([128, 100])\n",
      "x out shape torch.Size([128, 100])\n",
      "x input shape torch.Size([128, 100])\n",
      "x out shape torch.Size([128, 100])\n",
      "x input shape torch.Size([128, 100])\n",
      "x out shape torch.Size([128, 100])\n"
     ]
    },
    {
     "name": "stderr",
     "output_type": "stream",
     "text": [
      "Epoch 6/20:  70%|█████████████████████████████████████████████████████████████████████▌                              | 55/79 [00:00<00:00, 106.23it/s]"
     ]
    },
    {
     "name": "stdout",
     "output_type": "stream",
     "text": [
      "x input shape torch.Size([128, 100])\n",
      "x out shape torch.Size([128, 100])\n",
      "x input shape torch.Size([128, 100])\n",
      "x out shape torch.Size([128, 100])\n",
      "x input shape torch.Size([128, 100])\n",
      "x out shape torch.Size([128, 100])\n",
      "x input shape torch.Size([128, 100])\n",
      "x out shape torch.Size([128, 100])\n",
      "x input shape torch.Size([128, 100])\n",
      "x out shape torch.Size([128, 100])\n",
      "x input shape torch.Size([128, 100])\n",
      "x out shape torch.Size([128, 100])\n",
      "x input shape torch.Size([128, 100])\n",
      "x out shape torch.Size([128, 100])\n",
      "x input shape torch.Size([128, 100])\n",
      "x out shape torch.Size([128, 100])\n",
      "x input shape torch.Size([128, 100])\n",
      "x out shape torch.Size([128, 100])\n",
      "x input shape torch.Size([128, 100])\n"
     ]
    },
    {
     "name": "stderr",
     "output_type": "stream",
     "text": [
      "Epoch 6/20:  84%|███████████████████████████████████████████████████████████████████████████████████▌                | 66/79 [00:00<00:00, 106.14it/s]"
     ]
    },
    {
     "name": "stdout",
     "output_type": "stream",
     "text": [
      "x out shape torch.Size([128, 100])\n",
      "x input shape torch.Size([128, 100])\n",
      "x out shape torch.Size([128, 100])\n",
      "x input shape torch.Size([128, 100])\n",
      "x out shape torch.Size([128, 100])\n",
      "x input shape torch.Size([128, 100])\n",
      "x out shape torch.Size([128, 100])\n",
      "x input shape torch.Size([128, 100])\n",
      "x out shape torch.Size([128, 100])\n",
      "x input shape torch.Size([128, 100])\n",
      "x out shape torch.Size([128, 100])\n",
      "x input shape torch.Size([128, 100])\n",
      "x out shape torch.Size([128, 100])\n",
      "x input shape torch.Size([128, 100])\n",
      "x out shape torch.Size([128, 100])\n",
      "x input shape torch.Size([128, 100])\n",
      "x out shape torch.Size([128, 100])\n",
      "x input shape torch.Size([128, 100])\n",
      "x out shape torch.Size([128, 100])\n",
      "x input shape torch.Size([128, 100])\n",
      "x out shape torch.Size([128, 100])\n",
      "x input shape torch.Size([128, 100])\n",
      "x out shape torch.Size([128, 100])\n",
      "x input shape torch.Size([128, 100])\n"
     ]
    },
    {
     "name": "stderr",
     "output_type": "stream",
     "text": [
      "Epoch 6/20: 100%|████████████████████████████████████████████████████████████████████████████████████████████████████| 79/79 [00:00<00:00, 106.22it/s]\n"
     ]
    },
    {
     "name": "stdout",
     "output_type": "stream",
     "text": [
      "x out shape torch.Size([128, 100])\n",
      "x input shape torch.Size([128, 100])\n",
      "x out shape torch.Size([128, 100])\n",
      "x input shape torch.Size([16, 100])\n",
      "x out shape torch.Size([16, 100])\n",
      "Epoch 6: avg MSE loss = 10.628971\n"
     ]
    },
    {
     "name": "stderr",
     "output_type": "stream",
     "text": [
      "Epoch 7/20:   0%|                                                                                                              | 0/79 [00:00<?, ?it/s]"
     ]
    },
    {
     "name": "stdout",
     "output_type": "stream",
     "text": [
      "x input shape torch.Size([128, 100])\n",
      "x out shape torch.Size([128, 100])\n",
      "x input shape torch.Size([128, 100])\n",
      "x out shape torch.Size([128, 100])\n",
      "x input shape torch.Size([128, 100])\n",
      "x out shape torch.Size([128, 100])\n",
      "x input shape torch.Size([128, 100])\n",
      "x out shape torch.Size([128, 100])\n",
      "x input shape torch.Size([128, 100])\n",
      "x out shape torch.Size([128, 100])\n",
      "x input shape torch.Size([128, 100])\n",
      "x out shape torch.Size([128, 100])\n",
      "x input shape torch.Size([128, 100])\n",
      "x out shape torch.Size([128, 100])\n"
     ]
    },
    {
     "name": "stderr",
     "output_type": "stream",
     "text": [
      "Epoch 7/20:  11%|███████████▌                                                                                          | 9/79 [00:00<00:00, 72.86it/s]"
     ]
    },
    {
     "name": "stdout",
     "output_type": "stream",
     "text": [
      "x input shape torch.Size([128, 100])\n",
      "x out shape torch.Size([128, 100])\n",
      "x input shape torch.Size([128, 100])\n",
      "x out shape torch.Size([128, 100])\n",
      "x input shape torch.Size([128, 100])\n",
      "x out shape torch.Size([128, 100])\n",
      "x input shape torch.Size([128, 100])\n",
      "x out shape torch.Size([128, 100])\n",
      "x input shape torch.Size([128, 100])\n",
      "x out shape torch.Size([128, 100])\n",
      "x input shape torch.Size([128, 100])\n",
      "x out shape torch.Size([128, 100])\n",
      "x input shape torch.Size([128, 100])\n",
      "x out shape torch.Size([128, 100])\n",
      "x input shape torch.Size([128, 100])\n",
      "x out shape torch.Size([128, 100])\n",
      "x input shape torch.Size([128, 100])\n",
      "x out shape torch.Size([128, 100])\n",
      "x input shape torch.Size([128, 100])\n",
      "x out shape torch.Size([128, 100])\n",
      "x input shape torch.Size([128, 100])\n"
     ]
    },
    {
     "name": "stderr",
     "output_type": "stream",
     "text": [
      "Epoch 7/20:  24%|████████████████████████▎                                                                            | 19/79 [00:00<00:00, 84.36it/s]"
     ]
    },
    {
     "name": "stdout",
     "output_type": "stream",
     "text": [
      "x out shape torch.Size([128, 100])\n",
      "x input shape torch.Size([128, 100])\n",
      "x out shape torch.Size([128, 100])\n",
      "x input shape torch.Size([128, 100])\n",
      "x out shape torch.Size([128, 100])\n",
      "x input shape torch.Size([128, 100])\n",
      "x out shape torch.Size([128, 100])\n",
      "x input shape torch.Size([128, 100])\n",
      "x out shape torch.Size([128, 100])\n",
      "x input shape torch.Size([128, 100])\n",
      "x out shape torch.Size([128, 100])\n"
     ]
    },
    {
     "name": "stderr",
     "output_type": "stream",
     "text": [
      "Epoch 7/20:  38%|██████████████████████████████████████▎                                                              | 30/79 [00:00<00:00, 93.99it/s]"
     ]
    },
    {
     "name": "stdout",
     "output_type": "stream",
     "text": [
      "x input shape torch.Size([128, 100])\n",
      "x out shape torch.Size([128, 100])\n",
      "x input shape torch.Size([128, 100])\n",
      "x out shape torch.Size([128, 100])\n",
      "x input shape torch.Size([128, 100])\n",
      "x out shape torch.Size([128, 100])\n",
      "x input shape torch.Size([128, 100])\n",
      "x out shape torch.Size([128, 100])\n",
      "x input shape torch.Size([128, 100])\n",
      "x out shape torch.Size([128, 100])\n",
      "x input shape torch.Size([128, 100])\n",
      "x out shape torch.Size([128, 100])\n",
      "x input shape torch.Size([128, 100])\n",
      "x out shape torch.Size([128, 100])\n",
      "x input shape torch.Size([128, 100])\n",
      "x out shape torch.Size([128, 100])\n",
      "x input shape torch.Size([128, 100])\n",
      "x out shape torch.Size([128, 100])\n",
      "x input shape torch.Size([128, 100])\n",
      "x out shape torch.Size([128, 100])\n",
      "x input shape torch.Size([128, 100])\n",
      "x out shape torch.Size([128, 100])\n",
      "x input shape torch.Size([128, 100])\n",
      "x out shape torch.Size([128, 100])\n",
      "x input shape torch.Size([128, 100])\n",
      "x out shape torch.Size([128, 100])\n",
      "x input shape torch.Size([128, 100])\n",
      "x out shape torch.Size([128, 100])\n",
      "x input shape torch.Size([128, 100])\n",
      "x out shape torch.Size([128, 100])\n",
      "x input shape torch.Size([128, 100])\n",
      "x out shape torch.Size([128, 100])\n"
     ]
    },
    {
     "name": "stderr",
     "output_type": "stream",
     "text": [
      "Epoch 7/20:  52%|████████████████████████████████████████████████████▍                                                | 41/79 [00:00<00:00, 98.48it/s]"
     ]
    },
    {
     "name": "stdout",
     "output_type": "stream",
     "text": [
      "x input shape torch.Size([128, 100])\n",
      "x out shape torch.Size([128, 100])\n",
      "x input shape torch.Size([128, 100])\n",
      "x out shape torch.Size([128, 100])\n",
      "x input shape torch.Size([128, 100])\n",
      "x out shape torch.Size([128, 100])\n",
      "x input shape torch.Size([128, 100])\n",
      "x out shape torch.Size([128, 100])\n",
      "x input shape torch.Size([128, 100])\n",
      "x out shape torch.Size([128, 100])\n",
      "x input shape torch.Size([128, 100])\n"
     ]
    },
    {
     "name": "stderr",
     "output_type": "stream",
     "text": [
      "Epoch 7/20:  66%|█████████████████████████████████████████████████████████████████▊                                  | 52/79 [00:00<00:00, 101.98it/s]"
     ]
    },
    {
     "name": "stdout",
     "output_type": "stream",
     "text": [
      "x out shape torch.Size([128, 100])\n",
      "x input shape torch.Size([128, 100])\n",
      "x out shape torch.Size([128, 100])\n",
      "x input shape torch.Size([128, 100])\n",
      "x out shape torch.Size([128, 100])\n",
      "x input shape torch.Size([128, 100])\n",
      "x out shape torch.Size([128, 100])\n",
      "x input shape torch.Size([128, 100])\n",
      "x out shape torch.Size([128, 100])\n",
      "x input shape torch.Size([128, 100])\n",
      "x out shape torch.Size([128, 100])\n",
      "x input shape torch.Size([128, 100])\n",
      "x out shape torch.Size([128, 100])\n",
      "x input shape torch.Size([128, 100])\n",
      "x out shape torch.Size([128, 100])\n",
      "x input shape torch.Size([128, 100])\n",
      "x out shape torch.Size([128, 100])\n",
      "x input shape torch.Size([128, 100])\n",
      "x out shape torch.Size([128, 100])\n",
      "x input shape torch.Size([128, 100])\n",
      "x out shape torch.Size([128, 100])\n",
      "x input shape torch.Size([128, 100])\n",
      "x out shape torch.Size([128, 100])\n",
      "x input shape torch.Size([128, 100])\n",
      "x out shape torch.Size([128, 100])\n",
      "x input shape torch.Size([128, 100])\n",
      "x out shape torch.Size([128, 100])\n",
      "x input shape torch.Size([128, 100])\n",
      "x out shape torch.Size([128, 100])\n",
      "x input shape torch.Size([128, 100])\n",
      "x out shape torch.Size([128, 100])\n",
      "x input shape torch.Size([128, 100])\n"
     ]
    },
    {
     "name": "stderr",
     "output_type": "stream",
     "text": [
      "Epoch 7/20:  80%|███████████████████████████████████████████████████████████████████████████████▋                    | 63/79 [00:00<00:00, 103.11it/s]"
     ]
    },
    {
     "name": "stdout",
     "output_type": "stream",
     "text": [
      "x out shape torch.Size([128, 100])\n",
      "x input shape torch.Size([128, 100])\n",
      "x out shape torch.Size([128, 100])\n",
      "x input shape torch.Size([128, 100])\n",
      "x out shape torch.Size([128, 100])\n",
      "x input shape torch.Size([128, 100])\n",
      "x out shape torch.Size([128, 100])\n",
      "x input shape torch.Size([128, 100])\n",
      "x out shape torch.Size([128, 100])\n",
      "x input shape torch.Size([128, 100])\n",
      "x out shape torch.Size([128, 100])\n",
      "x input shape torch.Size([128, 100])\n",
      "x out shape torch.Size([128, 100])\n",
      "x input shape torch.Size([128, 100])\n",
      "x out shape torch.Size([128, 100])\n",
      "x input shape torch.Size([128, 100])\n",
      "x out shape torch.Size([128, 100])\n",
      "x input shape torch.Size([128, 100])\n",
      "x out shape torch.Size([128, 100])\n",
      "x input shape torch.Size([128, 100])\n",
      "x out shape torch.Size([128, 100])\n",
      "x input shape torch.Size([128, 100])\n",
      "x out shape torch.Size([128, 100])\n",
      "x input shape torch.Size([128, 100])\n",
      "x out shape torch.Size([128, 100])\n",
      "x input shape torch.Size([128, 100])\n",
      "x out shape torch.Size([128, 100])\n"
     ]
    },
    {
     "name": "stderr",
     "output_type": "stream",
     "text": [
      "Epoch 7/20:  94%|█████████████████████████████████████████████████████████████████████████████████████████████▋      | 74/79 [00:00<00:00, 104.28it/s]"
     ]
    },
    {
     "name": "stdout",
     "output_type": "stream",
     "text": [
      "x input shape torch.Size([128, 100])\n",
      "x out shape torch.Size([128, 100])\n",
      "x input shape torch.Size([128, 100])\n",
      "x out shape torch.Size([128, 100])\n",
      "x input shape torch.Size([128, 100])\n",
      "x out shape torch.Size([128, 100])\n",
      "x input shape torch.Size([128, 100])\n"
     ]
    },
    {
     "name": "stderr",
     "output_type": "stream",
     "text": [
      "Epoch 7/20: 100%|█████████████████████████████████████████████████████████████████████████████████████████████████████| 79/79 [00:00<00:00, 99.65it/s]"
     ]
    },
    {
     "name": "stdout",
     "output_type": "stream",
     "text": [
      "x out shape torch.Size([128, 100])\n",
      "x input shape torch.Size([16, 100])\n",
      "x out shape torch.Size([16, 100])\n"
     ]
    },
    {
     "name": "stderr",
     "output_type": "stream",
     "text": [
      "\n"
     ]
    },
    {
     "name": "stdout",
     "output_type": "stream",
     "text": [
      "Epoch 7: avg MSE loss = 7.007546\n"
     ]
    },
    {
     "name": "stderr",
     "output_type": "stream",
     "text": [
      "Epoch 8/20:   0%|                                                                                                              | 0/79 [00:00<?, ?it/s]"
     ]
    },
    {
     "name": "stdout",
     "output_type": "stream",
     "text": [
      "x input shape torch.Size([128, 100])\n",
      "x out shape torch.Size([128, 100])\n",
      "x input shape torch.Size([128, 100])\n",
      "x out shape torch.Size([128, 100])\n",
      "x input shape torch.Size([128, 100])\n",
      "x out shape torch.Size([128, 100])\n",
      "x input shape torch.Size([128, 100])\n",
      "x out shape torch.Size([128, 100])\n",
      "x input shape torch.Size([128, 100])\n",
      "x out shape torch.Size([128, 100])\n",
      "x input shape torch.Size([128, 100])\n",
      "x out shape torch.Size([128, 100])\n",
      "x input shape torch.Size([128, 100])\n",
      "x out shape torch.Size([128, 100])\n",
      "x input shape torch.Size([128, 100])\n",
      "x out shape torch.Size([128, 100])\n",
      "x input shape torch.Size([128, 100])\n",
      "x out shape torch.Size([128, 100])\n"
     ]
    },
    {
     "name": "stderr",
     "output_type": "stream",
     "text": [
      "Epoch 8/20:  14%|█████████████▉                                                                                      | 11/79 [00:00<00:00, 104.94it/s]"
     ]
    },
    {
     "name": "stdout",
     "output_type": "stream",
     "text": [
      "x input shape torch.Size([128, 100])\n",
      "x out shape torch.Size([128, 100])\n",
      "x input shape torch.Size([128, 100])\n",
      "x out shape torch.Size([128, 100])\n",
      "x input shape torch.Size([128, 100])\n",
      "x out shape torch.Size([128, 100])\n",
      "x input shape torch.Size([128, 100])\n",
      "x out shape torch.Size([128, 100])\n",
      "x input shape torch.Size([128, 100])\n",
      "x out shape torch.Size([128, 100])\n",
      "x input shape torch.Size([128, 100])\n",
      "x out shape torch.Size([128, 100])\n",
      "x input shape torch.Size([128, 100])\n",
      "x out shape torch.Size([128, 100])\n",
      "x input shape torch.Size([128, 100])\n",
      "x out shape torch.Size([128, 100])\n",
      "x input shape torch.Size([128, 100])\n",
      "x out shape torch.Size([128, 100])\n",
      "x input shape torch.Size([128, 100])\n",
      "x out shape torch.Size([128, 100])\n",
      "x input shape torch.Size([128, 100])\n",
      "x out shape torch.Size([128, 100])\n",
      "x input shape torch.Size([128, 100])\n",
      "x out shape torch.Size([128, 100])\n",
      "x input shape torch.Size([128, 100])\n"
     ]
    },
    {
     "name": "stderr",
     "output_type": "stream",
     "text": [
      "Epoch 8/20:  28%|███████████████████████████▊                                                                        | 22/79 [00:00<00:00, 105.50it/s]"
     ]
    },
    {
     "name": "stdout",
     "output_type": "stream",
     "text": [
      "x out shape torch.Size([128, 100])\n",
      "x input shape torch.Size([128, 100])\n",
      "x out shape torch.Size([128, 100])\n",
      "x input shape torch.Size([128, 100])\n",
      "x out shape torch.Size([128, 100])\n",
      "x input shape torch.Size([128, 100])\n",
      "x out shape torch.Size([128, 100])\n",
      "x input shape torch.Size([128, 100])\n",
      "x out shape torch.Size([128, 100])\n",
      "x input shape torch.Size([128, 100])\n",
      "x out shape torch.Size([128, 100])\n",
      "x input shape torch.Size([128, 100])\n",
      "x out shape torch.Size([128, 100])\n",
      "x input shape torch.Size([128, 100])\n",
      "x out shape torch.Size([128, 100])\n",
      "x input shape torch.Size([128, 100])\n",
      "x out shape torch.Size([128, 100])\n",
      "x input shape torch.Size([128, 100])\n"
     ]
    },
    {
     "name": "stderr",
     "output_type": "stream",
     "text": [
      "Epoch 8/20:  42%|█████████████████████████████████████████▊                                                          | 33/79 [00:00<00:00, 105.79it/s]"
     ]
    },
    {
     "name": "stdout",
     "output_type": "stream",
     "text": [
      "x out shape torch.Size([128, 100])\n",
      "x input shape torch.Size([128, 100])\n",
      "x out shape torch.Size([128, 100])\n",
      "x input shape torch.Size([128, 100])\n",
      "x out shape torch.Size([128, 100])\n",
      "x input shape torch.Size([128, 100])\n",
      "x out shape torch.Size([128, 100])\n",
      "x input shape torch.Size([128, 100])\n",
      "x out shape torch.Size([128, 100])\n",
      "x input shape torch.Size([128, 100])\n",
      "x out shape torch.Size([128, 100])\n",
      "x input shape torch.Size([128, 100])\n",
      "x out shape torch.Size([128, 100])\n",
      "x input shape torch.Size([128, 100])\n",
      "x out shape torch.Size([128, 100])\n",
      "x input shape torch.Size([128, 100])\n",
      "x out shape torch.Size([128, 100])\n",
      "x input shape torch.Size([128, 100])\n",
      "x out shape torch.Size([128, 100])\n",
      "x input shape torch.Size([128, 100])\n",
      "x out shape torch.Size([128, 100])\n",
      "x input shape torch.Size([128, 100])\n",
      "x out shape torch.Size([128, 100])\n",
      "x input shape torch.Size([128, 100])\n",
      "x out shape torch.Size([128, 100])\n",
      "x input shape torch.Size([128, 100])\n"
     ]
    },
    {
     "name": "stderr",
     "output_type": "stream",
     "text": [
      "Epoch 8/20:  56%|███████████████████████████████████████████████████████▋                                            | 44/79 [00:00<00:00, 106.22it/s]"
     ]
    },
    {
     "name": "stdout",
     "output_type": "stream",
     "text": [
      "x out shape torch.Size([128, 100])\n",
      "x input shape torch.Size([128, 100])\n",
      "x out shape torch.Size([128, 100])\n",
      "x input shape torch.Size([128, 100])\n",
      "x out shape torch.Size([128, 100])\n",
      "x input shape torch.Size([128, 100])\n",
      "x out shape torch.Size([128, 100])\n",
      "x input shape torch.Size([128, 100])\n",
      "x out shape torch.Size([128, 100])\n",
      "x input shape torch.Size([128, 100])\n",
      "x out shape torch.Size([128, 100])\n",
      "x input shape torch.Size([128, 100])\n",
      "x out shape torch.Size([128, 100])\n",
      "x input shape torch.Size([128, 100])\n",
      "x out shape torch.Size([128, 100])\n",
      "x input shape torch.Size([128, 100])\n",
      "x out shape torch.Size([128, 100])\n"
     ]
    },
    {
     "name": "stderr",
     "output_type": "stream",
     "text": [
      "Epoch 8/20:  70%|█████████████████████████████████████████████████████████████████████▌                              | 55/79 [00:00<00:00, 106.38it/s]"
     ]
    },
    {
     "name": "stdout",
     "output_type": "stream",
     "text": [
      "x input shape torch.Size([128, 100])\n",
      "x out shape torch.Size([128, 100])\n",
      "x input shape torch.Size([128, 100])\n",
      "x out shape torch.Size([128, 100])\n",
      "x input shape torch.Size([128, 100])\n",
      "x out shape torch.Size([128, 100])\n",
      "x input shape torch.Size([128, 100])\n",
      "x out shape torch.Size([128, 100])\n",
      "x input shape torch.Size([128, 100])\n",
      "x out shape torch.Size([128, 100])\n",
      "x input shape torch.Size([128, 100])\n",
      "x out shape torch.Size([128, 100])\n",
      "x input shape torch.Size([128, 100])\n",
      "x out shape torch.Size([128, 100])\n",
      "x input shape torch.Size([128, 100])\n",
      "x out shape torch.Size([128, 100])\n",
      "x input shape torch.Size([128, 100])\n",
      "x out shape torch.Size([128, 100])\n",
      "x input shape torch.Size([128, 100])\n",
      "x out shape torch.Size([128, 100])\n",
      "x input shape torch.Size([128, 100])\n",
      "x out shape torch.Size([128, 100])\n",
      "x input shape torch.Size([128, 100])\n",
      "x out shape torch.Size([128, 100])\n",
      "x input shape torch.Size([128, 100])\n",
      "x out shape torch.Size([128, 100])\n"
     ]
    },
    {
     "name": "stderr",
     "output_type": "stream",
     "text": [
      "Epoch 8/20:  84%|███████████████████████████████████████████████████████████████████████████████████▌                | 66/79 [00:00<00:00, 106.24it/s]"
     ]
    },
    {
     "name": "stdout",
     "output_type": "stream",
     "text": [
      "x input shape torch.Size([128, 100])\n",
      "x out shape torch.Size([128, 100])\n",
      "x input shape torch.Size([128, 100])\n",
      "x out shape torch.Size([128, 100])\n",
      "x input shape torch.Size([128, 100])\n",
      "x out shape torch.Size([128, 100])\n",
      "x input shape torch.Size([128, 100])\n",
      "x out shape torch.Size([128, 100])\n",
      "x input shape torch.Size([128, 100])\n",
      "x out shape torch.Size([128, 100])\n",
      "x input shape torch.Size([128, 100])\n",
      "x out shape torch.Size([128, 100])\n",
      "x input shape torch.Size([128, 100])\n",
      "x out shape torch.Size([128, 100])\n",
      "x input shape torch.Size([128, 100])\n",
      "x out shape torch.Size([128, 100])\n"
     ]
    },
    {
     "name": "stderr",
     "output_type": "stream",
     "text": [
      "Epoch 8/20: 100%|████████████████████████████████████████████████████████████████████████████████████████████████████| 79/79 [00:00<00:00, 105.02it/s]\n"
     ]
    },
    {
     "name": "stdout",
     "output_type": "stream",
     "text": [
      "x input shape torch.Size([128, 100])\n",
      "x out shape torch.Size([128, 100])\n",
      "x input shape torch.Size([128, 100])\n",
      "x out shape torch.Size([128, 100])\n",
      "x input shape torch.Size([128, 100])\n",
      "x out shape torch.Size([128, 100])\n",
      "x input shape torch.Size([128, 100])\n",
      "x out shape torch.Size([128, 100])\n",
      "x input shape torch.Size([128, 100])\n",
      "x out shape torch.Size([128, 100])\n",
      "x input shape torch.Size([16, 100])\n",
      "x out shape torch.Size([16, 100])\n",
      "Epoch 8: avg MSE loss = 4.821876\n"
     ]
    },
    {
     "name": "stderr",
     "output_type": "stream",
     "text": [
      "Epoch 9/20:   0%|                                                                                                              | 0/79 [00:00<?, ?it/s]"
     ]
    },
    {
     "name": "stdout",
     "output_type": "stream",
     "text": [
      "x input shape torch.Size([128, 100])\n",
      "x out shape torch.Size([128, 100])\n",
      "x input shape torch.Size([128, 100])\n",
      "x out shape torch.Size([128, 100])\n",
      "x input shape torch.Size([128, 100])\n",
      "x out shape torch.Size([128, 100])\n",
      "x input shape torch.Size([128, 100])\n",
      "x out shape torch.Size([128, 100])\n",
      "x input shape torch.Size([128, 100])\n",
      "x out shape torch.Size([128, 100])\n",
      "x input shape torch.Size([128, 100])\n",
      "x out shape torch.Size([128, 100])\n",
      "x input shape torch.Size([128, 100])\n",
      "x out shape torch.Size([128, 100])\n",
      "x input shape torch.Size([128, 100])\n",
      "x out shape torch.Size([128, 100])\n",
      "x input shape torch.Size([128, 100])\n"
     ]
    },
    {
     "name": "stderr",
     "output_type": "stream",
     "text": [
      "Epoch 9/20:  13%|████████████▊                                                                                        | 10/79 [00:00<00:00, 95.17it/s]"
     ]
    },
    {
     "name": "stdout",
     "output_type": "stream",
     "text": [
      "x out shape torch.Size([128, 100])\n",
      "x input shape torch.Size([128, 100])\n",
      "x out shape torch.Size([128, 100])\n",
      "x input shape torch.Size([128, 100])\n",
      "x out shape torch.Size([128, 100])\n",
      "x input shape torch.Size([128, 100])\n",
      "x out shape torch.Size([128, 100])\n",
      "x input shape torch.Size([128, 100])\n",
      "x out shape torch.Size([128, 100])\n",
      "x input shape torch.Size([128, 100])\n",
      "x out shape torch.Size([128, 100])\n",
      "x input shape torch.Size([128, 100])\n",
      "x out shape torch.Size([128, 100])\n",
      "x input shape torch.Size([128, 100])\n",
      "x out shape torch.Size([128, 100])\n",
      "x input shape torch.Size([128, 100])\n",
      "x out shape torch.Size([128, 100])\n",
      "x input shape torch.Size([128, 100])\n",
      "x out shape torch.Size([128, 100])\n",
      "x input shape torch.Size([128, 100])\n",
      "x out shape torch.Size([128, 100])\n",
      "x input shape torch.Size([128, 100])\n",
      "x out shape torch.Size([128, 100])\n",
      "x input shape torch.Size([128, 100])\n",
      "x out shape torch.Size([128, 100])\n"
     ]
    },
    {
     "name": "stderr",
     "output_type": "stream",
     "text": [
      "Epoch 9/20:  27%|██████████████████████████▊                                                                          | 21/79 [00:00<00:00, 98.05it/s]"
     ]
    },
    {
     "name": "stdout",
     "output_type": "stream",
     "text": [
      "x input shape torch.Size([128, 100])\n",
      "x out shape torch.Size([128, 100])\n",
      "x input shape torch.Size([128, 100])\n",
      "x out shape torch.Size([128, 100])\n",
      "x input shape torch.Size([128, 100])\n",
      "x out shape torch.Size([128, 100])\n",
      "x input shape torch.Size([128, 100])\n",
      "x out shape torch.Size([128, 100])\n",
      "x input shape torch.Size([128, 100])\n",
      "x out shape torch.Size([128, 100])\n",
      "x input shape torch.Size([128, 100])\n",
      "x out shape torch.Size([128, 100])\n",
      "x input shape torch.Size([128, 100])\n",
      "x out shape torch.Size([128, 100])\n",
      "x input shape torch.Size([128, 100])\n",
      "x out shape torch.Size([128, 100])\n",
      "x input shape torch.Size([128, 100])\n",
      "x out shape torch.Size([128, 100])\n",
      "x input shape torch.Size([128, 100])\n",
      "x out shape torch.Size([128, 100])\n"
     ]
    },
    {
     "name": "stderr",
     "output_type": "stream",
     "text": [
      "Epoch 9/20:  39%|███████████████████████████████████████▋                                                             | 31/79 [00:00<00:00, 96.40it/s]"
     ]
    },
    {
     "name": "stdout",
     "output_type": "stream",
     "text": [
      "x input shape torch.Size([128, 100])\n",
      "x out shape torch.Size([128, 100])\n",
      "x input shape torch.Size([128, 100])\n",
      "x out shape torch.Size([128, 100])\n",
      "x input shape torch.Size([128, 100])\n",
      "x out shape torch.Size([128, 100])\n",
      "x input shape torch.Size([128, 100])\n",
      "x out shape torch.Size([128, 100])\n",
      "x input shape torch.Size([128, 100])\n",
      "x out shape torch.Size([128, 100])\n",
      "x input shape torch.Size([128, 100])\n",
      "x out shape torch.Size([128, 100])\n",
      "x input shape torch.Size([128, 100])\n",
      "x out shape torch.Size([128, 100])\n",
      "x input shape torch.Size([128, 100])\n",
      "x out shape torch.Size([128, 100])\n",
      "x input shape torch.Size([128, 100])\n",
      "x out shape torch.Size([128, 100])\n",
      "x input shape torch.Size([128, 100])\n"
     ]
    },
    {
     "name": "stderr",
     "output_type": "stream",
     "text": [
      "Epoch 9/20:  52%|████████████████████████████████████████████████████▍                                                | 41/79 [00:00<00:00, 96.26it/s]"
     ]
    },
    {
     "name": "stdout",
     "output_type": "stream",
     "text": [
      "x out shape torch.Size([128, 100])\n",
      "x input shape torch.Size([128, 100])\n",
      "x out shape torch.Size([128, 100])\n",
      "x input shape torch.Size([128, 100])\n",
      "x out shape torch.Size([128, 100])\n",
      "x input shape torch.Size([128, 100])\n",
      "x out shape torch.Size([128, 100])\n",
      "x input shape torch.Size([128, 100])\n",
      "x out shape torch.Size([128, 100])\n",
      "x input shape torch.Size([128, 100])\n",
      "x out shape torch.Size([128, 100])\n",
      "x input shape torch.Size([128, 100])\n",
      "x out shape torch.Size([128, 100])\n",
      "x input shape torch.Size([128, 100])\n",
      "x out shape torch.Size([128, 100])\n",
      "x input shape torch.Size([128, 100])\n",
      "x out shape torch.Size([128, 100])\n",
      "x input shape torch.Size([128, 100])\n",
      "x out shape torch.Size([128, 100])\n",
      "x input shape torch.Size([128, 100])\n"
     ]
    },
    {
     "name": "stderr",
     "output_type": "stream",
     "text": [
      "Epoch 9/20:  65%|█████████████████████████████████████████████████████████████████▏                                   | 51/79 [00:00<00:00, 96.41it/s]"
     ]
    },
    {
     "name": "stdout",
     "output_type": "stream",
     "text": [
      "x out shape torch.Size([128, 100])\n",
      "x input shape torch.Size([128, 100])\n",
      "x out shape torch.Size([128, 100])\n",
      "x input shape torch.Size([128, 100])\n",
      "x out shape torch.Size([128, 100])\n",
      "x input shape torch.Size([128, 100])\n",
      "x out shape torch.Size([128, 100])\n",
      "x input shape torch.Size([128, 100])\n",
      "x out shape torch.Size([128, 100])\n",
      "x input shape torch.Size([128, 100])\n",
      "x out shape torch.Size([128, 100])\n",
      "x input shape torch.Size([128, 100])\n",
      "x out shape torch.Size([128, 100])\n",
      "x input shape torch.Size([128, 100])\n",
      "x out shape torch.Size([128, 100])\n",
      "x input shape torch.Size([128, 100])\n",
      "x out shape torch.Size([128, 100])\n",
      "x input shape torch.Size([128, 100])\n",
      "x out shape torch.Size([128, 100])\n",
      "x input shape torch.Size([128, 100])\n"
     ]
    },
    {
     "name": "stderr",
     "output_type": "stream",
     "text": [
      "Epoch 9/20:  77%|█████████████████████████████████████████████████████████████████████████████▉                       | 61/79 [00:00<00:00, 96.87it/s]"
     ]
    },
    {
     "name": "stdout",
     "output_type": "stream",
     "text": [
      "x out shape torch.Size([128, 100])\n",
      "x input shape torch.Size([128, 100])\n",
      "x out shape torch.Size([128, 100])\n",
      "x input shape torch.Size([128, 100])\n",
      "x out shape torch.Size([128, 100])\n",
      "x input shape torch.Size([128, 100])\n",
      "x out shape torch.Size([128, 100])\n",
      "x input shape torch.Size([128, 100])\n",
      "x out shape torch.Size([128, 100])\n",
      "x input shape torch.Size([128, 100])\n",
      "x out shape torch.Size([128, 100])\n",
      "x input shape torch.Size([128, 100])\n",
      "x out shape torch.Size([128, 100])\n",
      "x input shape torch.Size([128, 100])\n",
      "x out shape torch.Size([128, 100])\n",
      "x input shape torch.Size([128, 100])\n",
      "x out shape torch.Size([128, 100])\n",
      "x input shape torch.Size([128, 100])\n",
      "x out shape torch.Size([128, 100])\n",
      "x input shape torch.Size([128, 100])\n",
      "x out shape torch.Size([128, 100])\n"
     ]
    },
    {
     "name": "stderr",
     "output_type": "stream",
     "text": [
      "Epoch 9/20:  91%|████████████████████████████████████████████████████████████████████████████████████████████         | 72/79 [00:00<00:00, 99.16it/s]"
     ]
    },
    {
     "name": "stdout",
     "output_type": "stream",
     "text": [
      "x input shape torch.Size([128, 100])\n",
      "x out shape torch.Size([128, 100])\n",
      "x input shape torch.Size([128, 100])\n",
      "x out shape torch.Size([128, 100])\n",
      "x input shape torch.Size([128, 100])\n",
      "x out shape torch.Size([128, 100])\n"
     ]
    },
    {
     "name": "stderr",
     "output_type": "stream",
     "text": [
      "Epoch 9/20: 100%|█████████████████████████████████████████████████████████████████████████████████████████████████████| 79/79 [00:00<00:00, 98.57it/s]\n"
     ]
    },
    {
     "name": "stdout",
     "output_type": "stream",
     "text": [
      "x input shape torch.Size([128, 100])\n",
      "x out shape torch.Size([128, 100])\n",
      "x input shape torch.Size([128, 100])\n",
      "x out shape torch.Size([128, 100])\n",
      "x input shape torch.Size([128, 100])\n",
      "x out shape torch.Size([128, 100])\n",
      "x input shape torch.Size([128, 100])\n",
      "x out shape torch.Size([128, 100])\n",
      "x input shape torch.Size([16, 100])\n",
      "x out shape torch.Size([16, 100])\n",
      "Epoch 9: avg MSE loss = 3.420362\n"
     ]
    },
    {
     "name": "stderr",
     "output_type": "stream",
     "text": [
      "Epoch 10/20:   0%|                                                                                                             | 0/79 [00:00<?, ?it/s]"
     ]
    },
    {
     "name": "stdout",
     "output_type": "stream",
     "text": [
      "x input shape torch.Size([128, 100])\n",
      "x out shape torch.Size([128, 100])\n",
      "x input shape torch.Size([128, 100])\n",
      "x out shape torch.Size([128, 100])\n",
      "x input shape torch.Size([128, 100])\n",
      "x out shape torch.Size([128, 100])\n",
      "x input shape torch.Size([128, 100])\n",
      "x out shape torch.Size([128, 100])\n",
      "x input shape torch.Size([128, 100])\n",
      "x out shape torch.Size([128, 100])\n",
      "x input shape torch.Size([128, 100])\n",
      "x out shape torch.Size([128, 100])\n",
      "x input shape torch.Size([128, 100])\n",
      "x out shape torch.Size([128, 100])\n",
      "x input shape torch.Size([128, 100])\n",
      "x out shape torch.Size([128, 100])\n",
      "x input shape torch.Size([128, 100])\n",
      "x out shape torch.Size([128, 100])\n",
      "x input shape torch.Size([128, 100])\n",
      "x out shape torch.Size([128, 100])\n",
      "x input shape torch.Size([128, 100])\n",
      "x out shape torch.Size([128, 100])\n"
     ]
    },
    {
     "name": "stderr",
     "output_type": "stream",
     "text": [
      "Epoch 10/20:  14%|█████████████▊                                                                                     | 11/79 [00:00<00:00, 103.91it/s]"
     ]
    },
    {
     "name": "stdout",
     "output_type": "stream",
     "text": [
      "x input shape torch.Size([128, 100])\n",
      "x out shape torch.Size([128, 100])\n",
      "x input shape torch.Size([128, 100])\n",
      "x out shape torch.Size([128, 100])\n",
      "x input shape torch.Size([128, 100])\n",
      "x out shape torch.Size([128, 100])\n",
      "x input shape torch.Size([128, 100])\n",
      "x out shape torch.Size([128, 100])\n",
      "x input shape torch.Size([128, 100])\n",
      "x out shape torch.Size([128, 100])\n",
      "x input shape torch.Size([128, 100])\n",
      "x out shape torch.Size([128, 100])\n",
      "x input shape torch.Size([128, 100])\n",
      "x out shape torch.Size([128, 100])\n",
      "x input shape torch.Size([128, 100])\n",
      "x out shape torch.Size([128, 100])\n",
      "x input shape torch.Size([128, 100])\n",
      "x out shape torch.Size([128, 100])\n",
      "x input shape torch.Size([128, 100])\n",
      "x out shape torch.Size([128, 100])\n",
      "x input shape torch.Size([128, 100])\n",
      "x out shape torch.Size([128, 100])\n"
     ]
    },
    {
     "name": "stderr",
     "output_type": "stream",
     "text": [
      "Epoch 10/20:  28%|███████████████████████████▊                                                                        | 22/79 [00:00<00:00, 99.34it/s]"
     ]
    },
    {
     "name": "stdout",
     "output_type": "stream",
     "text": [
      "x input shape torch.Size([128, 100])\n",
      "x out shape torch.Size([128, 100])\n",
      "x input shape torch.Size([128, 100])\n",
      "x out shape torch.Size([128, 100])\n",
      "x input shape torch.Size([128, 100])\n",
      "x out shape torch.Size([128, 100])\n",
      "x input shape torch.Size([128, 100])\n",
      "x out shape torch.Size([128, 100])\n",
      "x input shape torch.Size([128, 100])\n",
      "x out shape torch.Size([128, 100])\n",
      "x input shape torch.Size([128, 100])\n",
      "x out shape torch.Size([128, 100])\n",
      "x input shape torch.Size([128, 100])\n",
      "x out shape torch.Size([128, 100])\n",
      "x input shape torch.Size([128, 100])\n",
      "x out shape torch.Size([128, 100])\n",
      "x input shape torch.Size([128, 100])\n",
      "x out shape torch.Size([128, 100])\n"
     ]
    },
    {
     "name": "stderr",
     "output_type": "stream",
     "text": [
      "Epoch 10/20:  42%|█████████████████████████████████████████▎                                                         | 33/79 [00:00<00:00, 101.28it/s]"
     ]
    },
    {
     "name": "stdout",
     "output_type": "stream",
     "text": [
      "x input shape torch.Size([128, 100])\n",
      "x out shape torch.Size([128, 100])\n",
      "x input shape torch.Size([128, 100])\n",
      "x out shape torch.Size([128, 100])\n",
      "x input shape torch.Size([128, 100])\n",
      "x out shape torch.Size([128, 100])\n",
      "x input shape torch.Size([128, 100])\n",
      "x out shape torch.Size([128, 100])\n",
      "x input shape torch.Size([128, 100])\n",
      "x out shape torch.Size([128, 100])\n",
      "x input shape torch.Size([128, 100])\n",
      "x out shape torch.Size([128, 100])\n",
      "x input shape torch.Size([128, 100])\n",
      "x out shape torch.Size([128, 100])\n",
      "x input shape torch.Size([128, 100])\n",
      "x out shape torch.Size([128, 100])\n",
      "x input shape torch.Size([128, 100])\n",
      "x out shape torch.Size([128, 100])\n",
      "x input shape torch.Size([128, 100])\n",
      "x out shape torch.Size([128, 100])\n",
      "x input shape torch.Size([128, 100])\n",
      "x out shape torch.Size([128, 100])\n",
      "x input shape torch.Size([128, 100])\n",
      "x out shape torch.Size([128, 100])\n"
     ]
    },
    {
     "name": "stderr",
     "output_type": "stream",
     "text": [
      "Epoch 10/20:  56%|███████████████████████████████████████████████████████▏                                           | 44/79 [00:00<00:00, 102.27it/s]"
     ]
    },
    {
     "name": "stdout",
     "output_type": "stream",
     "text": [
      "x input shape torch.Size([128, 100])\n",
      "x out shape torch.Size([128, 100])\n",
      "x input shape torch.Size([128, 100])\n",
      "x out shape torch.Size([128, 100])\n",
      "x input shape torch.Size([128, 100])\n",
      "x out shape torch.Size([128, 100])\n",
      "x input shape torch.Size([128, 100])\n",
      "x out shape torch.Size([128, 100])\n",
      "x input shape torch.Size([128, 100])\n",
      "x out shape torch.Size([128, 100])\n",
      "x input shape torch.Size([128, 100])\n",
      "x out shape torch.Size([128, 100])\n",
      "x input shape torch.Size([128, 100])\n",
      "x out shape torch.Size([128, 100])\n",
      "x input shape torch.Size([128, 100])\n",
      "x out shape torch.Size([128, 100])\n",
      "x input shape torch.Size([128, 100])\n",
      "x out shape torch.Size([128, 100])\n",
      "x input shape torch.Size([128, 100])\n",
      "x out shape torch.Size([128, 100])\n",
      "x input shape torch.Size([128, 100])\n",
      "x out shape torch.Size([128, 100])\n",
      "x input shape torch.Size([128, 100])\n"
     ]
    },
    {
     "name": "stderr",
     "output_type": "stream",
     "text": [
      "Epoch 10/20:  70%|████████████████████████████████████████████████████████████████████▉                              | 55/79 [00:00<00:00, 102.34it/s]"
     ]
    },
    {
     "name": "stdout",
     "output_type": "stream",
     "text": [
      "x out shape torch.Size([128, 100])\n",
      "x input shape torch.Size([128, 100])\n",
      "x out shape torch.Size([128, 100])\n",
      "x input shape torch.Size([128, 100])\n",
      "x out shape torch.Size([128, 100])\n",
      "x input shape torch.Size([128, 100])\n",
      "x out shape torch.Size([128, 100])\n",
      "x input shape torch.Size([128, 100])\n",
      "x out shape torch.Size([128, 100])\n",
      "x input shape torch.Size([128, 100])\n",
      "x out shape torch.Size([128, 100])\n",
      "x input shape torch.Size([128, 100])\n",
      "x out shape torch.Size([128, 100])\n",
      "x input shape torch.Size([128, 100])\n",
      "x out shape torch.Size([128, 100])\n",
      "x input shape torch.Size([128, 100])\n",
      "x out shape torch.Size([128, 100])\n",
      "x input shape torch.Size([128, 100])\n",
      "x out shape torch.Size([128, 100])\n",
      "x input shape torch.Size([128, 100])\n",
      "x out shape torch.Size([128, 100])\n"
     ]
    },
    {
     "name": "stderr",
     "output_type": "stream",
     "text": [
      "Epoch 10/20:  84%|██████████████████████████████████████████████████████████████████████████████████▋                | 66/79 [00:00<00:00, 102.36it/s]"
     ]
    },
    {
     "name": "stdout",
     "output_type": "stream",
     "text": [
      "x input shape torch.Size([128, 100])\n",
      "x out shape torch.Size([128, 100])\n",
      "x input shape torch.Size([128, 100])\n",
      "x out shape torch.Size([128, 100])\n",
      "x input shape torch.Size([128, 100])\n",
      "x out shape torch.Size([128, 100])\n",
      "x input shape torch.Size([128, 100])\n",
      "x out shape torch.Size([128, 100])\n",
      "x input shape torch.Size([128, 100])\n",
      "x out shape torch.Size([128, 100])\n",
      "x input shape torch.Size([128, 100])\n",
      "x out shape torch.Size([128, 100])\n",
      "x input shape torch.Size([128, 100])\n",
      "x out shape torch.Size([128, 100])\n",
      "x input shape torch.Size([128, 100])\n",
      "x out shape torch.Size([128, 100])\n",
      "x input shape torch.Size([128, 100])\n",
      "x out shape torch.Size([128, 100])\n",
      "x input shape torch.Size([128, 100])\n",
      "x out shape torch.Size([128, 100])\n",
      "x input shape torch.Size([128, 100])\n"
     ]
    },
    {
     "name": "stderr",
     "output_type": "stream",
     "text": [
      "Epoch 10/20:  97%|████████████████████████████████████████████████████████████████████████████████████████████████▍  | 77/79 [00:00<00:00, 102.43it/s]"
     ]
    },
    {
     "name": "stdout",
     "output_type": "stream",
     "text": [
      "x out shape torch.Size([128, 100])\n",
      "x input shape torch.Size([128, 100])\n",
      "x out shape torch.Size([128, 100])\n",
      "x input shape torch.Size([128, 100])\n",
      "x out shape torch.Size([128, 100])\n",
      "x input shape torch.Size([16, 100])\n"
     ]
    },
    {
     "name": "stderr",
     "output_type": "stream",
     "text": [
      "Epoch 10/20: 100%|███████████████████████████████████████████████████████████████████████████████████████████████████| 79/79 [00:00<00:00, 102.19it/s]\n"
     ]
    },
    {
     "name": "stdout",
     "output_type": "stream",
     "text": [
      "x out shape torch.Size([16, 100])\n",
      "Epoch 10: avg MSE loss = 2.491114\n"
     ]
    },
    {
     "name": "stderr",
     "output_type": "stream",
     "text": [
      "Epoch 11/20:   0%|                                                                                                             | 0/79 [00:00<?, ?it/s]"
     ]
    },
    {
     "name": "stdout",
     "output_type": "stream",
     "text": [
      "x input shape torch.Size([128, 100])\n",
      "x out shape torch.Size([128, 100])\n",
      "x input shape torch.Size([128, 100])\n",
      "x out shape torch.Size([128, 100])\n",
      "x input shape torch.Size([128, 100])\n",
      "x out shape torch.Size([128, 100])\n",
      "x input shape torch.Size([128, 100])\n",
      "x out shape torch.Size([128, 100])\n",
      "x input shape torch.Size([128, 100])\n",
      "x out shape torch.Size([128, 100])\n",
      "x input shape torch.Size([128, 100])\n",
      "x out shape torch.Size([128, 100])\n",
      "x input shape torch.Size([128, 100])\n",
      "x out shape torch.Size([128, 100])\n",
      "x input shape torch.Size([128, 100])\n",
      "x out shape torch.Size([128, 100])\n",
      "x input shape torch.Size([128, 100])\n",
      "x out shape torch.Size([128, 100])\n",
      "x input shape torch.Size([128, 100])\n",
      "x out shape torch.Size([128, 100])\n"
     ]
    },
    {
     "name": "stderr",
     "output_type": "stream",
     "text": [
      "Epoch 11/20:  14%|█████████████▊                                                                                     | 11/79 [00:00<00:00, 103.97it/s]"
     ]
    },
    {
     "name": "stdout",
     "output_type": "stream",
     "text": [
      "x input shape torch.Size([128, 100])\n",
      "x out shape torch.Size([128, 100])\n",
      "x input shape torch.Size([128, 100])\n",
      "x out shape torch.Size([128, 100])\n",
      "x input shape torch.Size([128, 100])\n",
      "x out shape torch.Size([128, 100])\n",
      "x input shape torch.Size([128, 100])\n",
      "x out shape torch.Size([128, 100])\n",
      "x input shape torch.Size([128, 100])\n",
      "x out shape torch.Size([128, 100])\n",
      "x input shape torch.Size([128, 100])\n",
      "x out shape torch.Size([128, 100])\n",
      "x input shape torch.Size([128, 100])\n",
      "x out shape torch.Size([128, 100])\n",
      "x input shape torch.Size([128, 100])\n",
      "x out shape torch.Size([128, 100])\n",
      "x input shape torch.Size([128, 100])\n",
      "x out shape torch.Size([128, 100])\n",
      "x input shape torch.Size([128, 100])\n",
      "x out shape torch.Size([128, 100])\n",
      "x input shape torch.Size([128, 100])\n",
      "x out shape torch.Size([128, 100])\n"
     ]
    },
    {
     "name": "stderr",
     "output_type": "stream",
     "text": [
      "Epoch 11/20:  28%|███████████████████████████▌                                                                       | 22/79 [00:00<00:00, 104.14it/s]"
     ]
    },
    {
     "name": "stdout",
     "output_type": "stream",
     "text": [
      "x input shape torch.Size([128, 100])\n",
      "x out shape torch.Size([128, 100])\n",
      "x input shape torch.Size([128, 100])\n",
      "x out shape torch.Size([128, 100])\n",
      "x input shape torch.Size([128, 100])\n",
      "x out shape torch.Size([128, 100])\n",
      "x input shape torch.Size([128, 100])\n",
      "x out shape torch.Size([128, 100])\n",
      "x input shape torch.Size([128, 100])\n",
      "x out shape torch.Size([128, 100])\n",
      "x input shape torch.Size([128, 100])\n",
      "x out shape torch.Size([128, 100])\n",
      "x input shape torch.Size([128, 100])\n",
      "x out shape torch.Size([128, 100])\n",
      "x input shape torch.Size([128, 100])\n",
      "x out shape torch.Size([128, 100])\n",
      "x input shape torch.Size([128, 100])\n",
      "x out shape torch.Size([128, 100])\n",
      "x input shape torch.Size([128, 100])\n",
      "x out shape torch.Size([128, 100])\n",
      "x input shape torch.Size([128, 100])\n",
      "x out shape torch.Size([128, 100])\n",
      "x input shape torch.Size([128, 100])\n",
      "x out shape torch.Size([128, 100])\n"
     ]
    },
    {
     "name": "stderr",
     "output_type": "stream",
     "text": [
      "Epoch 11/20:  42%|█████████████████████████████████████████▎                                                         | 33/79 [00:00<00:00, 104.63it/s]"
     ]
    },
    {
     "name": "stdout",
     "output_type": "stream",
     "text": [
      "x input shape torch.Size([128, 100])\n",
      "x out shape torch.Size([128, 100])\n",
      "x input shape torch.Size([128, 100])\n",
      "x out shape torch.Size([128, 100])\n",
      "x input shape torch.Size([128, 100])\n",
      "x out shape torch.Size([128, 100])\n",
      "x input shape torch.Size([128, 100])\n",
      "x out shape torch.Size([128, 100])\n",
      "x input shape torch.Size([128, 100])\n",
      "x out shape torch.Size([128, 100])\n",
      "x input shape torch.Size([128, 100])\n",
      "x out shape torch.Size([128, 100])\n",
      "x input shape torch.Size([128, 100])\n",
      "x out shape torch.Size([128, 100])\n",
      "x input shape torch.Size([128, 100])\n",
      "x out shape torch.Size([128, 100])\n",
      "x input shape torch.Size([128, 100])\n",
      "x out shape torch.Size([128, 100])\n",
      "x input shape torch.Size([128, 100])\n"
     ]
    },
    {
     "name": "stderr",
     "output_type": "stream",
     "text": [
      "Epoch 11/20:  56%|███████████████████████████████████████████████████████▏                                           | 44/79 [00:00<00:00, 104.99it/s]"
     ]
    },
    {
     "name": "stdout",
     "output_type": "stream",
     "text": [
      "x out shape torch.Size([128, 100])\n",
      "x input shape torch.Size([128, 100])\n",
      "x out shape torch.Size([128, 100])\n",
      "x input shape torch.Size([128, 100])\n",
      "x out shape torch.Size([128, 100])\n",
      "x input shape torch.Size([128, 100])\n",
      "x out shape torch.Size([128, 100])\n",
      "x input shape torch.Size([128, 100])\n",
      "x out shape torch.Size([128, 100])\n",
      "x input shape torch.Size([128, 100])\n",
      "x out shape torch.Size([128, 100])\n",
      "x input shape torch.Size([128, 100])\n",
      "x out shape torch.Size([128, 100])\n",
      "x input shape torch.Size([128, 100])\n",
      "x out shape torch.Size([128, 100])\n",
      "x input shape torch.Size([128, 100])\n",
      "x out shape torch.Size([128, 100])\n",
      "x input shape torch.Size([128, 100])\n",
      "x out shape torch.Size([128, 100])\n",
      "x input shape torch.Size([128, 100])\n",
      "x out shape torch.Size([128, 100])\n",
      "x input shape torch.Size([128, 100])\n",
      "x out shape torch.Size([128, 100])\n",
      "x input shape torch.Size([128, 100])\n"
     ]
    },
    {
     "name": "stderr",
     "output_type": "stream",
     "text": [
      "Epoch 11/20:  70%|████████████████████████████████████████████████████████████████████▉                              | 55/79 [00:00<00:00, 105.08it/s]"
     ]
    },
    {
     "name": "stdout",
     "output_type": "stream",
     "text": [
      "x out shape torch.Size([128, 100])\n",
      "x input shape torch.Size([128, 100])\n",
      "x out shape torch.Size([128, 100])\n",
      "x input shape torch.Size([128, 100])\n",
      "x out shape torch.Size([128, 100])\n",
      "x input shape torch.Size([128, 100])\n",
      "x out shape torch.Size([128, 100])\n",
      "x input shape torch.Size([128, 100])\n",
      "x out shape torch.Size([128, 100])\n",
      "x input shape torch.Size([128, 100])\n",
      "x out shape torch.Size([128, 100])\n",
      "x input shape torch.Size([128, 100])\n",
      "x out shape torch.Size([128, 100])\n",
      "x input shape torch.Size([128, 100])\n",
      "x out shape torch.Size([128, 100])\n",
      "x input shape torch.Size([128, 100])\n",
      "x out shape torch.Size([128, 100])\n",
      "x input shape torch.Size([128, 100])\n",
      "x out shape torch.Size([128, 100])\n"
     ]
    },
    {
     "name": "stderr",
     "output_type": "stream",
     "text": [
      "Epoch 11/20:  84%|██████████████████████████████████████████████████████████████████████████████████▋                | 66/79 [00:00<00:00, 105.30it/s]"
     ]
    },
    {
     "name": "stdout",
     "output_type": "stream",
     "text": [
      "x input shape torch.Size([128, 100])\n",
      "x out shape torch.Size([128, 100])\n",
      "x input shape torch.Size([128, 100])\n",
      "x out shape torch.Size([128, 100])\n",
      "x input shape torch.Size([128, 100])\n",
      "x out shape torch.Size([128, 100])\n",
      "x input shape torch.Size([128, 100])\n",
      "x out shape torch.Size([128, 100])\n",
      "x input shape torch.Size([128, 100])\n",
      "x out shape torch.Size([128, 100])\n",
      "x input shape torch.Size([128, 100])\n",
      "x out shape torch.Size([128, 100])\n",
      "x input shape torch.Size([128, 100])\n",
      "x out shape torch.Size([128, 100])\n",
      "x input shape torch.Size([128, 100])\n",
      "x out shape torch.Size([128, 100])\n",
      "x input shape torch.Size([128, 100])\n",
      "x out shape torch.Size([128, 100])\n",
      "x input shape torch.Size([128, 100])\n",
      "x out shape torch.Size([128, 100])\n",
      "x input shape torch.Size([128, 100])\n",
      "x out shape torch.Size([128, 100])\n",
      "x input shape torch.Size([128, 100])\n",
      "x out shape torch.Size([128, 100])\n"
     ]
    },
    {
     "name": "stderr",
     "output_type": "stream",
     "text": [
      "Epoch 11/20:  97%|████████████████████████████████████████████████████████████████████████████████████████████████▍  | 77/79 [00:00<00:00, 104.96it/s]"
     ]
    },
    {
     "name": "stdout",
     "output_type": "stream",
     "text": [
      "x input shape torch.Size([128, 100])\n",
      "x out shape torch.Size([128, 100])\n",
      "x input shape torch.Size([128, 100])\n",
      "x out shape torch.Size([128, 100])\n",
      "x input shape torch.Size([16, 100])\n",
      "x out shape torch.Size([16, 100])\n"
     ]
    },
    {
     "name": "stderr",
     "output_type": "stream",
     "text": [
      "Epoch 11/20: 100%|███████████████████████████████████████████████████████████████████████████████████████████████████| 79/79 [00:00<00:00, 105.03it/s]\n"
     ]
    },
    {
     "name": "stdout",
     "output_type": "stream",
     "text": [
      "Epoch 11: avg MSE loss = 1.860358\n"
     ]
    },
    {
     "name": "stderr",
     "output_type": "stream",
     "text": [
      "Epoch 12/20:   0%|                                                                                                             | 0/79 [00:00<?, ?it/s]"
     ]
    },
    {
     "name": "stdout",
     "output_type": "stream",
     "text": [
      "x input shape torch.Size([128, 100])\n",
      "x out shape torch.Size([128, 100])\n",
      "x input shape torch.Size([128, 100])\n",
      "x out shape torch.Size([128, 100])\n",
      "x input shape torch.Size([128, 100])\n",
      "x out shape torch.Size([128, 100])\n",
      "x input shape torch.Size([128, 100])\n",
      "x out shape torch.Size([128, 100])\n",
      "x input shape torch.Size([128, 100])\n",
      "x out shape torch.Size([128, 100])\n",
      "x input shape torch.Size([128, 100])\n",
      "x out shape torch.Size([128, 100])\n",
      "x input shape torch.Size([128, 100])\n",
      "x out shape torch.Size([128, 100])\n",
      "x input shape torch.Size([128, 100])\n",
      "x out shape torch.Size([128, 100])\n",
      "x input shape torch.Size([128, 100])\n",
      "x out shape torch.Size([128, 100])\n",
      "x input shape torch.Size([128, 100])\n",
      "x out shape torch.Size([128, 100])\n",
      "x input shape torch.Size([128, 100])\n",
      "x out shape torch.Size([128, 100])\n"
     ]
    },
    {
     "name": "stderr",
     "output_type": "stream",
     "text": [
      "Epoch 12/20:  14%|█████████████▊                                                                                     | 11/79 [00:00<00:00, 103.63it/s]"
     ]
    },
    {
     "name": "stdout",
     "output_type": "stream",
     "text": [
      "x input shape torch.Size([128, 100])\n",
      "x out shape torch.Size([128, 100])\n",
      "x input shape torch.Size([128, 100])\n",
      "x out shape torch.Size([128, 100])\n",
      "x input shape torch.Size([128, 100])\n",
      "x out shape torch.Size([128, 100])\n",
      "x input shape torch.Size([128, 100])\n",
      "x out shape torch.Size([128, 100])\n",
      "x input shape torch.Size([128, 100])\n",
      "x out shape torch.Size([128, 100])\n",
      "x input shape torch.Size([128, 100])\n",
      "x out shape torch.Size([128, 100])\n",
      "x input shape torch.Size([128, 100])\n",
      "x out shape torch.Size([128, 100])\n",
      "x input shape torch.Size([128, 100])\n",
      "x out shape torch.Size([128, 100])\n",
      "x input shape torch.Size([128, 100])\n",
      "x out shape torch.Size([128, 100])\n",
      "x input shape torch.Size([128, 100])\n",
      "x out shape torch.Size([128, 100])\n"
     ]
    },
    {
     "name": "stderr",
     "output_type": "stream",
     "text": [
      "Epoch 12/20:  28%|███████████████████████████▌                                                                       | 22/79 [00:00<00:00, 104.02it/s]"
     ]
    },
    {
     "name": "stdout",
     "output_type": "stream",
     "text": [
      "x input shape torch.Size([128, 100])\n",
      "x out shape torch.Size([128, 100])\n",
      "x input shape torch.Size([128, 100])\n",
      "x out shape torch.Size([128, 100])\n",
      "x input shape torch.Size([128, 100])\n",
      "x out shape torch.Size([128, 100])\n",
      "x input shape torch.Size([128, 100])\n",
      "x out shape torch.Size([128, 100])\n",
      "x input shape torch.Size([128, 100])\n",
      "x out shape torch.Size([128, 100])\n",
      "x input shape torch.Size([128, 100])\n",
      "x out shape torch.Size([128, 100])\n",
      "x input shape torch.Size([128, 100])\n",
      "x out shape torch.Size([128, 100])\n",
      "x input shape torch.Size([128, 100])\n",
      "x out shape torch.Size([128, 100])\n",
      "x input shape torch.Size([128, 100])\n",
      "x out shape torch.Size([128, 100])\n",
      "x input shape torch.Size([128, 100])\n",
      "x out shape torch.Size([128, 100])\n",
      "x input shape torch.Size([128, 100])\n",
      "x out shape torch.Size([128, 100])\n",
      "x input shape torch.Size([128, 100])\n"
     ]
    },
    {
     "name": "stderr",
     "output_type": "stream",
     "text": [
      "Epoch 12/20:  42%|█████████████████████████████████████████▎                                                         | 33/79 [00:00<00:00, 104.95it/s]"
     ]
    },
    {
     "name": "stdout",
     "output_type": "stream",
     "text": [
      "x out shape torch.Size([128, 100])\n",
      "x input shape torch.Size([128, 100])\n",
      "x out shape torch.Size([128, 100])\n",
      "x input shape torch.Size([128, 100])\n",
      "x out shape torch.Size([128, 100])\n",
      "x input shape torch.Size([128, 100])\n",
      "x out shape torch.Size([128, 100])\n",
      "x input shape torch.Size([128, 100])\n",
      "x out shape torch.Size([128, 100])\n",
      "x input shape torch.Size([128, 100])\n",
      "x out shape torch.Size([128, 100])\n",
      "x input shape torch.Size([128, 100])\n",
      "x out shape torch.Size([128, 100])\n",
      "x input shape torch.Size([128, 100])\n",
      "x out shape torch.Size([128, 100])\n",
      "x input shape torch.Size([128, 100])\n",
      "x out shape torch.Size([128, 100])\n",
      "x input shape torch.Size([128, 100])\n",
      "x out shape torch.Size([128, 100])\n",
      "x input shape torch.Size([128, 100])\n"
     ]
    },
    {
     "name": "stderr",
     "output_type": "stream",
     "text": [
      "Epoch 12/20:  56%|███████████████████████████████████████████████████████▏                                           | 44/79 [00:00<00:00, 105.13it/s]"
     ]
    },
    {
     "name": "stdout",
     "output_type": "stream",
     "text": [
      "x out shape torch.Size([128, 100])\n",
      "x input shape torch.Size([128, 100])\n",
      "x out shape torch.Size([128, 100])\n",
      "x input shape torch.Size([128, 100])\n",
      "x out shape torch.Size([128, 100])\n",
      "x input shape torch.Size([128, 100])\n",
      "x out shape torch.Size([128, 100])\n",
      "x input shape torch.Size([128, 100])\n",
      "x out shape torch.Size([128, 100])\n",
      "x input shape torch.Size([128, 100])\n",
      "x out shape torch.Size([128, 100])\n",
      "x input shape torch.Size([128, 100])\n",
      "x out shape torch.Size([128, 100])\n",
      "x input shape torch.Size([128, 100])\n",
      "x out shape torch.Size([128, 100])\n",
      "x input shape torch.Size([128, 100])\n",
      "x out shape torch.Size([128, 100])\n",
      "x input shape torch.Size([128, 100])\n",
      "x out shape torch.Size([128, 100])\n",
      "x input shape torch.Size([128, 100])\n",
      "x out shape torch.Size([128, 100])\n",
      "x input shape torch.Size([128, 100])\n",
      "x out shape torch.Size([128, 100])\n"
     ]
    },
    {
     "name": "stderr",
     "output_type": "stream",
     "text": [
      "Epoch 12/20:  70%|████████████████████████████████████████████████████████████████████▉                              | 55/79 [00:00<00:00, 105.45it/s]"
     ]
    },
    {
     "name": "stdout",
     "output_type": "stream",
     "text": [
      "x input shape torch.Size([128, 100])\n",
      "x out shape torch.Size([128, 100])\n",
      "x input shape torch.Size([128, 100])\n",
      "x out shape torch.Size([128, 100])\n",
      "x input shape torch.Size([128, 100])\n",
      "x out shape torch.Size([128, 100])\n",
      "x input shape torch.Size([128, 100])\n",
      "x out shape torch.Size([128, 100])\n",
      "x input shape torch.Size([128, 100])\n",
      "x out shape torch.Size([128, 100])\n",
      "x input shape torch.Size([128, 100])\n",
      "x out shape torch.Size([128, 100])\n",
      "x input shape torch.Size([128, 100])\n",
      "x out shape torch.Size([128, 100])\n",
      "x input shape torch.Size([128, 100])\n",
      "x out shape torch.Size([128, 100])\n",
      "x input shape torch.Size([128, 100])\n",
      "x out shape torch.Size([128, 100])\n",
      "x input shape torch.Size([128, 100])\n",
      "x out shape torch.Size([128, 100])\n"
     ]
    },
    {
     "name": "stderr",
     "output_type": "stream",
     "text": [
      "Epoch 12/20:  84%|██████████████████████████████████████████████████████████████████████████████████▋                | 66/79 [00:00<00:00, 105.53it/s]"
     ]
    },
    {
     "name": "stdout",
     "output_type": "stream",
     "text": [
      "x input shape torch.Size([128, 100])\n",
      "x out shape torch.Size([128, 100])\n",
      "x input shape torch.Size([128, 100])\n",
      "x out shape torch.Size([128, 100])\n",
      "x input shape torch.Size([128, 100])\n",
      "x out shape torch.Size([128, 100])\n",
      "x input shape torch.Size([128, 100])\n",
      "x out shape torch.Size([128, 100])\n",
      "x input shape torch.Size([128, 100])\n",
      "x out shape torch.Size([128, 100])\n",
      "x input shape torch.Size([128, 100])\n",
      "x out shape torch.Size([128, 100])\n",
      "x input shape torch.Size([128, 100])\n",
      "x out shape torch.Size([128, 100])\n",
      "x input shape torch.Size([128, 100])\n",
      "x out shape torch.Size([128, 100])\n",
      "x input shape torch.Size([128, 100])\n",
      "x out shape torch.Size([128, 100])\n",
      "x input shape torch.Size([128, 100])\n",
      "x out shape torch.Size([128, 100])\n",
      "x input shape torch.Size([128, 100])\n",
      "x out shape torch.Size([128, 100])\n",
      "x input shape torch.Size([128, 100])\n",
      "x out shape torch.Size([128, 100])\n",
      "x input shape torch.Size([128, 100])\n",
      "x out shape torch.Size([128, 100])\n"
     ]
    },
    {
     "name": "stderr",
     "output_type": "stream",
     "text": [
      "Epoch 12/20:  97%|████████████████████████████████████████████████████████████████████████████████████████████████▍  | 77/79 [00:00<00:00, 105.52it/s]"
     ]
    },
    {
     "name": "stdout",
     "output_type": "stream",
     "text": [
      "x input shape torch.Size([128, 100])\n",
      "x out shape torch.Size([128, 100])\n"
     ]
    },
    {
     "name": "stderr",
     "output_type": "stream",
     "text": [
      "Epoch 12/20: 100%|███████████████████████████████████████████████████████████████████████████████████████████████████| 79/79 [00:00<00:00, 105.29it/s]\n"
     ]
    },
    {
     "name": "stdout",
     "output_type": "stream",
     "text": [
      "x input shape torch.Size([16, 100])\n",
      "x out shape torch.Size([16, 100])\n",
      "Epoch 12: avg MSE loss = 1.423939\n"
     ]
    },
    {
     "name": "stderr",
     "output_type": "stream",
     "text": [
      "Epoch 13/20:   0%|                                                                                                             | 0/79 [00:00<?, ?it/s]"
     ]
    },
    {
     "name": "stdout",
     "output_type": "stream",
     "text": [
      "x input shape torch.Size([128, 100])\n",
      "x out shape torch.Size([128, 100])\n",
      "x input shape torch.Size([128, 100])\n",
      "x out shape torch.Size([128, 100])\n",
      "x input shape torch.Size([128, 100])\n",
      "x out shape torch.Size([128, 100])\n",
      "x input shape torch.Size([128, 100])\n",
      "x out shape torch.Size([128, 100])\n",
      "x input shape torch.Size([128, 100])\n",
      "x out shape torch.Size([128, 100])\n",
      "x input shape torch.Size([128, 100])\n",
      "x out shape torch.Size([128, 100])\n",
      "x input shape torch.Size([128, 100])\n",
      "x out shape torch.Size([128, 100])\n",
      "x input shape torch.Size([128, 100])\n",
      "x out shape torch.Size([128, 100])\n",
      "x input shape torch.Size([128, 100])\n",
      "x out shape torch.Size([128, 100])\n",
      "x input shape torch.Size([128, 100])\n"
     ]
    },
    {
     "name": "stderr",
     "output_type": "stream",
     "text": [
      "Epoch 13/20:  14%|█████████████▊                                                                                     | 11/79 [00:00<00:00, 102.55it/s]"
     ]
    },
    {
     "name": "stdout",
     "output_type": "stream",
     "text": [
      "x out shape torch.Size([128, 100])\n",
      "x input shape torch.Size([128, 100])\n",
      "x out shape torch.Size([128, 100])\n",
      "x input shape torch.Size([128, 100])\n",
      "x out shape torch.Size([128, 100])\n",
      "x input shape torch.Size([128, 100])\n",
      "x out shape torch.Size([128, 100])\n",
      "x input shape torch.Size([128, 100])\n",
      "x out shape torch.Size([128, 100])\n",
      "x input shape torch.Size([128, 100])\n",
      "x out shape torch.Size([128, 100])\n",
      "x input shape torch.Size([128, 100])\n",
      "x out shape torch.Size([128, 100])\n",
      "x input shape torch.Size([128, 100])\n",
      "x out shape torch.Size([128, 100])\n",
      "x input shape torch.Size([128, 100])\n",
      "x out shape torch.Size([128, 100])\n",
      "x input shape torch.Size([128, 100])\n",
      "x out shape torch.Size([128, 100])\n",
      "x input shape torch.Size([128, 100])\n",
      "x out shape torch.Size([128, 100])\n",
      "x input shape torch.Size([128, 100])\n"
     ]
    },
    {
     "name": "stderr",
     "output_type": "stream",
     "text": [
      "Epoch 13/20:  28%|███████████████████████████▌                                                                       | 22/79 [00:00<00:00, 101.63it/s]"
     ]
    },
    {
     "name": "stdout",
     "output_type": "stream",
     "text": [
      "x out shape torch.Size([128, 100])\n",
      "x input shape torch.Size([128, 100])\n",
      "x out shape torch.Size([128, 100])\n",
      "x input shape torch.Size([128, 100])\n",
      "x out shape torch.Size([128, 100])\n",
      "x input shape torch.Size([128, 100])\n",
      "x out shape torch.Size([128, 100])\n",
      "x input shape torch.Size([128, 100])\n",
      "x out shape torch.Size([128, 100])\n",
      "x input shape torch.Size([128, 100])\n",
      "x out shape torch.Size([128, 100])\n",
      "x input shape torch.Size([128, 100])\n",
      "x out shape torch.Size([128, 100])\n",
      "x input shape torch.Size([128, 100])\n",
      "x out shape torch.Size([128, 100])\n",
      "x input shape torch.Size([128, 100])\n",
      "x out shape torch.Size([128, 100])\n",
      "x input shape torch.Size([128, 100])\n",
      "x out shape torch.Size([128, 100])\n",
      "x input shape torch.Size([128, 100])\n",
      "x out shape torch.Size([128, 100])\n",
      "x input shape torch.Size([128, 100])\n",
      "x out shape torch.Size([128, 100])\n",
      "x input shape torch.Size([128, 100])\n",
      "x out shape torch.Size([128, 100])\n"
     ]
    },
    {
     "name": "stderr",
     "output_type": "stream",
     "text": [
      "Epoch 13/20:  42%|█████████████████████████████████████████▎                                                         | 33/79 [00:00<00:00, 101.88it/s]"
     ]
    },
    {
     "name": "stdout",
     "output_type": "stream",
     "text": [
      "x input shape torch.Size([128, 100])\n",
      "x out shape torch.Size([128, 100])\n",
      "x input shape torch.Size([128, 100])\n",
      "x out shape torch.Size([128, 100])\n",
      "x input shape torch.Size([128, 100])\n",
      "x out shape torch.Size([128, 100])\n",
      "x input shape torch.Size([128, 100])\n",
      "x out shape torch.Size([128, 100])\n",
      "x input shape torch.Size([128, 100])\n",
      "x out shape torch.Size([128, 100])\n",
      "x input shape torch.Size([128, 100])\n",
      "x out shape torch.Size([128, 100])\n",
      "x input shape torch.Size([128, 100])\n",
      "x out shape torch.Size([128, 100])\n",
      "x input shape torch.Size([128, 100])\n",
      "x out shape torch.Size([128, 100])\n",
      "x input shape torch.Size([128, 100])\n",
      "x out shape torch.Size([128, 100])\n",
      "x input shape torch.Size([128, 100])\n",
      "x out shape torch.Size([128, 100])\n",
      "x input shape torch.Size([128, 100])\n"
     ]
    },
    {
     "name": "stderr",
     "output_type": "stream",
     "text": [
      "Epoch 13/20:  56%|███████████████████████████████████████████████████████▏                                           | 44/79 [00:00<00:00, 103.10it/s]"
     ]
    },
    {
     "name": "stdout",
     "output_type": "stream",
     "text": [
      "x out shape torch.Size([128, 100])\n",
      "x input shape torch.Size([128, 100])\n",
      "x out shape torch.Size([128, 100])\n",
      "x input shape torch.Size([128, 100])\n",
      "x out shape torch.Size([128, 100])\n",
      "x input shape torch.Size([128, 100])\n",
      "x out shape torch.Size([128, 100])\n",
      "x input shape torch.Size([128, 100])\n",
      "x out shape torch.Size([128, 100])\n",
      "x input shape torch.Size([128, 100])\n",
      "x out shape torch.Size([128, 100])\n",
      "x input shape torch.Size([128, 100])\n",
      "x out shape torch.Size([128, 100])\n",
      "x input shape torch.Size([128, 100])\n",
      "x out shape torch.Size([128, 100])\n",
      "x input shape torch.Size([128, 100])\n",
      "x out shape torch.Size([128, 100])\n",
      "x input shape torch.Size([128, 100])\n",
      "x out shape torch.Size([128, 100])\n",
      "x input shape torch.Size([128, 100])\n",
      "x out shape torch.Size([128, 100])\n",
      "x input shape torch.Size([128, 100])\n"
     ]
    },
    {
     "name": "stderr",
     "output_type": "stream",
     "text": [
      "Epoch 13/20:  70%|████████████████████████████████████████████████████████████████████▉                              | 55/79 [00:00<00:00, 103.92it/s]"
     ]
    },
    {
     "name": "stdout",
     "output_type": "stream",
     "text": [
      "x out shape torch.Size([128, 100])\n",
      "x input shape torch.Size([128, 100])\n",
      "x out shape torch.Size([128, 100])\n",
      "x input shape torch.Size([128, 100])\n",
      "x out shape torch.Size([128, 100])\n",
      "x input shape torch.Size([128, 100])\n",
      "x out shape torch.Size([128, 100])\n",
      "x input shape torch.Size([128, 100])\n",
      "x out shape torch.Size([128, 100])\n",
      "x input shape torch.Size([128, 100])\n",
      "x out shape torch.Size([128, 100])\n",
      "x input shape torch.Size([128, 100])\n",
      "x out shape torch.Size([128, 100])\n",
      "x input shape torch.Size([128, 100])\n",
      "x out shape torch.Size([128, 100])\n",
      "x input shape torch.Size([128, 100])\n",
      "x out shape torch.Size([128, 100])\n",
      "x input shape torch.Size([128, 100])\n",
      "x out shape torch.Size([128, 100])\n",
      "x input shape torch.Size([128, 100])\n",
      "x out shape torch.Size([128, 100])\n"
     ]
    },
    {
     "name": "stderr",
     "output_type": "stream",
     "text": [
      "Epoch 13/20:  84%|██████████████████████████████████████████████████████████████████████████████████▋                | 66/79 [00:00<00:00, 104.42it/s]"
     ]
    },
    {
     "name": "stdout",
     "output_type": "stream",
     "text": [
      "x input shape torch.Size([128, 100])\n",
      "x out shape torch.Size([128, 100])\n",
      "x input shape torch.Size([128, 100])\n",
      "x out shape torch.Size([128, 100])\n",
      "x input shape torch.Size([128, 100])\n",
      "x out shape torch.Size([128, 100])\n",
      "x input shape torch.Size([128, 100])\n",
      "x out shape torch.Size([128, 100])\n",
      "x input shape torch.Size([128, 100])\n",
      "x out shape torch.Size([128, 100])\n",
      "x input shape torch.Size([128, 100])\n",
      "x out shape torch.Size([128, 100])\n",
      "x input shape torch.Size([128, 100])\n",
      "x out shape torch.Size([128, 100])\n",
      "x input shape torch.Size([128, 100])\n",
      "x out shape torch.Size([128, 100])\n",
      "x input shape torch.Size([128, 100])\n",
      "x out shape torch.Size([128, 100])\n",
      "x input shape torch.Size([128, 100])\n",
      "x out shape torch.Size([128, 100])\n",
      "x input shape torch.Size([128, 100])\n"
     ]
    },
    {
     "name": "stderr",
     "output_type": "stream",
     "text": [
      "Epoch 13/20: 100%|███████████████████████████████████████████████████████████████████████████████████████████████████| 79/79 [00:00<00:00, 103.21it/s]\n"
     ]
    },
    {
     "name": "stdout",
     "output_type": "stream",
     "text": [
      "x out shape torch.Size([128, 100])\n",
      "x input shape torch.Size([128, 100])\n",
      "x out shape torch.Size([128, 100])\n",
      "x input shape torch.Size([128, 100])\n",
      "x out shape torch.Size([128, 100])\n",
      "x input shape torch.Size([16, 100])\n",
      "x out shape torch.Size([16, 100])\n",
      "Epoch 13: avg MSE loss = 1.114994\n"
     ]
    },
    {
     "name": "stderr",
     "output_type": "stream",
     "text": [
      "Epoch 14/20:   0%|                                                                                                             | 0/79 [00:00<?, ?it/s]"
     ]
    },
    {
     "name": "stdout",
     "output_type": "stream",
     "text": [
      "x input shape torch.Size([128, 100])\n",
      "x out shape torch.Size([128, 100])\n",
      "x input shape torch.Size([128, 100])\n",
      "x out shape torch.Size([128, 100])\n",
      "x input shape torch.Size([128, 100])\n",
      "x out shape torch.Size([128, 100])\n",
      "x input shape torch.Size([128, 100])\n",
      "x out shape torch.Size([128, 100])\n",
      "x input shape torch.Size([128, 100])\n",
      "x out shape torch.Size([128, 100])\n",
      "x input shape torch.Size([128, 100])\n",
      "x out shape torch.Size([128, 100])\n",
      "x input shape torch.Size([128, 100])\n",
      "x out shape torch.Size([128, 100])\n",
      "x input shape torch.Size([128, 100])\n",
      "x out shape torch.Size([128, 100])\n",
      "x input shape torch.Size([128, 100])\n"
     ]
    },
    {
     "name": "stderr",
     "output_type": "stream",
     "text": [
      "Epoch 14/20:  13%|████████████▋                                                                                       | 10/79 [00:00<00:00, 98.64it/s]"
     ]
    },
    {
     "name": "stdout",
     "output_type": "stream",
     "text": [
      "x out shape torch.Size([128, 100])\n",
      "x input shape torch.Size([128, 100])\n",
      "x out shape torch.Size([128, 100])\n",
      "x input shape torch.Size([128, 100])\n",
      "x out shape torch.Size([128, 100])\n",
      "x input shape torch.Size([128, 100])\n",
      "x out shape torch.Size([128, 100])\n",
      "x input shape torch.Size([128, 100])\n",
      "x out shape torch.Size([128, 100])\n",
      "x input shape torch.Size([128, 100])\n",
      "x out shape torch.Size([128, 100])\n",
      "x input shape torch.Size([128, 100])\n",
      "x out shape torch.Size([128, 100])\n",
      "x input shape torch.Size([128, 100])\n",
      "x out shape torch.Size([128, 100])\n",
      "x input shape torch.Size([128, 100])\n",
      "x out shape torch.Size([128, 100])\n",
      "x input shape torch.Size([128, 100])\n",
      "x out shape torch.Size([128, 100])\n",
      "x input shape torch.Size([128, 100])\n",
      "x out shape torch.Size([128, 100])\n",
      "x input shape torch.Size([128, 100])\n",
      "x out shape torch.Size([128, 100])\n",
      "x input shape torch.Size([128, 100])\n"
     ]
    },
    {
     "name": "stderr",
     "output_type": "stream",
     "text": [
      "Epoch 14/20:  27%|██████████████████████████▎                                                                        | 21/79 [00:00<00:00, 102.07it/s]"
     ]
    },
    {
     "name": "stdout",
     "output_type": "stream",
     "text": [
      "x out shape torch.Size([128, 100])\n",
      "x input shape torch.Size([128, 100])\n",
      "x out shape torch.Size([128, 100])\n",
      "x input shape torch.Size([128, 100])\n",
      "x out shape torch.Size([128, 100])\n",
      "x input shape torch.Size([128, 100])\n",
      "x out shape torch.Size([128, 100])\n",
      "x input shape torch.Size([128, 100])\n",
      "x out shape torch.Size([128, 100])\n",
      "x input shape torch.Size([128, 100])\n",
      "x out shape torch.Size([128, 100])\n",
      "x input shape torch.Size([128, 100])\n",
      "x out shape torch.Size([128, 100])\n",
      "x input shape torch.Size([128, 100])\n",
      "x out shape torch.Size([128, 100])\n",
      "x input shape torch.Size([128, 100])\n",
      "x out shape torch.Size([128, 100])\n",
      "x input shape torch.Size([128, 100])\n"
     ]
    },
    {
     "name": "stderr",
     "output_type": "stream",
     "text": [
      "Epoch 14/20:  41%|████████████████████████████████████████                                                           | 32/79 [00:00<00:00, 103.28it/s]"
     ]
    },
    {
     "name": "stdout",
     "output_type": "stream",
     "text": [
      "x out shape torch.Size([128, 100])\n",
      "x input shape torch.Size([128, 100])\n",
      "x out shape torch.Size([128, 100])\n",
      "x input shape torch.Size([128, 100])\n",
      "x out shape torch.Size([128, 100])\n",
      "x input shape torch.Size([128, 100])\n",
      "x out shape torch.Size([128, 100])\n",
      "x input shape torch.Size([128, 100])\n",
      "x out shape torch.Size([128, 100])\n",
      "x input shape torch.Size([128, 100])\n",
      "x out shape torch.Size([128, 100])\n",
      "x input shape torch.Size([128, 100])\n",
      "x out shape torch.Size([128, 100])\n",
      "x input shape torch.Size([128, 100])\n",
      "x out shape torch.Size([128, 100])\n",
      "x input shape torch.Size([128, 100])\n",
      "x out shape torch.Size([128, 100])\n",
      "x input shape torch.Size([128, 100])\n",
      "x out shape torch.Size([128, 100])\n",
      "x input shape torch.Size([128, 100])\n",
      "x out shape torch.Size([128, 100])\n",
      "x input shape torch.Size([128, 100])\n",
      "x out shape torch.Size([128, 100])\n",
      "x input shape torch.Size([128, 100])\n",
      "x out shape torch.Size([128, 100])\n"
     ]
    },
    {
     "name": "stderr",
     "output_type": "stream",
     "text": [
      "Epoch 14/20:  54%|█████████████████████████████████████████████████████▉                                             | 43/79 [00:00<00:00, 104.22it/s]"
     ]
    },
    {
     "name": "stdout",
     "output_type": "stream",
     "text": [
      "x input shape torch.Size([128, 100])\n",
      "x out shape torch.Size([128, 100])\n",
      "x input shape torch.Size([128, 100])\n",
      "x out shape torch.Size([128, 100])\n",
      "x input shape torch.Size([128, 100])\n",
      "x out shape torch.Size([128, 100])\n",
      "x input shape torch.Size([128, 100])\n",
      "x out shape torch.Size([128, 100])\n",
      "x input shape torch.Size([128, 100])\n",
      "x out shape torch.Size([128, 100])\n",
      "x input shape torch.Size([128, 100])\n",
      "x out shape torch.Size([128, 100])\n",
      "x input shape torch.Size([128, 100])\n",
      "x out shape torch.Size([128, 100])\n",
      "x input shape torch.Size([128, 100])\n",
      "x out shape torch.Size([128, 100])\n",
      "x input shape torch.Size([128, 100])\n",
      "x out shape torch.Size([128, 100])\n"
     ]
    },
    {
     "name": "stderr",
     "output_type": "stream",
     "text": [
      "Epoch 14/20:  68%|███████████████████████████████████████████████████████████████████▋                               | 54/79 [00:00<00:00, 104.82it/s]"
     ]
    },
    {
     "name": "stdout",
     "output_type": "stream",
     "text": [
      "x input shape torch.Size([128, 100])\n",
      "x out shape torch.Size([128, 100])\n",
      "x input shape torch.Size([128, 100])\n",
      "x out shape torch.Size([128, 100])\n",
      "x input shape torch.Size([128, 100])\n",
      "x out shape torch.Size([128, 100])\n",
      "x input shape torch.Size([128, 100])\n",
      "x out shape torch.Size([128, 100])\n",
      "x input shape torch.Size([128, 100])\n",
      "x out shape torch.Size([128, 100])\n",
      "x input shape torch.Size([128, 100])\n",
      "x out shape torch.Size([128, 100])\n",
      "x input shape torch.Size([128, 100])\n",
      "x out shape torch.Size([128, 100])\n",
      "x input shape torch.Size([128, 100])\n",
      "x out shape torch.Size([128, 100])\n",
      "x input shape torch.Size([128, 100])\n",
      "x out shape torch.Size([128, 100])\n",
      "x input shape torch.Size([128, 100])\n",
      "x out shape torch.Size([128, 100])\n",
      "x input shape torch.Size([128, 100])\n",
      "x out shape torch.Size([128, 100])\n",
      "x input shape torch.Size([128, 100])\n",
      "x out shape torch.Size([128, 100])\n",
      "x input shape torch.Size([128, 100])\n"
     ]
    },
    {
     "name": "stderr",
     "output_type": "stream",
     "text": [
      "Epoch 14/20:  82%|█████████████████████████████████████████████████████████████████████████████████▍                 | 65/79 [00:00<00:00, 104.91it/s]"
     ]
    },
    {
     "name": "stdout",
     "output_type": "stream",
     "text": [
      "x out shape torch.Size([128, 100])\n",
      "x input shape torch.Size([128, 100])\n",
      "x out shape torch.Size([128, 100])\n",
      "x input shape torch.Size([128, 100])\n",
      "x out shape torch.Size([128, 100])\n",
      "x input shape torch.Size([128, 100])\n",
      "x out shape torch.Size([128, 100])\n",
      "x input shape torch.Size([128, 100])\n",
      "x out shape torch.Size([128, 100])\n",
      "x input shape torch.Size([128, 100])\n",
      "x out shape torch.Size([128, 100])\n",
      "x input shape torch.Size([128, 100])\n",
      "x out shape torch.Size([128, 100])\n",
      "x input shape torch.Size([128, 100])\n",
      "x out shape torch.Size([128, 100])\n",
      "x input shape torch.Size([128, 100])\n",
      "x out shape torch.Size([128, 100])\n",
      "x input shape torch.Size([128, 100])\n",
      "x out shape torch.Size([128, 100])\n",
      "x input shape torch.Size([128, 100])\n",
      "x out shape torch.Size([128, 100])\n",
      "x input shape torch.Size([128, 100])\n",
      "x out shape torch.Size([128, 100])\n",
      "x input shape torch.Size([128, 100])\n",
      "x out shape torch.Size([128, 100])\n"
     ]
    },
    {
     "name": "stderr",
     "output_type": "stream",
     "text": [
      "Epoch 14/20:  96%|███████████████████████████████████████████████████████████████████████████████████████████████▏   | 76/79 [00:00<00:00, 104.68it/s]"
     ]
    },
    {
     "name": "stdout",
     "output_type": "stream",
     "text": [
      "x input shape torch.Size([128, 100])\n",
      "x out shape torch.Size([128, 100])\n",
      "x input shape torch.Size([128, 100])\n",
      "x out shape torch.Size([128, 100])\n",
      "x input shape torch.Size([16, 100])\n"
     ]
    },
    {
     "name": "stderr",
     "output_type": "stream",
     "text": [
      "Epoch 14/20: 100%|███████████████████████████████████████████████████████████████████████████████████████████████████| 79/79 [00:00<00:00, 104.23it/s]\n"
     ]
    },
    {
     "name": "stdout",
     "output_type": "stream",
     "text": [
      "x out shape torch.Size([16, 100])\n",
      "Epoch 14: avg MSE loss = 0.894826\n"
     ]
    },
    {
     "name": "stderr",
     "output_type": "stream",
     "text": [
      "Epoch 15/20:   0%|                                                                                                             | 0/79 [00:00<?, ?it/s]"
     ]
    },
    {
     "name": "stdout",
     "output_type": "stream",
     "text": [
      "x input shape torch.Size([128, 100])\n",
      "x out shape torch.Size([128, 100])\n",
      "x input shape torch.Size([128, 100])\n",
      "x out shape torch.Size([128, 100])\n",
      "x input shape torch.Size([128, 100])\n",
      "x out shape torch.Size([128, 100])\n",
      "x input shape torch.Size([128, 100])\n",
      "x out shape torch.Size([128, 100])\n",
      "x input shape torch.Size([128, 100])\n",
      "x out shape torch.Size([128, 100])\n",
      "x input shape torch.Size([128, 100])\n",
      "x out shape torch.Size([128, 100])\n",
      "x input shape torch.Size([128, 100])\n",
      "x out shape torch.Size([128, 100])\n",
      "x input shape torch.Size([128, 100])\n",
      "x out shape torch.Size([128, 100])\n",
      "x input shape torch.Size([128, 100])\n",
      "x out shape torch.Size([128, 100])\n",
      "x input shape torch.Size([128, 100])\n",
      "x out shape torch.Size([128, 100])\n",
      "x input shape torch.Size([128, 100])\n"
     ]
    },
    {
     "name": "stderr",
     "output_type": "stream",
     "text": [
      "Epoch 15/20:  14%|█████████████▊                                                                                     | 11/79 [00:00<00:00, 103.54it/s]"
     ]
    },
    {
     "name": "stdout",
     "output_type": "stream",
     "text": [
      "x out shape torch.Size([128, 100])\n",
      "x input shape torch.Size([128, 100])\n",
      "x out shape torch.Size([128, 100])\n",
      "x input shape torch.Size([128, 100])\n",
      "x out shape torch.Size([128, 100])\n",
      "x input shape torch.Size([128, 100])\n",
      "x out shape torch.Size([128, 100])\n",
      "x input shape torch.Size([128, 100])\n",
      "x out shape torch.Size([128, 100])\n",
      "x input shape torch.Size([128, 100])\n",
      "x out shape torch.Size([128, 100])\n",
      "x input shape torch.Size([128, 100])\n",
      "x out shape torch.Size([128, 100])\n",
      "x input shape torch.Size([128, 100])\n",
      "x out shape torch.Size([128, 100])\n",
      "x input shape torch.Size([128, 100])\n",
      "x out shape torch.Size([128, 100])\n",
      "x input shape torch.Size([128, 100])\n",
      "x out shape torch.Size([128, 100])\n",
      "x input shape torch.Size([128, 100])\n",
      "x out shape torch.Size([128, 100])\n",
      "x input shape torch.Size([128, 100])\n",
      "x out shape torch.Size([128, 100])\n"
     ]
    },
    {
     "name": "stderr",
     "output_type": "stream",
     "text": [
      "Epoch 15/20:  28%|███████████████████████████▊                                                                        | 22/79 [00:00<00:00, 96.41it/s]"
     ]
    },
    {
     "name": "stdout",
     "output_type": "stream",
     "text": [
      "x input shape torch.Size([128, 100])\n",
      "x out shape torch.Size([128, 100])\n",
      "x input shape torch.Size([128, 100])\n",
      "x out shape torch.Size([128, 100])\n",
      "x input shape torch.Size([128, 100])\n",
      "x out shape torch.Size([128, 100])\n",
      "x input shape torch.Size([128, 100])\n",
      "x out shape torch.Size([128, 100])\n",
      "x input shape torch.Size([128, 100])\n",
      "x out shape torch.Size([128, 100])\n",
      "x input shape torch.Size([128, 100])\n",
      "x out shape torch.Size([128, 100])\n",
      "x input shape torch.Size([128, 100])\n",
      "x out shape torch.Size([128, 100])\n",
      "x input shape torch.Size([128, 100])\n",
      "x out shape torch.Size([128, 100])\n",
      "x input shape torch.Size([128, 100])\n",
      "x out shape torch.Size([128, 100])\n",
      "x input shape torch.Size([128, 100])\n"
     ]
    },
    {
     "name": "stderr",
     "output_type": "stream",
     "text": [
      "Epoch 15/20:  41%|████████████████████████████████████████▌                                                           | 32/79 [00:00<00:00, 96.48it/s]"
     ]
    },
    {
     "name": "stdout",
     "output_type": "stream",
     "text": [
      "x out shape torch.Size([128, 100])\n",
      "x input shape torch.Size([128, 100])\n",
      "x out shape torch.Size([128, 100])\n",
      "x input shape torch.Size([128, 100])\n",
      "x out shape torch.Size([128, 100])\n",
      "x input shape torch.Size([128, 100])\n",
      "x out shape torch.Size([128, 100])\n",
      "x input shape torch.Size([128, 100])\n",
      "x out shape torch.Size([128, 100])\n",
      "x input shape torch.Size([128, 100])\n",
      "x out shape torch.Size([128, 100])\n",
      "x input shape torch.Size([128, 100])\n",
      "x out shape torch.Size([128, 100])\n",
      "x input shape torch.Size([128, 100])\n",
      "x out shape torch.Size([128, 100])\n",
      "x input shape torch.Size([128, 100])\n",
      "x out shape torch.Size([128, 100])\n",
      "x input shape torch.Size([128, 100])\n",
      "x out shape torch.Size([128, 100])\n",
      "x input shape torch.Size([128, 100])\n",
      "x out shape torch.Size([128, 100])\n"
     ]
    },
    {
     "name": "stderr",
     "output_type": "stream",
     "text": [
      "Epoch 15/20:  54%|██████████████████████████████████████████████████████▍                                             | 43/79 [00:00<00:00, 97.63it/s]"
     ]
    },
    {
     "name": "stdout",
     "output_type": "stream",
     "text": [
      "x input shape torch.Size([128, 100])\n",
      "x out shape torch.Size([128, 100])\n",
      "x input shape torch.Size([128, 100])\n",
      "x out shape torch.Size([128, 100])\n",
      "x input shape torch.Size([128, 100])\n",
      "x out shape torch.Size([128, 100])\n",
      "x input shape torch.Size([128, 100])\n",
      "x out shape torch.Size([128, 100])\n",
      "x input shape torch.Size([128, 100])\n",
      "x out shape torch.Size([128, 100])\n",
      "x input shape torch.Size([128, 100])\n",
      "x out shape torch.Size([128, 100])\n",
      "x input shape torch.Size([128, 100])\n",
      "x out shape torch.Size([128, 100])\n",
      "x input shape torch.Size([128, 100])\n",
      "x out shape torch.Size([128, 100])\n",
      "x input shape torch.Size([128, 100])\n",
      "x out shape torch.Size([128, 100])\n",
      "x input shape torch.Size([128, 100])\n"
     ]
    },
    {
     "name": "stderr",
     "output_type": "stream",
     "text": [
      "Epoch 15/20:  67%|███████████████████████████████████████████████████████████████████                                 | 53/79 [00:00<00:00, 97.16it/s]"
     ]
    },
    {
     "name": "stdout",
     "output_type": "stream",
     "text": [
      "x out shape torch.Size([128, 100])\n",
      "x input shape torch.Size([128, 100])\n",
      "x out shape torch.Size([128, 100])\n",
      "x input shape torch.Size([128, 100])\n",
      "x out shape torch.Size([128, 100])\n",
      "x input shape torch.Size([128, 100])\n",
      "x out shape torch.Size([128, 100])\n",
      "x input shape torch.Size([128, 100])\n",
      "x out shape torch.Size([128, 100])\n",
      "x input shape torch.Size([128, 100])\n",
      "x out shape torch.Size([128, 100])\n",
      "x input shape torch.Size([128, 100])\n",
      "x out shape torch.Size([128, 100])\n",
      "x input shape torch.Size([128, 100])\n",
      "x out shape torch.Size([128, 100])\n",
      "x input shape torch.Size([128, 100])\n",
      "x out shape torch.Size([128, 100])\n",
      "x input shape torch.Size([128, 100])\n",
      "x out shape torch.Size([128, 100])\n",
      "x input shape torch.Size([128, 100])\n",
      "x out shape torch.Size([128, 100])\n"
     ]
    },
    {
     "name": "stderr",
     "output_type": "stream",
     "text": [
      "Epoch 15/20:  81%|█████████████████████████████████████████████████████████████████████████████████                   | 64/79 [00:00<00:00, 98.76it/s]"
     ]
    },
    {
     "name": "stdout",
     "output_type": "stream",
     "text": [
      "x input shape torch.Size([128, 100])\n",
      "x out shape torch.Size([128, 100])\n",
      "x input shape torch.Size([128, 100])\n",
      "x out shape torch.Size([128, 100])\n",
      "x input shape torch.Size([128, 100])\n",
      "x out shape torch.Size([128, 100])\n",
      "x input shape torch.Size([128, 100])\n",
      "x out shape torch.Size([128, 100])\n",
      "x input shape torch.Size([128, 100])\n",
      "x out shape torch.Size([128, 100])\n",
      "x input shape torch.Size([128, 100])\n",
      "x out shape torch.Size([128, 100])\n",
      "x input shape torch.Size([128, 100])\n",
      "x out shape torch.Size([128, 100])\n",
      "x input shape torch.Size([128, 100])\n",
      "x out shape torch.Size([128, 100])\n",
      "x input shape torch.Size([128, 100])\n",
      "x out shape torch.Size([128, 100])\n",
      "x input shape torch.Size([128, 100])\n",
      "x out shape torch.Size([128, 100])\n",
      "x input shape torch.Size([128, 100])\n"
     ]
    },
    {
     "name": "stderr",
     "output_type": "stream",
     "text": [
      "Epoch 15/20:  94%|█████████████████████████████████████████████████████████████████████████████████████████████▋      | 74/79 [00:00<00:00, 84.07it/s]"
     ]
    },
    {
     "name": "stdout",
     "output_type": "stream",
     "text": [
      "x out shape torch.Size([128, 100])\n",
      "x input shape torch.Size([128, 100])\n",
      "x out shape torch.Size([128, 100])\n",
      "x input shape torch.Size([128, 100])\n",
      "x out shape torch.Size([128, 100])\n",
      "x input shape torch.Size([128, 100])\n",
      "x out shape torch.Size([128, 100])\n",
      "x input shape torch.Size([128, 100])\n"
     ]
    },
    {
     "name": "stderr",
     "output_type": "stream",
     "text": [
      "Epoch 15/20: 100%|████████████████████████████████████████████████████████████████████████████████████████████████████| 79/79 [00:00<00:00, 92.07it/s]\n"
     ]
    },
    {
     "name": "stdout",
     "output_type": "stream",
     "text": [
      "x out shape torch.Size([128, 100])\n",
      "x input shape torch.Size([128, 100])\n",
      "x out shape torch.Size([128, 100])\n",
      "x input shape torch.Size([16, 100])\n",
      "x out shape torch.Size([16, 100])\n",
      "Epoch 15: avg MSE loss = 0.736765\n"
     ]
    },
    {
     "name": "stderr",
     "output_type": "stream",
     "text": [
      "Epoch 16/20:   0%|                                                                                                             | 0/79 [00:00<?, ?it/s]"
     ]
    },
    {
     "name": "stdout",
     "output_type": "stream",
     "text": [
      "x input shape torch.Size([128, 100])\n",
      "x out shape torch.Size([128, 100])\n",
      "x input shape torch.Size([128, 100])\n",
      "x out shape torch.Size([128, 100])\n",
      "x input shape torch.Size([128, 100])\n",
      "x out shape torch.Size([128, 100])\n",
      "x input shape torch.Size([128, 100])\n",
      "x out shape torch.Size([128, 100])\n",
      "x input shape torch.Size([128, 100])\n",
      "x out shape torch.Size([128, 100])\n",
      "x input shape torch.Size([128, 100])\n"
     ]
    },
    {
     "name": "stderr",
     "output_type": "stream",
     "text": [
      "Epoch 16/20:  14%|█████████████▊                                                                                     | 11/79 [00:00<00:00, 101.78it/s]"
     ]
    },
    {
     "name": "stdout",
     "output_type": "stream",
     "text": [
      "x out shape torch.Size([128, 100])\n",
      "x input shape torch.Size([128, 100])\n",
      "x out shape torch.Size([128, 100])\n",
      "x input shape torch.Size([128, 100])\n",
      "x out shape torch.Size([128, 100])\n",
      "x input shape torch.Size([128, 100])\n",
      "x out shape torch.Size([128, 100])\n",
      "x input shape torch.Size([128, 100])\n",
      "x out shape torch.Size([128, 100])\n",
      "x input shape torch.Size([128, 100])\n",
      "x out shape torch.Size([128, 100])\n",
      "x input shape torch.Size([128, 100])\n",
      "x out shape torch.Size([128, 100])\n",
      "x input shape torch.Size([128, 100])\n",
      "x out shape torch.Size([128, 100])\n",
      "x input shape torch.Size([128, 100])\n",
      "x out shape torch.Size([128, 100])\n",
      "x input shape torch.Size([128, 100])\n",
      "x out shape torch.Size([128, 100])\n",
      "x input shape torch.Size([128, 100])\n",
      "x out shape torch.Size([128, 100])\n",
      "x input shape torch.Size([128, 100])\n",
      "x out shape torch.Size([128, 100])\n",
      "x input shape torch.Size([128, 100])\n",
      "x out shape torch.Size([128, 100])\n",
      "x input shape torch.Size([128, 100])\n",
      "x out shape torch.Size([128, 100])\n",
      "x input shape torch.Size([128, 100])\n",
      "x out shape torch.Size([128, 100])\n",
      "x input shape torch.Size([128, 100])\n",
      "x out shape torch.Size([128, 100])\n",
      "x input shape torch.Size([128, 100])\n"
     ]
    },
    {
     "name": "stderr",
     "output_type": "stream",
     "text": [
      "Epoch 16/20:  28%|███████████████████████████▌                                                                       | 22/79 [00:00<00:00, 100.81it/s]"
     ]
    },
    {
     "name": "stdout",
     "output_type": "stream",
     "text": [
      "x out shape torch.Size([128, 100])\n",
      "x input shape torch.Size([128, 100])\n",
      "x out shape torch.Size([128, 100])\n",
      "x input shape torch.Size([128, 100])\n",
      "x out shape torch.Size([128, 100])\n",
      "x input shape torch.Size([128, 100])\n",
      "x out shape torch.Size([128, 100])\n",
      "x input shape torch.Size([128, 100])\n",
      "x out shape torch.Size([128, 100])\n",
      "x input shape torch.Size([128, 100])\n",
      "x out shape torch.Size([128, 100])\n",
      "x input shape torch.Size([128, 100])\n",
      "x out shape torch.Size([128, 100])\n",
      "x input shape torch.Size([128, 100])\n",
      "x out shape torch.Size([128, 100])\n",
      "x input shape torch.Size([128, 100])\n",
      "x out shape torch.Size([128, 100])\n",
      "x input shape torch.Size([128, 100])\n",
      "x out shape torch.Size([128, 100])\n",
      "x input shape torch.Size([128, 100])\n",
      "x out shape torch.Size([128, 100])\n",
      "x input shape torch.Size([128, 100])\n",
      "x out shape torch.Size([128, 100])\n"
     ]
    },
    {
     "name": "stderr",
     "output_type": "stream",
     "text": [
      "Epoch 16/20:  42%|█████████████████████████████████████████▊                                                          | 33/79 [00:00<00:00, 99.54it/s]"
     ]
    },
    {
     "name": "stdout",
     "output_type": "stream",
     "text": [
      "x input shape torch.Size([128, 100])\n",
      "x out shape torch.Size([128, 100])\n",
      "x input shape torch.Size([128, 100])\n",
      "x out shape torch.Size([128, 100])\n",
      "x input shape torch.Size([128, 100])\n",
      "x out shape torch.Size([128, 100])\n",
      "x input shape torch.Size([128, 100])\n",
      "x out shape torch.Size([128, 100])\n",
      "x input shape torch.Size([128, 100])\n",
      "x out shape torch.Size([128, 100])\n",
      "x input shape torch.Size([128, 100])\n",
      "x out shape torch.Size([128, 100])\n",
      "x input shape torch.Size([128, 100])\n",
      "x out shape torch.Size([128, 100])\n",
      "x input shape torch.Size([128, 100])\n",
      "x out shape torch.Size([128, 100])\n",
      "x input shape torch.Size([128, 100])\n",
      "x out shape torch.Size([128, 100])\n",
      "x input shape torch.Size([128, 100])\n",
      "x out shape torch.Size([128, 100])\n",
      "x input shape torch.Size([128, 100])\n"
     ]
    },
    {
     "name": "stderr",
     "output_type": "stream",
     "text": [
      "Epoch 16/20:  56%|███████████████████████████████████████████████████████▏                                           | 44/79 [00:00<00:00, 100.31it/s]"
     ]
    },
    {
     "name": "stdout",
     "output_type": "stream",
     "text": [
      "x out shape torch.Size([128, 100])\n",
      "x input shape torch.Size([128, 100])\n",
      "x out shape torch.Size([128, 100])\n",
      "x input shape torch.Size([128, 100])\n",
      "x out shape torch.Size([128, 100])\n",
      "x input shape torch.Size([128, 100])\n",
      "x out shape torch.Size([128, 100])\n",
      "x input shape torch.Size([128, 100])\n",
      "x out shape torch.Size([128, 100])\n",
      "x input shape torch.Size([128, 100])\n",
      "x out shape torch.Size([128, 100])\n",
      "x input shape torch.Size([128, 100])\n",
      "x out shape torch.Size([128, 100])\n",
      "x input shape torch.Size([128, 100])\n",
      "x out shape torch.Size([128, 100])\n",
      "x input shape torch.Size([128, 100])\n",
      "x out shape torch.Size([128, 100])\n",
      "x input shape torch.Size([128, 100])\n",
      "x out shape torch.Size([128, 100])\n",
      "x input shape torch.Size([128, 100])\n",
      "x out shape torch.Size([128, 100])\n"
     ]
    },
    {
     "name": "stderr",
     "output_type": "stream",
     "text": [
      "Epoch 16/20:  70%|█████████████████████████████████████████████████████████████████████▌                              | 55/79 [00:00<00:00, 98.91it/s]"
     ]
    },
    {
     "name": "stdout",
     "output_type": "stream",
     "text": [
      "x input shape torch.Size([128, 100])\n",
      "x out shape torch.Size([128, 100])\n",
      "x input shape torch.Size([128, 100])\n",
      "x out shape torch.Size([128, 100])\n",
      "x input shape torch.Size([128, 100])\n",
      "x out shape torch.Size([128, 100])\n",
      "x input shape torch.Size([128, 100])\n",
      "x out shape torch.Size([128, 100])\n",
      "x input shape torch.Size([128, 100])\n",
      "x out shape torch.Size([128, 100])\n",
      "x input shape torch.Size([128, 100])\n",
      "x out shape torch.Size([128, 100])\n",
      "x input shape torch.Size([128, 100])\n",
      "x out shape torch.Size([128, 100])\n",
      "x input shape torch.Size([128, 100])\n",
      "x out shape torch.Size([128, 100])\n",
      "x input shape torch.Size([128, 100])\n",
      "x out shape torch.Size([128, 100])\n",
      "x input shape torch.Size([128, 100])\n",
      "x out shape torch.Size([128, 100])\n",
      "x input shape torch.Size([128, 100])\n",
      "x out shape torch.Size([128, 100])\n",
      "x input shape torch.Size([128, 100])\n"
     ]
    },
    {
     "name": "stderr",
     "output_type": "stream",
     "text": [
      "Epoch 16/20:  84%|███████████████████████████████████████████████████████████████████████████████████▌                | 66/79 [00:00<00:00, 99.69it/s]"
     ]
    },
    {
     "name": "stdout",
     "output_type": "stream",
     "text": [
      "x out shape torch.Size([128, 100])\n",
      "x input shape torch.Size([128, 100])\n",
      "x out shape torch.Size([128, 100])\n",
      "x input shape torch.Size([128, 100])\n",
      "x out shape torch.Size([128, 100])\n",
      "x input shape torch.Size([128, 100])\n",
      "x out shape torch.Size([128, 100])\n",
      "x input shape torch.Size([128, 100])\n",
      "x out shape torch.Size([128, 100])\n",
      "x input shape torch.Size([128, 100])\n",
      "x out shape torch.Size([128, 100])\n",
      "x input shape torch.Size([128, 100])\n",
      "x out shape torch.Size([128, 100])\n",
      "x input shape torch.Size([128, 100])\n",
      "x out shape torch.Size([128, 100])\n",
      "x input shape torch.Size([128, 100])\n",
      "x out shape torch.Size([128, 100])\n",
      "x input shape torch.Size([128, 100])\n",
      "x out shape torch.Size([128, 100])\n",
      "x input shape torch.Size([128, 100])\n",
      "x out shape torch.Size([128, 100])\n",
      "x input shape torch.Size([128, 100])\n"
     ]
    },
    {
     "name": "stderr",
     "output_type": "stream",
     "text": [
      "Epoch 16/20: 100%|███████████████████████████████████████████████████████████████████████████████████████████████████| 79/79 [00:00<00:00, 100.48it/s]\n"
     ]
    },
    {
     "name": "stdout",
     "output_type": "stream",
     "text": [
      "x out shape torch.Size([128, 100])\n",
      "x input shape torch.Size([128, 100])\n",
      "x out shape torch.Size([128, 100])\n",
      "x input shape torch.Size([16, 100])\n",
      "x out shape torch.Size([16, 100])\n",
      "Epoch 16: avg MSE loss = 0.621993\n"
     ]
    },
    {
     "name": "stderr",
     "output_type": "stream",
     "text": [
      "Epoch 17/20:   0%|                                                                                                             | 0/79 [00:00<?, ?it/s]"
     ]
    },
    {
     "name": "stdout",
     "output_type": "stream",
     "text": [
      "x input shape torch.Size([128, 100])\n",
      "x out shape torch.Size([128, 100])\n",
      "x input shape torch.Size([128, 100])\n",
      "x out shape torch.Size([128, 100])\n",
      "x input shape torch.Size([128, 100])\n",
      "x out shape torch.Size([128, 100])\n",
      "x input shape torch.Size([128, 100])\n",
      "x out shape torch.Size([128, 100])\n",
      "x input shape torch.Size([128, 100])\n",
      "x out shape torch.Size([128, 100])\n",
      "x input shape torch.Size([128, 100])\n",
      "x out shape torch.Size([128, 100])\n",
      "x input shape torch.Size([128, 100])\n",
      "x out shape torch.Size([128, 100])\n",
      "x input shape torch.Size([128, 100])\n",
      "x out shape torch.Size([128, 100])\n",
      "x input shape torch.Size([128, 100])\n"
     ]
    },
    {
     "name": "stderr",
     "output_type": "stream",
     "text": [
      "Epoch 17/20:  14%|█████████████▊                                                                                     | 11/79 [00:00<00:00, 101.48it/s]"
     ]
    },
    {
     "name": "stdout",
     "output_type": "stream",
     "text": [
      "x out shape torch.Size([128, 100])\n",
      "x input shape torch.Size([128, 100])\n",
      "x out shape torch.Size([128, 100])\n",
      "x input shape torch.Size([128, 100])\n",
      "x out shape torch.Size([128, 100])\n",
      "x input shape torch.Size([128, 100])\n",
      "x out shape torch.Size([128, 100])\n",
      "x input shape torch.Size([128, 100])\n",
      "x out shape torch.Size([128, 100])\n",
      "x input shape torch.Size([128, 100])\n",
      "x out shape torch.Size([128, 100])\n",
      "x input shape torch.Size([128, 100])\n",
      "x out shape torch.Size([128, 100])\n",
      "x input shape torch.Size([128, 100])\n",
      "x out shape torch.Size([128, 100])\n",
      "x input shape torch.Size([128, 100])\n",
      "x out shape torch.Size([128, 100])\n",
      "x input shape torch.Size([128, 100])\n",
      "x out shape torch.Size([128, 100])\n",
      "x input shape torch.Size([128, 100])\n",
      "x out shape torch.Size([128, 100])\n",
      "x input shape torch.Size([128, 100])\n",
      "x out shape torch.Size([128, 100])\n",
      "x input shape torch.Size([128, 100])\n",
      "x out shape torch.Size([128, 100])\n",
      "x input shape torch.Size([128, 100])\n"
     ]
    },
    {
     "name": "stderr",
     "output_type": "stream",
     "text": [
      "Epoch 17/20:  28%|███████████████████████████▌                                                                       | 22/79 [00:00<00:00, 101.52it/s]"
     ]
    },
    {
     "name": "stdout",
     "output_type": "stream",
     "text": [
      "x out shape torch.Size([128, 100])\n",
      "x input shape torch.Size([128, 100])\n",
      "x out shape torch.Size([128, 100])\n",
      "x input shape torch.Size([128, 100])\n",
      "x out shape torch.Size([128, 100])\n",
      "x input shape torch.Size([128, 100])\n",
      "x out shape torch.Size([128, 100])\n",
      "x input shape torch.Size([128, 100])\n",
      "x out shape torch.Size([128, 100])\n",
      "x input shape torch.Size([128, 100])\n",
      "x out shape torch.Size([128, 100])\n",
      "x input shape torch.Size([128, 100])\n",
      "x out shape torch.Size([128, 100])\n",
      "x input shape torch.Size([128, 100])\n",
      "x out shape torch.Size([128, 100])\n",
      "x input shape torch.Size([128, 100])\n"
     ]
    },
    {
     "name": "stderr",
     "output_type": "stream",
     "text": [
      "Epoch 17/20:  42%|█████████████████████████████████████████▎                                                         | 33/79 [00:00<00:00, 102.85it/s]"
     ]
    },
    {
     "name": "stdout",
     "output_type": "stream",
     "text": [
      "x out shape torch.Size([128, 100])\n",
      "x input shape torch.Size([128, 100])\n",
      "x out shape torch.Size([128, 100])\n",
      "x input shape torch.Size([128, 100])\n",
      "x out shape torch.Size([128, 100])\n",
      "x input shape torch.Size([128, 100])\n",
      "x out shape torch.Size([128, 100])\n",
      "x input shape torch.Size([128, 100])\n",
      "x out shape torch.Size([128, 100])\n",
      "x input shape torch.Size([128, 100])\n",
      "x out shape torch.Size([128, 100])\n",
      "x input shape torch.Size([128, 100])\n",
      "x out shape torch.Size([128, 100])\n",
      "x input shape torch.Size([128, 100])\n",
      "x out shape torch.Size([128, 100])\n",
      "x input shape torch.Size([128, 100])\n",
      "x out shape torch.Size([128, 100])\n",
      "x input shape torch.Size([128, 100])\n",
      "x out shape torch.Size([128, 100])\n",
      "x input shape torch.Size([128, 100])\n",
      "x out shape torch.Size([128, 100])\n",
      "x input shape torch.Size([128, 100])\n",
      "x out shape torch.Size([128, 100])\n",
      "x input shape torch.Size([128, 100])\n",
      "x out shape torch.Size([128, 100])\n",
      "x input shape torch.Size([128, 100])\n"
     ]
    },
    {
     "name": "stderr",
     "output_type": "stream",
     "text": [
      "Epoch 17/20:  56%|███████████████████████████████████████████████████████▏                                           | 44/79 [00:00<00:00, 103.51it/s]"
     ]
    },
    {
     "name": "stdout",
     "output_type": "stream",
     "text": [
      "x out shape torch.Size([128, 100])\n",
      "x input shape torch.Size([128, 100])\n",
      "x out shape torch.Size([128, 100])\n",
      "x input shape torch.Size([128, 100])\n",
      "x out shape torch.Size([128, 100])\n",
      "x input shape torch.Size([128, 100])\n",
      "x out shape torch.Size([128, 100])\n",
      "x input shape torch.Size([128, 100])\n",
      "x out shape torch.Size([128, 100])\n",
      "x input shape torch.Size([128, 100])\n",
      "x out shape torch.Size([128, 100])\n",
      "x input shape torch.Size([128, 100])\n",
      "x out shape torch.Size([128, 100])\n",
      "x input shape torch.Size([128, 100])\n",
      "x out shape torch.Size([128, 100])\n",
      "x input shape torch.Size([128, 100])\n",
      "x out shape torch.Size([128, 100])\n"
     ]
    },
    {
     "name": "stderr",
     "output_type": "stream",
     "text": [
      "Epoch 17/20:  70%|████████████████████████████████████████████████████████████████████▉                              | 55/79 [00:00<00:00, 103.89it/s]"
     ]
    },
    {
     "name": "stdout",
     "output_type": "stream",
     "text": [
      "x input shape torch.Size([128, 100])\n",
      "x out shape torch.Size([128, 100])\n",
      "x input shape torch.Size([128, 100])\n",
      "x out shape torch.Size([128, 100])\n",
      "x input shape torch.Size([128, 100])\n",
      "x out shape torch.Size([128, 100])\n",
      "x input shape torch.Size([128, 100])\n",
      "x out shape torch.Size([128, 100])\n",
      "x input shape torch.Size([128, 100])\n",
      "x out shape torch.Size([128, 100])\n",
      "x input shape torch.Size([128, 100])\n",
      "x out shape torch.Size([128, 100])\n",
      "x input shape torch.Size([128, 100])\n",
      "x out shape torch.Size([128, 100])\n",
      "x input shape torch.Size([128, 100])\n",
      "x out shape torch.Size([128, 100])\n",
      "x input shape torch.Size([128, 100])\n",
      "x out shape torch.Size([128, 100])\n",
      "x input shape torch.Size([128, 100])\n",
      "x out shape torch.Size([128, 100])\n",
      "x input shape torch.Size([128, 100])\n",
      "x out shape torch.Size([128, 100])\n",
      "x input shape torch.Size([128, 100])\n",
      "x out shape torch.Size([128, 100])\n",
      "x input shape torch.Size([128, 100])\n",
      "x out shape torch.Size([128, 100])\n",
      "x input shape torch.Size([128, 100])\n",
      "x out shape torch.Size([128, 100])\n",
      "x input shape torch.Size([128, 100])\n",
      "x out shape torch.Size([128, 100])\n"
     ]
    },
    {
     "name": "stderr",
     "output_type": "stream",
     "text": [
      "Epoch 17/20:  84%|██████████████████████████████████████████████████████████████████████████████████▋                | 66/79 [00:00<00:00, 104.27it/s]"
     ]
    },
    {
     "name": "stdout",
     "output_type": "stream",
     "text": [
      "x input shape torch.Size([128, 100])\n",
      "x out shape torch.Size([128, 100])\n",
      "x input shape torch.Size([128, 100])\n",
      "x out shape torch.Size([128, 100])\n",
      "x input shape torch.Size([128, 100])\n",
      "x out shape torch.Size([128, 100])\n",
      "x input shape torch.Size([128, 100])\n",
      "x out shape torch.Size([128, 100])\n",
      "x input shape torch.Size([128, 100])\n",
      "x out shape torch.Size([128, 100])\n",
      "x input shape torch.Size([128, 100])\n",
      "x out shape torch.Size([128, 100])\n",
      "x input shape torch.Size([128, 100])\n"
     ]
    },
    {
     "name": "stderr",
     "output_type": "stream",
     "text": [
      "Epoch 17/20: 100%|███████████████████████████████████████████████████████████████████████████████████████████████████| 79/79 [00:00<00:00, 103.86it/s]\n"
     ]
    },
    {
     "name": "stdout",
     "output_type": "stream",
     "text": [
      "x out shape torch.Size([128, 100])\n",
      "x input shape torch.Size([128, 100])\n",
      "x out shape torch.Size([128, 100])\n",
      "x input shape torch.Size([128, 100])\n",
      "x out shape torch.Size([128, 100])\n",
      "x input shape torch.Size([128, 100])\n",
      "x out shape torch.Size([128, 100])\n",
      "x input shape torch.Size([128, 100])\n",
      "x out shape torch.Size([128, 100])\n",
      "x input shape torch.Size([128, 100])\n",
      "x out shape torch.Size([128, 100])\n",
      "x input shape torch.Size([16, 100])\n",
      "x out shape torch.Size([16, 100])\n",
      "Epoch 17: avg MSE loss = 0.539775\n"
     ]
    },
    {
     "name": "stderr",
     "output_type": "stream",
     "text": [
      "Epoch 18/20:   0%|                                                                                                             | 0/79 [00:00<?, ?it/s]"
     ]
    },
    {
     "name": "stdout",
     "output_type": "stream",
     "text": [
      "x input shape torch.Size([128, 100])\n",
      "x out shape torch.Size([128, 100])\n",
      "x input shape torch.Size([128, 100])\n",
      "x out shape torch.Size([128, 100])\n",
      "x input shape torch.Size([128, 100])\n",
      "x out shape torch.Size([128, 100])\n",
      "x input shape torch.Size([128, 100])\n",
      "x out shape torch.Size([128, 100])\n",
      "x input shape torch.Size([128, 100])\n",
      "x out shape torch.Size([128, 100])\n",
      "x input shape torch.Size([128, 100])\n",
      "x out shape torch.Size([128, 100])\n",
      "x input shape torch.Size([128, 100])\n",
      "x out shape torch.Size([128, 100])\n",
      "x input shape torch.Size([128, 100])\n",
      "x out shape torch.Size([128, 100])\n"
     ]
    },
    {
     "name": "stderr",
     "output_type": "stream",
     "text": [
      "Epoch 18/20:   9%|████████▉                                                                                            | 7/79 [00:00<00:00, 89.57it/s]\n"
     ]
    },
    {
     "ename": "KeyboardInterrupt",
     "evalue": "",
     "output_type": "error",
     "traceback": [
      "\u001b[31m---------------------------------------------------------------------------\u001b[39m",
      "\u001b[31mKeyboardInterrupt\u001b[39m                         Traceback (most recent call last)",
      "\u001b[36mCell\u001b[39m\u001b[36m \u001b[39m\u001b[32mIn[78]\u001b[39m\u001b[32m, line 20\u001b[39m\n\u001b[32m     18\u001b[39m model = ToyResidMLP(config, device=device)\n\u001b[32m     19\u001b[39m \u001b[38;5;66;03m# Train\u001b[39;00m\n\u001b[32m---> \u001b[39m\u001b[32m20\u001b[39m \u001b[43mtrain_toy_resid_mlp\u001b[49m\u001b[43m(\u001b[49m\u001b[43mmodel\u001b[49m\u001b[43m,\u001b[49m\u001b[43m \u001b[49m\u001b[43mdataloader\u001b[49m\u001b[43m,\u001b[49m\u001b[43m \u001b[49m\u001b[43mlr\u001b[49m\u001b[43m=\u001b[49m\u001b[32;43m8e-2\u001b[39;49m\u001b[43m,\u001b[49m\u001b[43m \u001b[49m\u001b[43mnum_epochs\u001b[49m\u001b[43m=\u001b[49m\u001b[32;43m20\u001b[39;49m\u001b[43m,\u001b[49m\u001b[43m \u001b[49m\u001b[43mdevice\u001b[49m\u001b[43m=\u001b[49m\u001b[43mdevice\u001b[49m\u001b[43m)\u001b[49m\n",
      "\u001b[36mCell\u001b[39m\u001b[36m \u001b[39m\u001b[32mIn[77]\u001b[39m\u001b[32m, line 87\u001b[39m, in \u001b[36mtrain_toy_resid_mlp\u001b[39m\u001b[34m(model, dataloader, lr, num_epochs, device, print_every)\u001b[39m\n\u001b[32m     85\u001b[39m     loss = loss_fn(y_pred, y)\n\u001b[32m     86\u001b[39m     loss.backward()\n\u001b[32m---> \u001b[39m\u001b[32m87\u001b[39m     \u001b[43moptimizer\u001b[49m\u001b[43m.\u001b[49m\u001b[43mstep\u001b[49m\u001b[43m(\u001b[49m\u001b[43m)\u001b[49m\n\u001b[32m     88\u001b[39m     total_loss += loss.item() * x.size(\u001b[32m0\u001b[39m)\n\u001b[32m     89\u001b[39m avg_loss = total_loss / \u001b[38;5;28mlen\u001b[39m(dataloader.dataset)\n",
      "\u001b[36mFile \u001b[39m\u001b[32m/opt/homebrew/Caskroom/miniforge/base/envs/interp-replication/lib/python3.11/site-packages/torch/optim/optimizer.py:487\u001b[39m, in \u001b[36mOptimizer.profile_hook_step.<locals>.wrapper\u001b[39m\u001b[34m(*args, **kwargs)\u001b[39m\n\u001b[32m    482\u001b[39m         \u001b[38;5;28;01melse\u001b[39;00m:\n\u001b[32m    483\u001b[39m             \u001b[38;5;28;01mraise\u001b[39;00m \u001b[38;5;167;01mRuntimeError\u001b[39;00m(\n\u001b[32m    484\u001b[39m                 \u001b[33mf\u001b[39m\u001b[33m\"\u001b[39m\u001b[38;5;132;01m{\u001b[39;00mfunc\u001b[38;5;132;01m}\u001b[39;00m\u001b[33m must return None or a tuple of (new_args, new_kwargs), but got \u001b[39m\u001b[38;5;132;01m{\u001b[39;00mresult\u001b[38;5;132;01m}\u001b[39;00m\u001b[33m.\u001b[39m\u001b[33m\"\u001b[39m\n\u001b[32m    485\u001b[39m             )\n\u001b[32m--> \u001b[39m\u001b[32m487\u001b[39m out = \u001b[43mfunc\u001b[49m\u001b[43m(\u001b[49m\u001b[43m*\u001b[49m\u001b[43margs\u001b[49m\u001b[43m,\u001b[49m\u001b[43m \u001b[49m\u001b[43m*\u001b[49m\u001b[43m*\u001b[49m\u001b[43mkwargs\u001b[49m\u001b[43m)\u001b[49m\n\u001b[32m    488\u001b[39m \u001b[38;5;28mself\u001b[39m._optimizer_step_code()\n\u001b[32m    490\u001b[39m \u001b[38;5;66;03m# call optimizer step post hooks\u001b[39;00m\n",
      "\u001b[36mFile \u001b[39m\u001b[32m/opt/homebrew/Caskroom/miniforge/base/envs/interp-replication/lib/python3.11/site-packages/torch/optim/optimizer.py:91\u001b[39m, in \u001b[36m_use_grad_for_differentiable.<locals>._use_grad\u001b[39m\u001b[34m(self, *args, **kwargs)\u001b[39m\n\u001b[32m     89\u001b[39m     torch.set_grad_enabled(\u001b[38;5;28mself\u001b[39m.defaults[\u001b[33m\"\u001b[39m\u001b[33mdifferentiable\u001b[39m\u001b[33m\"\u001b[39m])\n\u001b[32m     90\u001b[39m     torch._dynamo.graph_break()\n\u001b[32m---> \u001b[39m\u001b[32m91\u001b[39m     ret = \u001b[43mfunc\u001b[49m\u001b[43m(\u001b[49m\u001b[38;5;28;43mself\u001b[39;49m\u001b[43m,\u001b[49m\u001b[43m \u001b[49m\u001b[43m*\u001b[49m\u001b[43margs\u001b[49m\u001b[43m,\u001b[49m\u001b[43m \u001b[49m\u001b[43m*\u001b[49m\u001b[43m*\u001b[49m\u001b[43mkwargs\u001b[49m\u001b[43m)\u001b[49m\n\u001b[32m     92\u001b[39m \u001b[38;5;28;01mfinally\u001b[39;00m:\n\u001b[32m     93\u001b[39m     torch._dynamo.graph_break()\n",
      "\u001b[36mFile \u001b[39m\u001b[32m/opt/homebrew/Caskroom/miniforge/base/envs/interp-replication/lib/python3.11/site-packages/torch/optim/adamw.py:220\u001b[39m, in \u001b[36mAdamW.step\u001b[39m\u001b[34m(self, closure)\u001b[39m\n\u001b[32m    207\u001b[39m     beta1, beta2 = cast(Tuple[\u001b[38;5;28mfloat\u001b[39m, \u001b[38;5;28mfloat\u001b[39m], group[\u001b[33m\"\u001b[39m\u001b[33mbetas\u001b[39m\u001b[33m\"\u001b[39m])\n\u001b[32m    209\u001b[39m     has_complex = \u001b[38;5;28mself\u001b[39m._init_group(\n\u001b[32m    210\u001b[39m         group,\n\u001b[32m    211\u001b[39m         params_with_grad,\n\u001b[32m   (...)\u001b[39m\u001b[32m    217\u001b[39m         state_steps,\n\u001b[32m    218\u001b[39m     )\n\u001b[32m--> \u001b[39m\u001b[32m220\u001b[39m     \u001b[43madamw\u001b[49m\u001b[43m(\u001b[49m\n\u001b[32m    221\u001b[39m \u001b[43m        \u001b[49m\u001b[43mparams_with_grad\u001b[49m\u001b[43m,\u001b[49m\n\u001b[32m    222\u001b[39m \u001b[43m        \u001b[49m\u001b[43mgrads\u001b[49m\u001b[43m,\u001b[49m\n\u001b[32m    223\u001b[39m \u001b[43m        \u001b[49m\u001b[43mexp_avgs\u001b[49m\u001b[43m,\u001b[49m\n\u001b[32m    224\u001b[39m \u001b[43m        \u001b[49m\u001b[43mexp_avg_sqs\u001b[49m\u001b[43m,\u001b[49m\n\u001b[32m    225\u001b[39m \u001b[43m        \u001b[49m\u001b[43mmax_exp_avg_sqs\u001b[49m\u001b[43m,\u001b[49m\n\u001b[32m    226\u001b[39m \u001b[43m        \u001b[49m\u001b[43mstate_steps\u001b[49m\u001b[43m,\u001b[49m\n\u001b[32m    227\u001b[39m \u001b[43m        \u001b[49m\u001b[43mamsgrad\u001b[49m\u001b[43m=\u001b[49m\u001b[43mamsgrad\u001b[49m\u001b[43m,\u001b[49m\n\u001b[32m    228\u001b[39m \u001b[43m        \u001b[49m\u001b[43mbeta1\u001b[49m\u001b[43m=\u001b[49m\u001b[43mbeta1\u001b[49m\u001b[43m,\u001b[49m\n\u001b[32m    229\u001b[39m \u001b[43m        \u001b[49m\u001b[43mbeta2\u001b[49m\u001b[43m=\u001b[49m\u001b[43mbeta2\u001b[49m\u001b[43m,\u001b[49m\n\u001b[32m    230\u001b[39m \u001b[43m        \u001b[49m\u001b[43mlr\u001b[49m\u001b[43m=\u001b[49m\u001b[43mgroup\u001b[49m\u001b[43m[\u001b[49m\u001b[33;43m\"\u001b[39;49m\u001b[33;43mlr\u001b[39;49m\u001b[33;43m\"\u001b[39;49m\u001b[43m]\u001b[49m\u001b[43m,\u001b[49m\n\u001b[32m    231\u001b[39m \u001b[43m        \u001b[49m\u001b[43mweight_decay\u001b[49m\u001b[43m=\u001b[49m\u001b[43mgroup\u001b[49m\u001b[43m[\u001b[49m\u001b[33;43m\"\u001b[39;49m\u001b[33;43mweight_decay\u001b[39;49m\u001b[33;43m\"\u001b[39;49m\u001b[43m]\u001b[49m\u001b[43m,\u001b[49m\n\u001b[32m    232\u001b[39m \u001b[43m        \u001b[49m\u001b[43meps\u001b[49m\u001b[43m=\u001b[49m\u001b[43mgroup\u001b[49m\u001b[43m[\u001b[49m\u001b[33;43m\"\u001b[39;49m\u001b[33;43meps\u001b[39;49m\u001b[33;43m\"\u001b[39;49m\u001b[43m]\u001b[49m\u001b[43m,\u001b[49m\n\u001b[32m    233\u001b[39m \u001b[43m        \u001b[49m\u001b[43mmaximize\u001b[49m\u001b[43m=\u001b[49m\u001b[43mgroup\u001b[49m\u001b[43m[\u001b[49m\u001b[33;43m\"\u001b[39;49m\u001b[33;43mmaximize\u001b[39;49m\u001b[33;43m\"\u001b[39;49m\u001b[43m]\u001b[49m\u001b[43m,\u001b[49m\n\u001b[32m    234\u001b[39m \u001b[43m        \u001b[49m\u001b[43mforeach\u001b[49m\u001b[43m=\u001b[49m\u001b[43mgroup\u001b[49m\u001b[43m[\u001b[49m\u001b[33;43m\"\u001b[39;49m\u001b[33;43mforeach\u001b[39;49m\u001b[33;43m\"\u001b[39;49m\u001b[43m]\u001b[49m\u001b[43m,\u001b[49m\n\u001b[32m    235\u001b[39m \u001b[43m        \u001b[49m\u001b[43mcapturable\u001b[49m\u001b[43m=\u001b[49m\u001b[43mgroup\u001b[49m\u001b[43m[\u001b[49m\u001b[33;43m\"\u001b[39;49m\u001b[33;43mcapturable\u001b[39;49m\u001b[33;43m\"\u001b[39;49m\u001b[43m]\u001b[49m\u001b[43m,\u001b[49m\n\u001b[32m    236\u001b[39m \u001b[43m        \u001b[49m\u001b[43mdifferentiable\u001b[49m\u001b[43m=\u001b[49m\u001b[43mgroup\u001b[49m\u001b[43m[\u001b[49m\u001b[33;43m\"\u001b[39;49m\u001b[33;43mdifferentiable\u001b[39;49m\u001b[33;43m\"\u001b[39;49m\u001b[43m]\u001b[49m\u001b[43m,\u001b[49m\n\u001b[32m    237\u001b[39m \u001b[43m        \u001b[49m\u001b[43mfused\u001b[49m\u001b[43m=\u001b[49m\u001b[43mgroup\u001b[49m\u001b[43m[\u001b[49m\u001b[33;43m\"\u001b[39;49m\u001b[33;43mfused\u001b[39;49m\u001b[33;43m\"\u001b[39;49m\u001b[43m]\u001b[49m\u001b[43m,\u001b[49m\n\u001b[32m    238\u001b[39m \u001b[43m        \u001b[49m\u001b[43mgrad_scale\u001b[49m\u001b[43m=\u001b[49m\u001b[38;5;28;43mgetattr\u001b[39;49m\u001b[43m(\u001b[49m\u001b[38;5;28;43mself\u001b[39;49m\u001b[43m,\u001b[49m\u001b[43m \u001b[49m\u001b[33;43m\"\u001b[39;49m\u001b[33;43mgrad_scale\u001b[39;49m\u001b[33;43m\"\u001b[39;49m\u001b[43m,\u001b[49m\u001b[43m \u001b[49m\u001b[38;5;28;43;01mNone\u001b[39;49;00m\u001b[43m)\u001b[49m\u001b[43m,\u001b[49m\n\u001b[32m    239\u001b[39m \u001b[43m        \u001b[49m\u001b[43mfound_inf\u001b[49m\u001b[43m=\u001b[49m\u001b[38;5;28;43mgetattr\u001b[39;49m\u001b[43m(\u001b[49m\u001b[38;5;28;43mself\u001b[39;49m\u001b[43m,\u001b[49m\u001b[43m \u001b[49m\u001b[33;43m\"\u001b[39;49m\u001b[33;43mfound_inf\u001b[39;49m\u001b[33;43m\"\u001b[39;49m\u001b[43m,\u001b[49m\u001b[43m \u001b[49m\u001b[38;5;28;43;01mNone\u001b[39;49;00m\u001b[43m)\u001b[49m\u001b[43m,\u001b[49m\n\u001b[32m    240\u001b[39m \u001b[43m        \u001b[49m\u001b[43mhas_complex\u001b[49m\u001b[43m=\u001b[49m\u001b[43mhas_complex\u001b[49m\u001b[43m,\u001b[49m\n\u001b[32m    241\u001b[39m \u001b[43m    \u001b[49m\u001b[43m)\u001b[49m\n\u001b[32m    243\u001b[39m \u001b[38;5;28;01mreturn\u001b[39;00m loss\n",
      "\u001b[36mFile \u001b[39m\u001b[32m/opt/homebrew/Caskroom/miniforge/base/envs/interp-replication/lib/python3.11/site-packages/torch/optim/optimizer.py:154\u001b[39m, in \u001b[36m_disable_dynamo_if_unsupported.<locals>.wrapper.<locals>.maybe_fallback\u001b[39m\u001b[34m(*args, **kwargs)\u001b[39m\n\u001b[32m    152\u001b[39m     \u001b[38;5;28;01mreturn\u001b[39;00m disabled_func(*args, **kwargs)\n\u001b[32m    153\u001b[39m \u001b[38;5;28;01melse\u001b[39;00m:\n\u001b[32m--> \u001b[39m\u001b[32m154\u001b[39m     \u001b[38;5;28;01mreturn\u001b[39;00m \u001b[43mfunc\u001b[49m\u001b[43m(\u001b[49m\u001b[43m*\u001b[49m\u001b[43margs\u001b[49m\u001b[43m,\u001b[49m\u001b[43m \u001b[49m\u001b[43m*\u001b[49m\u001b[43m*\u001b[49m\u001b[43mkwargs\u001b[49m\u001b[43m)\u001b[49m\n",
      "\u001b[36mFile \u001b[39m\u001b[32m/opt/homebrew/Caskroom/miniforge/base/envs/interp-replication/lib/python3.11/site-packages/torch/optim/adamw.py:782\u001b[39m, in \u001b[36madamw\u001b[39m\u001b[34m(params, grads, exp_avgs, exp_avg_sqs, max_exp_avg_sqs, state_steps, foreach, capturable, differentiable, fused, grad_scale, found_inf, has_complex, amsgrad, beta1, beta2, lr, weight_decay, eps, maximize)\u001b[39m\n\u001b[32m    779\u001b[39m \u001b[38;5;28;01melse\u001b[39;00m:\n\u001b[32m    780\u001b[39m     func = _single_tensor_adamw\n\u001b[32m--> \u001b[39m\u001b[32m782\u001b[39m \u001b[43mfunc\u001b[49m\u001b[43m(\u001b[49m\n\u001b[32m    783\u001b[39m \u001b[43m    \u001b[49m\u001b[43mparams\u001b[49m\u001b[43m,\u001b[49m\n\u001b[32m    784\u001b[39m \u001b[43m    \u001b[49m\u001b[43mgrads\u001b[49m\u001b[43m,\u001b[49m\n\u001b[32m    785\u001b[39m \u001b[43m    \u001b[49m\u001b[43mexp_avgs\u001b[49m\u001b[43m,\u001b[49m\n\u001b[32m    786\u001b[39m \u001b[43m    \u001b[49m\u001b[43mexp_avg_sqs\u001b[49m\u001b[43m,\u001b[49m\n\u001b[32m    787\u001b[39m \u001b[43m    \u001b[49m\u001b[43mmax_exp_avg_sqs\u001b[49m\u001b[43m,\u001b[49m\n\u001b[32m    788\u001b[39m \u001b[43m    \u001b[49m\u001b[43mstate_steps\u001b[49m\u001b[43m,\u001b[49m\n\u001b[32m    789\u001b[39m \u001b[43m    \u001b[49m\u001b[43mamsgrad\u001b[49m\u001b[43m=\u001b[49m\u001b[43mamsgrad\u001b[49m\u001b[43m,\u001b[49m\n\u001b[32m    790\u001b[39m \u001b[43m    \u001b[49m\u001b[43mbeta1\u001b[49m\u001b[43m=\u001b[49m\u001b[43mbeta1\u001b[49m\u001b[43m,\u001b[49m\n\u001b[32m    791\u001b[39m \u001b[43m    \u001b[49m\u001b[43mbeta2\u001b[49m\u001b[43m=\u001b[49m\u001b[43mbeta2\u001b[49m\u001b[43m,\u001b[49m\n\u001b[32m    792\u001b[39m \u001b[43m    \u001b[49m\u001b[43mlr\u001b[49m\u001b[43m=\u001b[49m\u001b[43mlr\u001b[49m\u001b[43m,\u001b[49m\n\u001b[32m    793\u001b[39m \u001b[43m    \u001b[49m\u001b[43mweight_decay\u001b[49m\u001b[43m=\u001b[49m\u001b[43mweight_decay\u001b[49m\u001b[43m,\u001b[49m\n\u001b[32m    794\u001b[39m \u001b[43m    \u001b[49m\u001b[43meps\u001b[49m\u001b[43m=\u001b[49m\u001b[43meps\u001b[49m\u001b[43m,\u001b[49m\n\u001b[32m    795\u001b[39m \u001b[43m    \u001b[49m\u001b[43mmaximize\u001b[49m\u001b[43m=\u001b[49m\u001b[43mmaximize\u001b[49m\u001b[43m,\u001b[49m\n\u001b[32m    796\u001b[39m \u001b[43m    \u001b[49m\u001b[43mcapturable\u001b[49m\u001b[43m=\u001b[49m\u001b[43mcapturable\u001b[49m\u001b[43m,\u001b[49m\n\u001b[32m    797\u001b[39m \u001b[43m    \u001b[49m\u001b[43mdifferentiable\u001b[49m\u001b[43m=\u001b[49m\u001b[43mdifferentiable\u001b[49m\u001b[43m,\u001b[49m\n\u001b[32m    798\u001b[39m \u001b[43m    \u001b[49m\u001b[43mgrad_scale\u001b[49m\u001b[43m=\u001b[49m\u001b[43mgrad_scale\u001b[49m\u001b[43m,\u001b[49m\n\u001b[32m    799\u001b[39m \u001b[43m    \u001b[49m\u001b[43mfound_inf\u001b[49m\u001b[43m=\u001b[49m\u001b[43mfound_inf\u001b[49m\u001b[43m,\u001b[49m\n\u001b[32m    800\u001b[39m \u001b[43m    \u001b[49m\u001b[43mhas_complex\u001b[49m\u001b[43m=\u001b[49m\u001b[43mhas_complex\u001b[49m\u001b[43m,\u001b[49m\n\u001b[32m    801\u001b[39m \u001b[43m\u001b[49m\u001b[43m)\u001b[49m\n",
      "\u001b[36mFile \u001b[39m\u001b[32m/opt/homebrew/Caskroom/miniforge/base/envs/interp-replication/lib/python3.11/site-packages/torch/optim/adamw.py:376\u001b[39m, in \u001b[36m_single_tensor_adamw\u001b[39m\u001b[34m(params, grads, exp_avgs, exp_avg_sqs, max_exp_avg_sqs, state_steps, grad_scale, found_inf, amsgrad, beta1, beta2, lr, weight_decay, eps, maximize, capturable, differentiable, has_complex)\u001b[39m\n\u001b[32m    374\u001b[39m \u001b[38;5;66;03m# Decay the first and second moment running average coefficient\u001b[39;00m\n\u001b[32m    375\u001b[39m exp_avg.lerp_(grad, \u001b[32m1\u001b[39m - beta1)\n\u001b[32m--> \u001b[39m\u001b[32m376\u001b[39m \u001b[43mexp_avg_sq\u001b[49m\u001b[43m.\u001b[49m\u001b[43mmul_\u001b[49m\u001b[43m(\u001b[49m\u001b[43mbeta2\u001b[49m\u001b[43m)\u001b[49m\u001b[43m.\u001b[49m\u001b[43maddcmul_\u001b[49m\u001b[43m(\u001b[49m\u001b[43mgrad\u001b[49m\u001b[43m,\u001b[49m\u001b[43m \u001b[49m\u001b[43mgrad\u001b[49m\u001b[43m,\u001b[49m\u001b[43m \u001b[49m\u001b[43mvalue\u001b[49m\u001b[43m=\u001b[49m\u001b[32;43m1\u001b[39;49m\u001b[43m \u001b[49m\u001b[43m-\u001b[49m\u001b[43m \u001b[49m\u001b[43mbeta2\u001b[49m\u001b[43m)\u001b[49m\n\u001b[32m    378\u001b[39m \u001b[38;5;28;01mif\u001b[39;00m capturable \u001b[38;5;129;01mor\u001b[39;00m differentiable:\n\u001b[32m    379\u001b[39m     step = step_t\n",
      "\u001b[31mKeyboardInterrupt\u001b[39m: "
     ]
    }
   ],
   "source": [
    "## LLM-Generated Usage Example\n",
    "\n",
    "torch.autograd.set_detect_anomaly(True)\n",
    "\n",
    "if __name__ == \"__main__\":\n",
    "    # Config\n",
    "    device = \"cuda\" if torch.cuda.is_available() else \"cpu\"\n",
    "    # Dataset and DataLoader\n",
    "    # Dataset and DataLoader\n",
    "    dataset = SparseAutoencoderDataset(\n",
    "        in_dim=100,\n",
    "        n_samples=10000,\n",
    "        sparsity=0.9,\n",
    "        device=device,\n",
    "    )\n",
    "    dataloader = DataLoader(dataset, batch_size=128, shuffle=True)\n",
    "    # Model\n",
    "    model = ToyResidMLP(config, device=device)\n",
    "    # Train\n",
    "    train_toy_resid_mlp(model, dataloader, lr=8e-2, num_epochs=20, device=device)"
   ]
  },
  {
   "cell_type": "markdown",
   "id": "838c72b4-6661-4d00-b27d-cee3f7ac01ac",
   "metadata": {},
   "source": [
    "## SPD Model and Train Function"
   ]
  },
  {
   "cell_type": "code",
   "execution_count": 8,
   "id": "b9bda061-7487-44ce-9201-dc1f6a34b302",
   "metadata": {},
   "outputs": [
    {
     "name": "stdout",
     "output_type": "stream",
     "text": [
      "tensor([0.0000, 0.0000, 0.0000, 0.3000, 0.7000, 1.0000, 1.0000])\n"
     ]
    }
   ],
   "source": [
    "# generated by LLM\n",
    "\n",
    "class HardSigmoid(nn.Module):\n",
    "    \"\"\"\n",
    "    Implements the hard sigmoid activation function as described in the paper:\n",
    "        σ_H(x) = 0 if x <= 0\n",
    "               = x if 0 < x < 1\n",
    "               = 1 if x >= 1\n",
    "    This is equivalent to: torch.clamp(x, min=0.0, max=1.0)\n",
    "    \"\"\"\n",
    "    def __init__(self):\n",
    "        super().__init__()\n",
    "\n",
    "    def forward(self, x):\n",
    "        # Clamp values between 0 and 1\n",
    "        return torch.clamp(x, min=0.0, max=1.0)"
   ]
  },
  {
   "cell_type": "code",
   "execution_count": null,
   "id": "50310679-3db3-4b7d-8a8b-24c32dc176e6",
   "metadata": {},
   "outputs": [],
   "source": [
    "class SPDModelMLP(nn.Module): \n",
    "    # fix the betas stuff below that's basically a type hint\n",
    "    def __init__(self, target_model, config, device=\"mps\"): \n",
    "        self.device = device\n",
    "        self.target_model = target_model\n",
    "        self.num_layers, self.in_size, self.hidden_size, self.imp_hidden_size = config[\"num_layers\"], config[\"in_size\"], config[\"hidden_size\"], config[\"importance_mlp_size\"]\n",
    "        assert self.device == target_model.device, \"Models not on same device\"\n",
    "        self.C = config[\"subcomponents_per_layer\"]\n",
    "        self.hypers = dict(list(config.items())[4:]) # sets the \"hypers\" to contain all the hyperparameters for the model\n",
    "        \n",
    "        # Subcomponent vectors, each of shape C by in_size; to be used\n",
    "        # with outer product to create our low-rank subcomponent matrices\n",
    "        self.V_in = nn.ParameterList([torch.empty((self.C, in_size,), device=device) for i in range(num_layers)])\n",
    "        self.U_in = nn.ParameterList([torch.empty((self.C, hidden_size,), device=device) for i in range(num_layers)]) \n",
    "        self.V_out = nn.ParameterList([torch.empty((self.C, hidden_size,), device=device) for i in range(num_layers)])\n",
    "        self.U_out = nn.ParameterList([torch.empty((self.C, in_size,), device=device) for i in range(num_layers)])\n",
    "        \n",
    "        # idk what you do with the biases lol\n",
    "        self.b = nn.ParameterList([torch.zeros((hidden_size,), device=device) for i in range(num_layers)])\n",
    "        \n",
    "        # imp_W_in and out etc are the weights for the importance predictor\n",
    "        # should be C networks per layer, mapping 1 -> C -> 1\n",
    "        self.imp_W_gate_in = nn.ParameterList([torch.empty(C, 1, self.imp_hidden_size) for i in range(num_layers)])\n",
    "        self.imp_W_gate_out = nn.ParameterList([torch.empty(C, self.imp_hidden_size, 1) for i in range(num_layers)])\n",
    "        self.imp_b_in = nn.ParameterList([torch.empty(C, self.imp_hidden_size) for i in range(num_layers)])\n",
    "        self.imp_b_out = nn.ParameterList([torch.empty(C, 1) for i in range(num_layers)])\n",
    "        \n",
    "        \n",
    "        # self.pred_weights = torch.empty((num_layers, self.C), device=device)\n",
    "\n",
    "        for param in self.V_in + self.U_in + self.V_out + self.U_out + self.b: \n",
    "            # using xavier anyway -- note that the variance etc is\n",
    "            # changed because we take the outer product in the \n",
    "            # forward pass\n",
    "            nn.init.xavier_normal_(param)\n",
    "\n",
    "        \n",
    "    def forward(self, x, return_activations=False, return_weight_matrices=False, masks=None): # Regular run. Unclear whether I should have masking when I do a regular forward pass.\n",
    "        v_activations = []\n",
    "        weight_matrices = []\n",
    "        x_resid = x.clone()\n",
    "        layerwise_resids = []\n",
    "        \n",
    "        for l in self.num_layers:\n",
    "\n",
    "            if masks is not None: \n",
    "                # may have dimension issues in these einsums :(\n",
    "                ### FULL MASK WEIGHTS\n",
    "                v_activ_layer_in = torch.einsum(\"ni,ci->nc\", x_resid, self.V_in[l]) * masks[l][\"in\"]\n",
    "                layer_hidden = torch.einsum(\"nc,ch->nh\", v_activ_layer_in, self.U_in[l])\n",
    "                v_activ_layer_out = torch.einsum(\"nh,ch->nc\", layer_in, self.V_out[l]) * masks[l][\"out\"]\n",
    "                layer_out = torch.einsum(\"nc,ci->ni\", v_activ_layer_in, self.U_out[l])\n",
    "                \n",
    "                x_resid_layerwise = x.clone()\n",
    "                for l_2 in self.num_layers: # oh god this is so awful. literally sobbing rn. i can't believe I'm writing it like this\n",
    "                    if l_2 == l: \n",
    "                        v_activ_layer_in_l = torch.einsum(\"ni,ci->nc\", x_resid_layerwise, self.V_in[l]) * masks[l][\"in\"]\n",
    "                        layer_hidden_l = torch.einsum(\"nc,ch->nh\", v_activ_layer_in_l, self.U_in[l])\n",
    "                        v_activ_layer_l = torch.einsum(\"nh,ch->nc\", layer_in_l, self.V_out[l]) * masks[l][\"out\"]\n",
    "                        layer_out_l = torch.einsum(\"nc,ci->ni\", v_activ_layer_in_l, self.U_out[l])\n",
    "                    else: # THE SAME EXACT THING EXCEPT WITHOUT THE MASKS >_< \n",
    "                        v_activ_layer_in_l = torch.einsum(\"ni,ci->nc\", x_resid_layerwise, self.V_in[l])\n",
    "                        layer_hidden_l = torch.einsum(\"nc,ch->nh\", v_activ_layer_in_l, self.U_in[l])\n",
    "                        v_activ_layer_l = torch.einsum(\"nh,ch->nc\", layer_in_l, self.V_out[l])\n",
    "                        layer_out_l = torch.einsum(\"nc,ci->ni\", v_activ_layer_in_l, self.U_out[l])\n",
    "                    x_resid_layerwise = x_resid_layerwise + layer_out_l\n",
    "                    \n",
    "                layerwise_resids.append(x_resid_layerwise)\n",
    "                                \n",
    "            else: \n",
    "                # Use outer product to create weights for the layer, then sum all the subcomponents\n",
    "                W_in = torch.einsum(\"ci,ch-> cih\", self.V_in[l], self.U_in[l]).sum(dim=0) # shape i h\n",
    "                W_out = torch.einsum(\"ch,ci-> chi\", self.V_out[l], self.U_out[l]).sum(dim=0) # shape h i\n",
    "                if return_weight_matrices == True:\n",
    "                    weight_matrices.append({\"in\": W_in, \"out\", W_out})\n",
    "                # COMPUTE \n",
    "                layer_in = torch.einsum(\"ni,ih -> nh\", x_resid, W_in) + self.b[l]\n",
    "                layer_out = torch.einsum(\"nh,hi->ni\", F.relu(layer_in), W_out)\n",
    "            \n",
    "            if return_activations == True: \n",
    "                # calculate activations\n",
    "                v_activ_layer_in = torch.einsum(\"ni,ci->nc\", x_resid, self.V_in[l]).unsqueeze(-1)\n",
    "                v_activ_layer_out = torch.einsum(\"nh,ch->nc\", layer_in, self.V_out[l]).unsqueeze(-1)\n",
    "                # both are now shape n,c,1\n",
    "                v_activations.append({\"in\": v_activ_layer_in, \"out\": v_activ_layer_out})\n",
    "                \n",
    "                # code to make sure I'm not doing some goofy shit with the activations at the beginning\n",
    "                check_layer_in_uv = torch.einsum(\"nc,ch->nh\", v_activ_layer_in, self.U_in[l])\n",
    "                assert layer_in == check_layer_in_uv, \"Subcomponent activations not calculated correctly\"\n",
    "                # would in theory have one for the second too but I'm being lazy\n",
    "            \n",
    "            x_resid = x_resid + layer_out\n",
    "\n",
    "        if (return_activations == True) and (return_weight_matrices == True): # these will be used together. should probably merge them into 1 but won't right now\n",
    "            return x_resid, v_activations, weight_matrices \n",
    "        else if masks is not None: \n",
    "            return x_resid, layerwise_resids\n",
    "        else: \n",
    "            return x_resid\n",
    "    \n"
   ]
  },
  {
   "cell_type": "code",
   "execution_count": null,
   "id": "6731eff5-4248-4332-85c5-ca3afc41f411",
   "metadata": {},
   "outputs": [],
   "source": [
    "def generate_batch(config): \n",
    "    # return shape N, config.in_size \n",
    "    pass\n",
    "\n",
    "\n",
    "def train_SPD(spd_model): # could also implement this by passing in the original model\n",
    "    x = generate_batch() # TODO. possibly put in the model? idk if needed.\n",
    "    N = x.shape[0]     # x is shape N by in_size\n",
    "    C = model.C\n",
    "    target_model = spd_model.target_model\n",
    "    hard_sigmoid = HardSigmoid()\n",
    "    \n",
    "    # COMPUTE TARGET OUTPUT\n",
    "    with torch.no_grad(): \n",
    "        target_out = spd_model.target_model(x)\n",
    "\n",
    "    # FAITHFULNESS LOSS\n",
    "    \n",
    "    spd_output, spd_activations spd_weights = model(x, return_activations = True, return_weight_matrices = True)\n",
    "    squared_error = 0\n",
    "    for l in range(num_layers):\n",
    "        in_diff = target_model.W_in[l] - spd_weights[l][\"in\"]\n",
    "        out_diff = target_model.W_out[l] - spd_weights[l][\"out\"]\n",
    "        \n",
    "        # torch.linalg.matrix_norm defaults to the frobenius norm\n",
    "        # this takes the frobenius norm of the diff and then squares it\n",
    "        squared_error_layer = torch.linalg.matrix_norm(in_diff) ** 2 + torch.linalg.matrix_norm(out_diff) ** 2 \n",
    "        squared_error = squared_error + squared_error_layer\n",
    "        \n",
    "    mean_squared_error = squared_error/num_layers\n",
    "    l_faithfulness = mean_squared_error\n",
    "    \n",
    "\n",
    "    ## IMPORTANCE-MINIMALITY LOSS\n",
    "    \n",
    "    pred_importances = []\n",
    "    l_importance_minimality = 0\n",
    "    \n",
    "    for l in range(num_layers):\n",
    "        # both activations are n by c containing dot product so we already have hard_sigmoid\n",
    "        # spd_activations[l][inout] is shape n,c,1 (nco)\n",
    "        # imp_W_in is c by 1 by imp_size (cos)\n",
    "        # want to map to ncs then back to nco\n",
    "        # imp_b_in is shape (C, s) so should broadcast to ncs nicely\n",
    "        \n",
    "        # TODO: DEFINE hard_sigmoid AS A TORCH MODULE SO IT CAN CALCULATE THE DERIVATIVE \n",
    "        # in theory should write this as a bunch of models stored in the main model, but that's not how i did it and i've already \n",
    "        # written this, shrug\n",
    "        components_imp_pred_hidden_in = F.gelu(torch.einsum(\"nco,cos->ncs\", spd_activations[l][\"in\"], spd_model.imp_W_gate_in) + spd_model.imp_b_in)\n",
    "        components_pred_layer_in = hard_sigmoid(torch.einsum(\"ncs,cso->nco\", components_imp_pred_hidden, spd_model.imp_W_gate_out) + spd_model.imp_b_out)\n",
    "\n",
    "        #same thing for the out matrix in layer l\n",
    "        components_imp_pred_hidden_out = F.gelu(torch.einsum(\"nco,cos->ncs\", spd_activations[l][\"out\"], spd_model.imp_W_gate_in) + spd_model.imp_b_in)\n",
    "        components_pred_layer_out = hard_sigmoid(torch.einsum(\"ncs,cso->nco\", components_imp_pred_hidden, spd_model.imp_W_gate_out) + spd_model.imp_b_out)\n",
    "        \n",
    "        pred_importances.append({\"in\": components_pred_layer_in, \"out\": components_pred_layer_out)\n",
    "        l_importance_minimality = l_importance_minimality + (components_pred_layer_in ** spd_model.hypers[\"importance_mlp_size\"]) + (components_pred_layer_out ** spd_model.hypers[\"importance_mlp_size\"])\n",
    "    \n",
    "    l_importance_minimality /= N # divide by N, the batch size, to avg across the batch (notated as B in the paper)\n",
    "\n",
    "\n",
    "\n",
    "    ## STOCHASTIC RECONSTRUCTION LOSS \n",
    "\n",
    "    l_stochastic_recon = 0\n",
    "    l_stochastic_recon_layerwise = 0\n",
    "    R = torch.rand(model.hypers[\"num_mask_samples\"], N, model.num_layers, C)\n",
    "    layer_masks = []\n",
    "\n",
    "    for s in range(model.hypers[\"num_mask_samples\"]):\n",
    "        # Running this with a for loop. This is slow; I'd ideally just run \n",
    "        # something like M = G[None, :, :] + (1 - G[None, :, :]) * R\n",
    "        # But I think there's a clarity tradeoff here so I'm just going to do this for now\n",
    "        for l in range(num_layers):\n",
    "            # ugh, this is pretty bad. Ideally I'd go back and refactor so that I don't \n",
    "            # have separate in and out weights, but this is what I have. going to keep it\n",
    "            # like this for now, but will refactor once I have something that works.\n",
    "            # components pred in is shape N, C, 1, squeeze to N, C. there are L of them\n",
    "            # R is N, L, C, sample just l to get N, C\n",
    "            # I want masks for each component on each layer on each datapoint, so\n",
    "            # masks should be one C vector for each layer, per-datapoint. so NLC\n",
    "            layer_mask_in = pred_importances[l][\"in\"].squeeze() + (torch.ones_like(pred_importances[l][\"in\"]) - pred_importances[l][\"in\"])*R[s,:,l,:]\n",
    "            layer_mask_out = pred_importances[l][\"out\"].squeeze() + (torch.ones_like(pred_importances[l][\"out\"]) - pred_importances[l][\"out\"]) * R [s,:,l,:]\n",
    "            # these are both shape N, C \n",
    "            layer_masks.append({\"in\": layer_mask_in, \"out\": layer_mask_out})\n",
    "        masked_out, layerwise_masked_outs = model(x, masks=layer_masks)\n",
    "        l_stochastic_recon = l_stochastic_recon + torch.linalg.matrix_norm(target_out - masked_out) # uses matrix norm of difference\n",
    "        for i in range(len(layerwise_masked_outs)-1):\n",
    "            l_stochastic_recon_layerwise = l_stochastic_recon_layerwise + torch.linalg.matrix_norm(target_out - layerwise_masked_outs[i])\n",
    "\n",
    "    l_stochastic_recon /= model.hypers[\"num_mask_samples\"]\n",
    "    l_stochastic_recon_layerwise /= (model.hypers[\"num_mask_samples\"] * model.num_layers)\n",
    "\n",
    "    loss = l_faithfulness + model.hypers[\"beta1\"] * l_stochastic_recon + model.hypers[\"beta2\"] * l_stochastic_recon_layerwise + model.hypers[\"beta3\"] * l_importance_minimality\n",
    "\n",
    "    \"\"\"\n",
    "    TODO: \n",
    "    - generate batches\n",
    "        - i want a dataloader object that i can iterate through\n",
    "        - my first test will be the 1-layer 50-hidden 100-in dim\n",
    "    - start testing\n",
    "    - wrap functions with tqdm\n",
    "    \"\"\"\n",
    "\n",
    "    "
   ]
  }
 ],
 "metadata": {
  "kernelspec": {
   "display_name": "interp-replication",
   "language": "python",
   "name": "interp-replication"
  },
  "language_info": {
   "codemirror_mode": {
    "name": "ipython",
    "version": 3
   },
   "file_extension": ".py",
   "mimetype": "text/x-python",
   "name": "python",
   "nbconvert_exporter": "python",
   "pygments_lexer": "ipython3",
   "version": "3.11.13"
  }
 },
 "nbformat": 4,
 "nbformat_minor": 5
}
